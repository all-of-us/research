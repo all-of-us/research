{
 "cells": [
  {
   "cell_type": "code",
   "execution_count": 1,
   "metadata": {},
   "outputs": [
    {
     "name": "stdout",
     "output_type": "stream",
     "text": [
      "  % Total    % Received % Xferd  Average Speed   Time    Time     Time  Current\n",
      "                                 Dload  Upload   Total   Spent    Left  Speed\n",
      "100  464k  100  464k    0     0  1659k      0 --:--:-- --:--:-- --:--:-- 1659k\n"
     ]
    }
   ],
   "source": [
    "!curl -O https://illumina.github.io/NirvanaDocumentation/files/HiSeq.10000.vcf.gz "
   ]
  },
  {
   "cell_type": "code",
   "execution_count": 2,
   "metadata": {},
   "outputs": [
    {
     "name": "stdout",
     "output_type": "stream",
     "text": [
      "env: NIRVANA_SCRATCH=/home/jupyter-user/notebooks/nirvana_scratch\n"
     ]
    }
   ],
   "source": [
    "%env NIRVANA_SCRATCH /home/jupyter-user/notebooks/nirvana_scratch"
   ]
  },
  {
   "cell_type": "code",
   "execution_count": 3,
   "metadata": {},
   "outputs": [
    {
     "name": "stdout",
     "output_type": "stream",
     "text": [
      "---------------------------------------------------------------------------\n",
      "Downloader                                          (c) 2020 Illumina, Inc.\n",
      "Stromberg, Roy, Lajugie, Jiang, Li, and Kang             3.14.0-0-g19868c36\n",
      "---------------------------------------------------------------------------\n",
      "\n",
      "- downloading manifest... 38 files.\n",
      "\n",
      "- downloading file metadata:\n",
      "  - finished (00:00:00.4).\n",
      "\n",
      "- downloading files (21.761 GB):\n",
      "  - downloading MITOMAP_20200819.nsa.idx (GRCh38)\n",
      "  - downloading 1000_Genomes_Project_Phase_3_v3_plus_refMinor.rma.idx (GRCh38)\n",
      "  - downloading ClinVar_20200903.nsa.idx (GRCh38)\n",
      "  - downloading ClinGen_Dosage_Sensitivity_Map_20200913.nsi (GRCh38)\n",
      "  - downloading MITOMAP_SV_20200819.nsi (GRCh38)\n",
      "  - downloading REVEL_20200205.nsa.idx (GRCh38)\n",
      "  - downloading PrimateAI_0.2.nsa.idx (GRCh38)\n",
      "  - downloading ClinGen_Dosage_Sensitivity_Map_20200913.nga (GRCh38)\n",
      "  - downloading dbSNP_151_globalMinor.nsa.idx (GRCh38)\n",
      "  - downloading ClinGen_disease_validity_curations_20200914.nga (GRCh38)\n",
      "  - downloading phyloP_hg38.npd.idx (GRCh38)\n",
      "  - downloading 1000_Genomes_Project_Phase_3_v3_plus.nsa.idx (GRCh38)\n",
      "  - downloading SpliceAi_1.3.nsa.idx (GRCh38)\n",
      "  - downloading TOPMed_freeze_5.nsa.idx (GRCh38)\n",
      "  - downloading dbSNP_154.nsa.idx (GRCh38)\n",
      "  - downloading MITOMAP_20200819.nsa (GRCh38)\n",
      "  - downloading gnomAD_2.1.nsa.idx (GRCh38)\n",
      "  - downloading gnomAD_gene_scores_2.1.nga (GRCh38)\n",
      "  - downloading ClinGen_20160414.nsi (GRCh38)\n",
      "  - downloading 1000_Genomes_Project_(SV)_Phase_3_v5a.nsi (GRCh38)\n",
      "  - downloading OMIM_20200915.nga (GRCh38)\n",
      "  - downloading 1000_Genomes_Project_Phase_3_v3_plus_refMinor.rma (GRCh38)\n",
      "  - downloading MultiZ100Way_20171006.pcs (GRCh38)\n",
      "  - downloading gnomAD_LCR_2.1.lcr (GRCh38)\n",
      "  - downloading ClinVar_20200903.nsa (GRCh38)\n",
      "  - downloading Both.transcripts.ndb (GRCh38)\n",
      "  - downloading REVEL_20200205.nsa (GRCh38)\n",
      "  - downloading PrimateAI_0.2.nsa (GRCh38)\n",
      "  - downloading dbSNP_151_globalMinor.nsa (GRCh38)\n",
      "  - downloading Both.sift.ndb (GRCh38)\n",
      "  - downloading Both.polyphen.ndb (GRCh38)\n",
      "  - downloading Homo_sapiens.GRCh38.Nirvana.dat\n",
      "  - downloading 1000_Genomes_Project_Phase_3_v3_plus.nsa (GRCh38)\n",
      "  - downloading phyloP_hg38.npd (GRCh38)\n",
      "  - downloading SpliceAi_1.3.nsa (GRCh38)\n",
      "  - downloading TOPMed_freeze_5.nsa (GRCh38)\n",
      "  - downloading dbSNP_154.nsa (GRCh38)\n",
      "  - downloading gnomAD_2.1.nsa (GRCh38)\n",
      "  - finished (00:04:20.1).\n",
      "\n",
      "Description                                                     Status\n",
      "---------------------------------------------------------------------------\n",
      "1000_Genomes_Project_(SV)_Phase_3_v5a.nsi (GRCh38)                OK\n",
      "1000_Genomes_Project_Phase_3_v3_plus_refMinor.rma (GRCh38)        OK\n",
      "1000_Genomes_Project_Phase_3_v3_plus_refMinor.rma.idx (...        OK\n",
      "1000_Genomes_Project_Phase_3_v3_plus.nsa (GRCh38)                 OK\n",
      "1000_Genomes_Project_Phase_3_v3_plus.nsa.idx (GRCh38)             OK\n",
      "Both.polyphen.ndb (GRCh38)                                        OK\n",
      "Both.sift.ndb (GRCh38)                                            OK\n",
      "Both.transcripts.ndb (GRCh38)                                     OK\n",
      "ClinGen_20160414.nsi (GRCh38)                                     OK\n",
      "ClinGen_disease_validity_curations_20200914.nga (GRCh38)          OK\n",
      "ClinGen_Dosage_Sensitivity_Map_20200913.nga (GRCh38)              OK\n",
      "ClinGen_Dosage_Sensitivity_Map_20200913.nsi (GRCh38)              OK\n",
      "ClinVar_20200903.nsa (GRCh38)                                     OK\n",
      "ClinVar_20200903.nsa.idx (GRCh38)                                 OK\n",
      "dbSNP_151_globalMinor.nsa (GRCh38)                                OK\n",
      "dbSNP_151_globalMinor.nsa.idx (GRCh38)                            OK\n",
      "dbSNP_154.nsa (GRCh38)                                            OK\n",
      "dbSNP_154.nsa.idx (GRCh38)                                        OK\n",
      "gnomAD_2.1.nsa (GRCh38)                                           OK\n",
      "gnomAD_2.1.nsa.idx (GRCh38)                                       OK\n",
      "gnomAD_gene_scores_2.1.nga (GRCh38)                               OK\n",
      "gnomAD_LCR_2.1.lcr (GRCh38)                                       OK\n",
      "Homo_sapiens.GRCh38.Nirvana.dat                                   OK\n",
      "MITOMAP_20200819.nsa (GRCh38)                                     OK\n",
      "MITOMAP_20200819.nsa.idx (GRCh38)                                 OK\n",
      "MITOMAP_SV_20200819.nsi (GRCh38)                                  OK\n",
      "MultiZ100Way_20171006.pcs (GRCh38)                                OK\n",
      "OMIM_20200915.nga (GRCh38)                                        OK\n",
      "phyloP_hg38.npd (GRCh38)                                          OK\n",
      "phyloP_hg38.npd.idx (GRCh38)                                      OK\n",
      "PrimateAI_0.2.nsa (GRCh38)                                        OK\n",
      "PrimateAI_0.2.nsa.idx (GRCh38)                                    OK\n",
      "REVEL_20200205.nsa (GRCh38)                                       OK\n",
      "REVEL_20200205.nsa.idx (GRCh38)                                   OK\n",
      "SpliceAi_1.3.nsa (GRCh38)                                         OK\n",
      "SpliceAi_1.3.nsa.idx (GRCh38)                                     OK\n",
      "TOPMed_freeze_5.nsa (GRCh38)                                      OK\n",
      "TOPMed_freeze_5.nsa.idx (GRCh38)                                  OK\n",
      "---------------------------------------------------------------------------\n",
      "\n",
      "Time: 00:04:21.2\n"
     ]
    }
   ],
   "source": [
    "%%bash\n",
    "mkdir $NIRVANA_SCRATCH\n",
    "dotnet /opt/nirvana/Downloader.dll --ga GRCh38 -o $NIRVANA_SCRATCH"
   ]
  },
  {
   "cell_type": "code",
   "execution_count": 4,
   "metadata": {},
   "outputs": [
    {
     "name": "stdout",
     "output_type": "stream",
     "text": [
      "---------------------------------------------------------------------------\n",
      "Nirvana                                             (c) 2020 Illumina, Inc.\n",
      "Stromberg, Roy, Lajugie, Jiang, Li, and Kang             3.14.0-0-g19868c36\n",
      "---------------------------------------------------------------------------\n",
      "\n",
      "Initialization                                         Time     Positions/s\n",
      "---------------------------------------------------------------------------\n",
      "Cache                                               00:00:05.7\n",
      "SA Position Scan                                    00:00:00.6       15,639\n",
      "\n",
      "Reference                                Preload    Annotation   Variants/s\n",
      "---------------------------------------------------------------------------\n",
      "chr1                                    00:00:02.1  00:00:08.0        1,241\n",
      "\n",
      "Summary                                                Time         Percent\n",
      "---------------------------------------------------------------------------\n",
      "Initialization                                      00:00:06.3       26.4 %\n",
      "Preload                                             00:00:02.1        9.1 %\n",
      "Annotation                                          00:00:08.0       33.4 %\n",
      "\n",
      "Time: 00:00:23.3\n"
     ]
    }
   ],
   "source": [
    "%%bash\n",
    "# Uncomment if running for the 2nd+ time\n",
    "# rm -f HiSeq_annotations.json.gz\n",
    "# rm -f HiSeq_annotations.json\n",
    "\n",
    "dotnet /opt/nirvana/Nirvana.dll \\\n",
    "     -c $NIRVANA_SCRATCH/Cache/GRCh38/Both \\\n",
    "     -r $NIRVANA_SCRATCH/References/Homo_sapiens.GRCh38.Nirvana.dat \\\n",
    "     --sd $NIRVANA_SCRATCH/SupplementaryAnnotation/GRCh38 \\\n",
    "     -i HiSeq.10000.vcf.gz \\\n",
    "     -o HiSeq_annotations\n",
    "\n",
    "gunzip HiSeq_annotations.json.gz"
   ]
  },
  {
   "cell_type": "code",
   "execution_count": 5,
   "metadata": {},
   "outputs": [
    {
     "name": "stdout",
     "output_type": "stream",
     "text": [
      "{\n",
      "  \"chromosome\": \"chr1\",\n",
      "  \"position\": 109,\n",
      "  \"refAllele\": \"A\",\n",
      "  \"altAlleles\": [\n",
      "    \"T\"\n",
      "  ],\n",
      "  \"quality\": 0,\n",
      "  \"filters\": [\n",
      "    \"FDRtranche2.00to10.00+\"\n",
      "  ],\n",
      "  \"strandBias\": -1042.18,\n",
      "  \"mappingQuality\": 19.2,\n",
      "  \"cytogeneticBand\": \"1p36.33\",\n",
      "  \"samples\": [\n",
      "    {\n",
      "      \"genotype\": \"0/1\",\n",
      "      \"variantFrequencies\": [\n",
      "        0.349\n",
      "      ],\n",
      "      \"totalDepth\": 308,\n",
      "      \"genotypeQuality\": 99,\n",
      "      \"alleleDepths\": [\n",
      "        610,\n",
      "        327\n",
      "      ]\n",
      "    }\n",
      "  ],\n",
      "  \"variants\": [\n",
      "    {\n",
      "      \"vid\": \"1-109-A-T\",\n",
      "      \"chromosome\": \"chr1\",\n",
      "      \"begin\": 109,\n",
      "      \"end\": 109,\n",
      "      \"refAllele\": \"A\",\n",
      "      \"altAllele\": \"T\",\n",
      "      \"variantType\": \"SNV\",\n",
      "      \"hgvsg\": \"NC_000001.11:g.109A>T\"\n",
      "    }\n",
      "  ]\n",
      "}\n"
     ]
    }
   ],
   "source": [
    "import json\n",
    "\n",
    "with open('HiSeq_annotations.json') as json_file:\n",
    "    annotations = json.load(json_file)\n",
    "\n",
    "print(json.dumps(annotations['positions'][0], indent=2))"
   ]
  }
 ],
 "metadata": {
  "kernelspec": {
   "display_name": "Python 3",
   "language": "python",
   "name": "python3"
  },
  "language_info": {
   "codemirror_mode": {
    "name": "ipython",
    "version": 3
   },
   "file_extension": ".py",
   "mimetype": "text/x-python",
   "name": "python",
   "nbconvert_exporter": "python",
   "pygments_lexer": "ipython3",
   "version": "3.7.10"
  },
  "toc": {
   "base_numbering": 1,
   "nav_menu": {},
   "number_sections": true,
   "sideBar": true,
   "skip_h1_title": false,
   "title_cell": "Table of Contents",
   "title_sidebar": "Contents",
   "toc_cell": false,
   "toc_position": {},
   "toc_section_display": true,
   "toc_window_display": false
  }
 },
 "nbformat": 4,
 "nbformat_minor": 2
}
