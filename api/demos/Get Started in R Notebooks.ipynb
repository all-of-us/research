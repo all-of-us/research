{
 "cells": [
  {
   "cell_type": "markdown",
   "metadata": {},
   "source": [
    "# Hello, Workbench! \n",
    "### Here's how to get started using notebooks to analyze _All of Us_ Research Program data.\n",
    "---"
   ]
  },
  {
   "cell_type": "markdown",
   "metadata": {},
   "source": [
    "## What is a Workspace?\n",
    "\n",
    "A **Workspace** is your place to store and analyze data for a specific project. Your Workspace is where you will go to build concept sets and cohorts and launch Notebooks to perform analyses. You can share a Workspace with other users, allowing them to view or edit your work. To learn more about our tools, please refer to the **Quick Tour** located on the Workbench homepage.\n",
    "\n",
    "## What are Notebooks?\n",
    "**Jupyter Notebooks** (like this one) are web applications that you can use to create and share documents that contain live code, equations, visualizations and narrative text. Like a traditional lab notebook, Jupyter Notebooks allow you to capture a complete record of your procedures, analyses, and observations such that another scientist may reproduce your observations.\n",
    "\n",
    "### If you are familiar with using  notebooks for data analysis, here are some resources to get started:\n",
    "* Learn about our data model, which is based on the Observational Health Data Sciences and Informatics (OHDSI) Observational Medical Outcomes Partnership (OMOP) common data model: [CDR metadata documentation](https://github.com/all-of-us/pyclient/blob/master/py/aou_workbench_client/cdr/README.md)\n",
    "    > Ex. Use our CDR documentation to learn that the Person table contains fields such as \"person_id\" and \"year_of_birth\"\n",
    "* To search standard vocaularies used in OMOP, please use [ODHSI's Athena tool](http://athena.ohdsi.org/)\n",
    "    > Ex. Use Athena to learn that a gender_concept_id = 8532 means Female\n",
    "* Learn how to access the All of Us Workbench API from a notebook: [AllofUs Python Client Library README](https://github.com/all-of-us/pyclient/blob/master/py/README.md#materializecohortrequest) \n",
    "    > Ex. Use our Client Library documentation to learn what function to use to load data from our database into your notebook.\n",
    "* Learn how to use concept sets and cohorts in a notebook: **Using Cohorts and Concept Sets** *_currently only available in Python_\n",
    "    > Ex. Use this example notebook as a template for starting an analysis on cohort you created with our cohort builder tool.\n",
    "\n",
    "### [IMPORTANT] Even if you are familiar with using notebooks, read Part II below to learn what packages you need to install to analyze All of Us data in R\n",
    "-----"
   ]
  },
  {
   "cell_type": "markdown",
   "metadata": {},
   "source": [
    "# Using Notebooks - A Quick Overview"
   ]
  },
  {
   "cell_type": "markdown",
   "metadata": {},
   "source": [
    "## Notebook Overview Part I: Cells\n",
    "A notebook contains a list of rectangular boxes called **cells**. Cells contain either explanatory text or executable code and its output. \n",
    "Click once select a cell. Double-click to edit a cell (cells in edit mode appear grey)."
   ]
  },
  {
   "cell_type": "markdown",
   "metadata": {},
   "source": [
    "### This is a text cell\n",
    "Add text to your notebook using Markdown cells. Change the cell type to Markdown by using the Cell menu or selecting \"Markdown\" from the toolbar above. To learn more, see [Working with Markdown Cells](https://jupyter-notebook.readthedocs.io/en/stable/examples/Notebook/Working%20With%20Markdown%20Cells.html).\n",
    "\n",
    "Add math to text cells using [LaTeX](http://www.latex-project.org/) by placing the statement\n",
    "within a pair of **\\$** signs. \n",
    "> For example `$\\int_a^b \\!f(x) \\, \\mathrm{d}x$` becomes\n",
    "$\\int_a^b \\!f(x) \\, \\mathrm{d}x$\n",
    "\n",
    "### The next cell is a code cell\n",
    "Workbench currenlty supports code written in Python 2, Python 3, and R. To change the programming language (called a **\"kernel\"**), use the Kernel menu above to choose the language/version you want.\n",
    "\n",
    ">To execute or \"run\" code, select the cell, then press Shift + Enter. The cell is done executing when [*] at the left of the cell turns into [a number]."
   ]
  },
  {
   "cell_type": "code",
   "execution_count": 1,
   "metadata": {},
   "outputs": [
    {
     "name": "stdout",
     "output_type": "stream",
     "text": [
      "[1] 1e+06\n"
     ]
    }
   ],
   "source": [
    "# This is a code cell\n",
    "# Background: The All of Us Research Program is calling on one million people to join us as we try to change the future of health.\n",
    "\n",
    "AllofUs = 1000000\n",
    "x = 1\n",
    "you = AllofUs/x\n",
    "print(you)\n"
   ]
  },
  {
   "cell_type": "markdown",
   "metadata": {},
   "source": [
    "### Adding and Removing Cells\n",
    "\n",
    "**To add a new cell:**\n",
    "* click the + icon in the menubar\n",
    "* Insert -> Choose Cell Above or Below your current cell\n",
    "* or press ESC A\n",
    "\n",
    "> Try adding a new code cell below this cell\n",
    "\n",
    "**To remove a cell:**\n",
    "* click the scissors icon in the menubar\n",
    "* Edit -> Delete or Cut cells\n",
    "* or press ESC X (for cut) ESC d d (for delete)\n",
    "\n",
    "> Now try removing that cell you added\n"
   ]
  },
  {
   "cell_type": "markdown",
   "metadata": {},
   "source": [
    "---\n",
    "## Notebook Overview Part II. Modules, Packages, Libraries, and Extensions"
   ]
  },
  {
   "cell_type": "markdown",
   "metadata": {},
   "source": [
    "### Modules\n",
    "A **module** is a piece of software with specific functionality. In the R language, modules are fundamental units of reproducible R code. You can import modules into your notebook to get access to specific functions, objects, or classes (which are combinations of variables and functions).\n"
   ]
  },
  {
   "cell_type": "markdown",
   "metadata": {},
   "source": [
    "### Packages and Libraries\n",
    "A **package** is a collection of related modules or functions. In R, A **library** is simply a directory containing installed packages. \n",
    "\n",
    "**Important** The current AllofUs client library is written in Python, so to do analysis in R you will have to:\n",
    "1. Install the reticulate package, which provides a comprehensive set of tools for interoperability between Python and R (details here: https://github.com/rstudio/reticulate)\n",
    "2. Install additional R data analysis packages reccomended in this notebook\n"
   ]
  },
  {
   "cell_type": "markdown",
   "metadata": {},
   "source": [
    "## You must install this reticulate package to use our client library \n",
    "The Reticulate package provides a comprehensive set of tools for interoperability between Python and R (details here: https://github.com/rstudio/reticulate)\n",
    "\n",
    "> Execute the cell below cell to import reticulate. Note that `install.packages()` command is required to install reticulate, and the `library()` command is required to load the reticulate on your system "
   ]
  },
  {
   "cell_type": "code",
   "execution_count": 2,
   "metadata": {},
   "outputs": [
    {
     "name": "stderr",
     "output_type": "stream",
     "text": [
      "Installing package into ‘/home/jupyter-user/.rpackages’\n",
      "(as ‘lib’ is unspecified)\n"
     ]
    }
   ],
   "source": [
    "# install reticulate\n",
    "install.packages(\"reticulate\")\n",
    "library(reticulate)"
   ]
  },
  {
   "cell_type": "markdown",
   "metadata": {},
   "source": [
    "### Popular Packages and Libraries For Data Analysis in R\n",
    "Below are popular packages we reccomend installing for data analysis in R. \n",
    "\n",
    "> Execute each cell below cell to import the package."
   ]
  },
  {
   "cell_type": "code",
   "execution_count": 3,
   "metadata": {},
   "outputs": [
    {
     "name": "stderr",
     "output_type": "stream",
     "text": [
      "Installing package into ‘/home/jupyter-user/.rpackages’\n",
      "(as ‘lib’ is unspecified)\n",
      "also installing the dependency ‘pander’\n",
      "\n"
     ]
    }
   ],
   "source": [
    "# For skimming summary statistics (details here: https://github.com/ropensci/skimr)\n",
    "install.packages('skimr')\n",
    "library(skimr)"
   ]
  },
  {
   "cell_type": "code",
   "execution_count": 4,
   "metadata": {},
   "outputs": [
    {
     "name": "stderr",
     "output_type": "stream",
     "text": [
      "Installing package into ‘/home/jupyter-user/.rpackages’\n",
      "(as ‘lib’ is unspecified)\n",
      "also installing the dependency ‘RcppArmadillo’\n",
      "\n"
     ]
    }
   ],
   "source": [
    "# A collection of helpful functions for summarizing data and formatting results (details here: https://github.com/dewittpe/qwraps2)\n",
    "install.packages('qwraps2')\n",
    "library(qwraps2)"
   ]
  },
  {
   "cell_type": "code",
   "execution_count": 5,
   "metadata": {},
   "outputs": [
    {
     "name": "stderr",
     "output_type": "stream",
     "text": [
      "Installing package into ‘/home/jupyter-user/.rpackages’\n",
      "(as ‘lib’ is unspecified)\n",
      "── Attaching packages ─────────────────────────────────────── tidyverse 1.2.1 ──\n",
      "✔ ggplot2 3.0.0     ✔ purrr   0.2.5\n",
      "✔ tibble  1.4.2     ✔ dplyr   0.7.6\n",
      "✔ tidyr   0.8.1     ✔ stringr 1.3.1\n",
      "✔ readr   1.1.1     ✔ forcats 0.3.0\n",
      "── Conflicts ────────────────────────────────────────── tidyverse_conflicts() ──\n",
      "✖ dplyr::filter() masks stats::filter()\n",
      "✖ dplyr::lag()    masks stats::lag()\n"
     ]
    }
   ],
   "source": [
    "# An \"opnionated\" collection of R packages designed for Data Science \n",
    "install.packages('tidyverse') \n",
    "library(tidyverse)"
   ]
  },
  {
   "cell_type": "code",
   "execution_count": 6,
   "metadata": {},
   "outputs": [
    {
     "name": "stderr",
     "output_type": "stream",
     "text": [
      "Installing package into ‘/home/jupyter-user/.rpackages’\n",
      "(as ‘lib’ is unspecified)\n",
      "also installing the dependency ‘gridExtra’\n",
      "\n",
      "Loading required package: viridisLite\n"
     ]
    }
   ],
   "source": [
    "# A nice color scheme for plots.(details here: https://github.com/sjmgarnier/viridis)\n",
    "install.packages('viridis')\n",
    "library(viridis)"
   ]
  },
  {
   "cell_type": "code",
   "execution_count": 7,
   "metadata": {},
   "outputs": [
    {
     "name": "stderr",
     "output_type": "stream",
     "text": [
      "Installing package into ‘/home/jupyter-user/.rpackages’\n",
      "(as ‘lib’ is unspecified)\n"
     ]
    }
   ],
   "source": [
    "# Common themes to change the look and feel of plots ( details here: https://github.com/jrnold/ggthemes)\n",
    "install.packages('ggthemes')\n",
    "library(ggthemes)"
   ]
  },
  {
   "cell_type": "markdown",
   "metadata": {},
   "source": [
    "### Extensions\n",
    "\n",
    "**Extensions** are optional plug-ins that add functionality to notebooks. Below are are few extensions that the open source community created to add functionality to the Jupyter Notebook. For a more complete list of extensions, please see http://jupyter-contrib-nbextensions.readthedocs.io/en/latest/index.html\n",
    "\n",
    "To install the below notebook extenstions, three steps are required: \n",
    "1. The Python pip package needs to be installed. \n",
    "2. Tthe notebook extensions themselves need to be copied to the Jupyter data directory. \n",
    "3. The installed notebook extensions can be enabled, either by using built-in Jupyter commands, or more conveniently by using the jupyter_nbextensions_configurator server extension. \n",
    "\n",
    "> For more details on how to enable extenstions, see [Installing jupyter_contrib_nbextensions](https://jupyter-contrib-nbextensions.readthedocs.io/en/latest/install.html) or follow the example below"
   ]
  },
  {
   "cell_type": "code",
   "execution_count": 8,
   "metadata": {},
   "outputs": [
    {
     "data": {
      "text/html": [
       "<ol class=list-inline>\n",
       "\t<li>'Collecting jupyter_contrib_nbextensions'</li>\n",
       "\t<li><span style=white-space:pre-wrap>'  Downloading https://files.pythonhosted.org/packages/d2/f1/57cd4d05d7f070e662844a925d6f6d726ecaf93d8cc2d7b56a66c765fb42/jupyter_contrib_nbextensions-0.5.0-py2.py3-none-any.whl (20.9MB)'</span></li>\n",
       "\t<li>'Collecting jupyter_nbextensions_configurator'</li>\n",
       "\t<li><span style=white-space:pre-wrap>'  Downloading https://files.pythonhosted.org/packages/d1/d8/6bf103e0eafd17caef39c37ff70b8d61bfb21cc8cd91c81ba51755421a34/jupyter_nbextensions_configurator-0.4.0-py2.py3-none-any.whl (466kB)'</span></li>\n",
       "\t<li>'Requirement already satisfied: pyyaml in /usr/local/lib/python3.4/dist-packages (from jupyter_contrib_nbextensions) (3.13)'</li>\n",
       "\t<li>'Requirement already satisfied: ipython-genutils in /usr/local/lib/python3.4/dist-packages (from jupyter_contrib_nbextensions) (0.2.0)'</li>\n",
       "\t<li>'Requirement already satisfied: tornado in /usr/local/lib/python3.4/dist-packages (from jupyter_contrib_nbextensions) (5.1)'</li>\n",
       "\t<li>'Requirement already satisfied: traitlets&gt;=4.1 in /usr/local/lib/python3.4/dist-packages (from jupyter_contrib_nbextensions) (4.3.2)'</li>\n",
       "\t<li>'Collecting jupyter-latex-envs&gt;=1.3.8 (from jupyter_contrib_nbextensions)'</li>\n",
       "\t<li><span style=white-space:pre-wrap>'  Downloading https://files.pythonhosted.org/packages/98/db/ef83fb7a8dd71a1c38d8cc5484bb5226dcd8dd996483d6ad3d944670c57b/jupyter_latex_envs-1.4.4.tar.gz (855kB)'</span></li>\n",
       "\t<li>'Requirement already satisfied: notebook&gt;=4.0 in /usr/local/lib/python3.4/dist-packages (from jupyter_contrib_nbextensions) (5.7.0)'</li>\n",
       "\t<li>'Requirement already satisfied: nbconvert&gt;=4.2 in /usr/local/lib/python3.4/dist-packages (from jupyter_contrib_nbextensions) (5.4.0)'</li>\n",
       "\t<li>'Collecting jupyter-highlight-selected-word&gt;=0.1.1 (from jupyter_contrib_nbextensions)'</li>\n",
       "\t<li><span style=white-space:pre-wrap>'  Downloading https://files.pythonhosted.org/packages/50/d7/19ab7cfd60bf268d2abbacc52d4295a40f52d74dfc0d938e4761ee5e598b/jupyter_highlight_selected_word-0.2.0-py2.py3-none-any.whl'</span></li>\n",
       "\t<li>'Collecting jupyter-contrib-core&gt;=0.3.3 (from jupyter_contrib_nbextensions)'</li>\n",
       "\t<li><span style=white-space:pre-wrap>'  Downloading https://files.pythonhosted.org/packages/e6/8f/04a752a8b66a66e7092c035e5d87d2502ac7ec07f9fb6059059b6c0dc272/jupyter_contrib_core-0.3.3-py2.py3-none-any.whl'</span></li>\n",
       "\t<li>'Requirement already satisfied: jupyter-core in /usr/local/lib/python3.4/dist-packages (from jupyter_contrib_nbextensions) (4.4.0)'</li>\n",
       "\t<li>'Collecting lxml (from jupyter_contrib_nbextensions)'</li>\n",
       "\t<li><span style=white-space:pre-wrap>'  Downloading https://files.pythonhosted.org/packages/af/42/7b99fb81aec87691a1a5ac22d525b1fa83b87b8e33ff08871207a6c5446a/lxml-4.2.5-cp34-cp34m-manylinux1_x86_64.whl (5.8MB)'</span></li>\n",
       "\t<li>'Requirement already satisfied: backports_abc&gt;=0.4 in /usr/local/lib/python3.4/dist-packages (from tornado-&gt;jupyter_contrib_nbextensions) (0.5)'</li>\n",
       "\t<li>'Requirement already satisfied: six in /usr/local/lib/python3.4/dist-packages (from traitlets&gt;=4.1-&gt;jupyter_contrib_nbextensions) (1.11.0)'</li>\n",
       "\t<li>'Requirement already satisfied: decorator in /usr/local/lib/python3.4/dist-packages (from traitlets&gt;=4.1-&gt;jupyter_contrib_nbextensions) (4.3.0)'</li>\n",
       "\t<li>'Requirement already satisfied: ipython in /usr/local/lib/python3.4/dist-packages (from jupyter-latex-envs&gt;=1.3.8-&gt;jupyter_contrib_nbextensions) (6.5.0)'</li>\n",
       "\t<li>'Requirement already satisfied: jupyter-client&gt;=5.2.0 in /usr/local/lib/python3.4/dist-packages (from notebook&gt;=4.0-&gt;jupyter_contrib_nbextensions) (5.2.3)'</li>\n",
       "\t<li>'Requirement already satisfied: ipykernel in /usr/local/lib/python3.4/dist-packages (from notebook&gt;=4.0-&gt;jupyter_contrib_nbextensions) (4.8.2)'</li>\n",
       "\t<li>'Requirement already satisfied: prometheus-client in /usr/local/lib/python3.4/dist-packages (from notebook&gt;=4.0-&gt;jupyter_contrib_nbextensions) (0.4.2)'</li>\n",
       "\t<li>'Requirement already satisfied: terminado&gt;=0.8.1 in /usr/local/lib/python3.4/dist-packages (from notebook&gt;=4.0-&gt;jupyter_contrib_nbextensions) (0.8.1)'</li>\n",
       "\t<li>'Requirement already satisfied: pyzmq&gt;=17 in /usr/local/lib/python3.4/dist-packages (from notebook&gt;=4.0-&gt;jupyter_contrib_nbextensions) (17.1.0)'</li>\n",
       "\t<li>'Requirement already satisfied: nbformat in /usr/local/lib/python3.4/dist-packages (from notebook&gt;=4.0-&gt;jupyter_contrib_nbextensions) (4.4.0)'</li>\n",
       "\t<li>'Requirement already satisfied: Send2Trash in /usr/local/lib/python3.4/dist-packages (from notebook&gt;=4.0-&gt;jupyter_contrib_nbextensions) (1.5.0)'</li>\n",
       "\t<li>'Requirement already satisfied: jinja2 in /usr/local/lib/python3.4/dist-packages (from notebook&gt;=4.0-&gt;jupyter_contrib_nbextensions) (2.10)'</li>\n",
       "\t<li>'Requirement already satisfied: pandocfilters&gt;=1.4.1 in /usr/local/lib/python3.4/dist-packages (from nbconvert&gt;=4.2-&gt;jupyter_contrib_nbextensions) (1.4.2)'</li>\n",
       "\t<li>'Requirement already satisfied: testpath in /usr/local/lib/python3.4/dist-packages (from nbconvert&gt;=4.2-&gt;jupyter_contrib_nbextensions) (0.4.2)'</li>\n",
       "\t<li>'Requirement already satisfied: entrypoints&gt;=0.2.2 in /usr/local/lib/python3.4/dist-packages (from nbconvert&gt;=4.2-&gt;jupyter_contrib_nbextensions) (0.2.3)'</li>\n",
       "\t<li>'Requirement already satisfied: mistune&gt;=0.8.1 in /usr/local/lib/python3.4/dist-packages (from nbconvert&gt;=4.2-&gt;jupyter_contrib_nbextensions) (0.8.4)'</li>\n",
       "\t<li>'Requirement already satisfied: pygments in /usr/local/lib/python3.4/dist-packages (from nbconvert&gt;=4.2-&gt;jupyter_contrib_nbextensions) (2.2.0)'</li>\n",
       "\t<li>'Requirement already satisfied: bleach in /usr/local/lib/python3.4/dist-packages (from nbconvert&gt;=4.2-&gt;jupyter_contrib_nbextensions) (3.0.2)'</li>\n",
       "\t<li>'Requirement already satisfied: defusedxml in /usr/local/lib/python3.4/dist-packages (from nbconvert&gt;=4.2-&gt;jupyter_contrib_nbextensions) (0.5.0)'</li>\n",
       "\t<li>'Requirement already satisfied: setuptools in /usr/local/lib/python3.4/dist-packages (from jupyter-contrib-core&gt;=0.3.3-&gt;jupyter_contrib_nbextensions) (40.0.0)'</li>\n",
       "\t<li>'Requirement already satisfied: typing; python_version &lt;= \"3.4\" in /usr/local/lib/python3.4/dist-packages (from ipython-&gt;jupyter-latex-envs&gt;=1.3.8-&gt;jupyter_contrib_nbextensions) (3.6.4)'</li>\n",
       "\t<li>'Requirement already satisfied: pexpect; sys_platform != \"win32\" in /usr/local/lib/python3.4/dist-packages (from ipython-&gt;jupyter-latex-envs&gt;=1.3.8-&gt;jupyter_contrib_nbextensions) (4.6.0)'</li>\n",
       "\t<li>'Requirement already satisfied: backcall in /usr/local/lib/python3.4/dist-packages (from ipython-&gt;jupyter-latex-envs&gt;=1.3.8-&gt;jupyter_contrib_nbextensions) (0.1.0)'</li>\n",
       "\t<li>'Requirement already satisfied: pickleshare in /usr/local/lib/python3.4/dist-packages (from ipython-&gt;jupyter-latex-envs&gt;=1.3.8-&gt;jupyter_contrib_nbextensions) (0.7.4)'</li>\n",
       "\t<li>'Requirement already satisfied: jedi&gt;=0.10 in /usr/local/lib/python3.4/dist-packages (from ipython-&gt;jupyter-latex-envs&gt;=1.3.8-&gt;jupyter_contrib_nbextensions) (0.12.1)'</li>\n",
       "\t<li>'Requirement already satisfied: simplegeneric&gt;0.8 in /usr/local/lib/python3.4/dist-packages (from ipython-&gt;jupyter-latex-envs&gt;=1.3.8-&gt;jupyter_contrib_nbextensions) (0.8.1)'</li>\n",
       "\t<li>'Requirement already satisfied: prompt-toolkit&lt;2.0.0,&gt;=1.0.15 in /usr/local/lib/python3.4/dist-packages (from ipython-&gt;jupyter-latex-envs&gt;=1.3.8-&gt;jupyter_contrib_nbextensions) (1.0.15)'</li>\n",
       "\t<li>'Requirement already satisfied: python-dateutil&gt;=2.1 in /usr/local/lib/python3.4/dist-packages (from jupyter-client&gt;=5.2.0-&gt;notebook&gt;=4.0-&gt;jupyter_contrib_nbextensions) (2.7.3)'</li>\n",
       "\t<li>'Requirement already satisfied: ptyprocess; os_name != \"nt\" in /usr/local/lib/python3.4/dist-packages (from terminado&gt;=0.8.1-&gt;notebook&gt;=4.0-&gt;jupyter_contrib_nbextensions) (0.6.0)'</li>\n",
       "\t<li>'Requirement already satisfied: jsonschema!=2.5.0,&gt;=2.4 in /usr/local/lib/python3.4/dist-packages (from nbformat-&gt;notebook&gt;=4.0-&gt;jupyter_contrib_nbextensions) (2.6.0)'</li>\n",
       "\t<li>'Requirement already satisfied: MarkupSafe&gt;=0.23 in /usr/local/lib/python3.4/dist-packages (from jinja2-&gt;notebook&gt;=4.0-&gt;jupyter_contrib_nbextensions) (1.0)'</li>\n",
       "\t<li>'Requirement already satisfied: webencodings in /usr/local/lib/python3.4/dist-packages (from bleach-&gt;nbconvert&gt;=4.2-&gt;jupyter_contrib_nbextensions) (0.5.1)'</li>\n",
       "\t<li>'Requirement already satisfied: parso&gt;=0.3.0 in /usr/local/lib/python3.4/dist-packages (from jedi&gt;=0.10-&gt;ipython-&gt;jupyter-latex-envs&gt;=1.3.8-&gt;jupyter_contrib_nbextensions) (0.3.1)'</li>\n",
       "\t<li>'Requirement already satisfied: wcwidth in /usr/local/lib/python3.4/dist-packages (from prompt-toolkit&lt;2.0.0,&gt;=1.0.15-&gt;ipython-&gt;jupyter-latex-envs&gt;=1.3.8-&gt;jupyter_contrib_nbextensions) (0.1.7)'</li>\n",
       "\t<li>'Building wheels for collected packages: jupyter-latex-envs'</li>\n",
       "\t<li><span style=white-space:pre-wrap>'  Running setup.py bdist_wheel for jupyter-latex-envs: started'</span></li>\n",
       "\t<li><span style=white-space:pre-wrap>'  Running setup.py bdist_wheel for jupyter-latex-envs: finished with status \\'done\\''</span></li>\n",
       "\t<li><span style=white-space:pre-wrap>'  Stored in directory: /home/jupyter-user/.cache/pip/wheels/65/c1/0f/b90b6d7032c79ee40181fdadb72b2ef9a186f02269d6c52f02'</span></li>\n",
       "\t<li>'Successfully built jupyter-latex-envs'</li>\n",
       "\t<li>'Installing collected packages: jupyter-latex-envs, jupyter-highlight-selected-word, jupyter-contrib-core, jupyter-nbextensions-configurator, lxml, jupyter-contrib-nbextensions'</li>\n",
       "\t<li>'Successfully installed jupyter-contrib-core-0.3.3 jupyter-contrib-nbextensions-0.5.0 jupyter-highlight-selected-word-0.2.0 jupyter-latex-envs-1.4.4 jupyter-nbextensions-configurator-0.4.0 lxml-4.2.5'</li>\n",
       "</ol>\n"
      ],
      "text/latex": [
       "\\begin{enumerate*}\n",
       "\\item 'Collecting jupyter\\_contrib\\_nbextensions'\n",
       "\\item '  Downloading https://files.pythonhosted.org/packages/d2/f1/57cd4d05d7f070e662844a925d6f6d726ecaf93d8cc2d7b56a66c765fb42/jupyter\\_contrib\\_nbextensions-0.5.0-py2.py3-none-any.whl (20.9MB)'\n",
       "\\item 'Collecting jupyter\\_nbextensions\\_configurator'\n",
       "\\item '  Downloading https://files.pythonhosted.org/packages/d1/d8/6bf103e0eafd17caef39c37ff70b8d61bfb21cc8cd91c81ba51755421a34/jupyter\\_nbextensions\\_configurator-0.4.0-py2.py3-none-any.whl (466kB)'\n",
       "\\item 'Requirement already satisfied: pyyaml in /usr/local/lib/python3.4/dist-packages (from jupyter\\_contrib\\_nbextensions) (3.13)'\n",
       "\\item 'Requirement already satisfied: ipython-genutils in /usr/local/lib/python3.4/dist-packages (from jupyter\\_contrib\\_nbextensions) (0.2.0)'\n",
       "\\item 'Requirement already satisfied: tornado in /usr/local/lib/python3.4/dist-packages (from jupyter\\_contrib\\_nbextensions) (5.1)'\n",
       "\\item 'Requirement already satisfied: traitlets>=4.1 in /usr/local/lib/python3.4/dist-packages (from jupyter\\_contrib\\_nbextensions) (4.3.2)'\n",
       "\\item 'Collecting jupyter-latex-envs>=1.3.8 (from jupyter\\_contrib\\_nbextensions)'\n",
       "\\item '  Downloading https://files.pythonhosted.org/packages/98/db/ef83fb7a8dd71a1c38d8cc5484bb5226dcd8dd996483d6ad3d944670c57b/jupyter\\_latex\\_envs-1.4.4.tar.gz (855kB)'\n",
       "\\item 'Requirement already satisfied: notebook>=4.0 in /usr/local/lib/python3.4/dist-packages (from jupyter\\_contrib\\_nbextensions) (5.7.0)'\n",
       "\\item 'Requirement already satisfied: nbconvert>=4.2 in /usr/local/lib/python3.4/dist-packages (from jupyter\\_contrib\\_nbextensions) (5.4.0)'\n",
       "\\item 'Collecting jupyter-highlight-selected-word>=0.1.1 (from jupyter\\_contrib\\_nbextensions)'\n",
       "\\item '  Downloading https://files.pythonhosted.org/packages/50/d7/19ab7cfd60bf268d2abbacc52d4295a40f52d74dfc0d938e4761ee5e598b/jupyter\\_highlight\\_selected\\_word-0.2.0-py2.py3-none-any.whl'\n",
       "\\item 'Collecting jupyter-contrib-core>=0.3.3 (from jupyter\\_contrib\\_nbextensions)'\n",
       "\\item '  Downloading https://files.pythonhosted.org/packages/e6/8f/04a752a8b66a66e7092c035e5d87d2502ac7ec07f9fb6059059b6c0dc272/jupyter\\_contrib\\_core-0.3.3-py2.py3-none-any.whl'\n",
       "\\item 'Requirement already satisfied: jupyter-core in /usr/local/lib/python3.4/dist-packages (from jupyter\\_contrib\\_nbextensions) (4.4.0)'\n",
       "\\item 'Collecting lxml (from jupyter\\_contrib\\_nbextensions)'\n",
       "\\item '  Downloading https://files.pythonhosted.org/packages/af/42/7b99fb81aec87691a1a5ac22d525b1fa83b87b8e33ff08871207a6c5446a/lxml-4.2.5-cp34-cp34m-manylinux1\\_x86\\_64.whl (5.8MB)'\n",
       "\\item 'Requirement already satisfied: backports\\_abc>=0.4 in /usr/local/lib/python3.4/dist-packages (from tornado->jupyter\\_contrib\\_nbextensions) (0.5)'\n",
       "\\item 'Requirement already satisfied: six in /usr/local/lib/python3.4/dist-packages (from traitlets>=4.1->jupyter\\_contrib\\_nbextensions) (1.11.0)'\n",
       "\\item 'Requirement already satisfied: decorator in /usr/local/lib/python3.4/dist-packages (from traitlets>=4.1->jupyter\\_contrib\\_nbextensions) (4.3.0)'\n",
       "\\item 'Requirement already satisfied: ipython in /usr/local/lib/python3.4/dist-packages (from jupyter-latex-envs>=1.3.8->jupyter\\_contrib\\_nbextensions) (6.5.0)'\n",
       "\\item 'Requirement already satisfied: jupyter-client>=5.2.0 in /usr/local/lib/python3.4/dist-packages (from notebook>=4.0->jupyter\\_contrib\\_nbextensions) (5.2.3)'\n",
       "\\item 'Requirement already satisfied: ipykernel in /usr/local/lib/python3.4/dist-packages (from notebook>=4.0->jupyter\\_contrib\\_nbextensions) (4.8.2)'\n",
       "\\item 'Requirement already satisfied: prometheus-client in /usr/local/lib/python3.4/dist-packages (from notebook>=4.0->jupyter\\_contrib\\_nbextensions) (0.4.2)'\n",
       "\\item 'Requirement already satisfied: terminado>=0.8.1 in /usr/local/lib/python3.4/dist-packages (from notebook>=4.0->jupyter\\_contrib\\_nbextensions) (0.8.1)'\n",
       "\\item 'Requirement already satisfied: pyzmq>=17 in /usr/local/lib/python3.4/dist-packages (from notebook>=4.0->jupyter\\_contrib\\_nbextensions) (17.1.0)'\n",
       "\\item 'Requirement already satisfied: nbformat in /usr/local/lib/python3.4/dist-packages (from notebook>=4.0->jupyter\\_contrib\\_nbextensions) (4.4.0)'\n",
       "\\item 'Requirement already satisfied: Send2Trash in /usr/local/lib/python3.4/dist-packages (from notebook>=4.0->jupyter\\_contrib\\_nbextensions) (1.5.0)'\n",
       "\\item 'Requirement already satisfied: jinja2 in /usr/local/lib/python3.4/dist-packages (from notebook>=4.0->jupyter\\_contrib\\_nbextensions) (2.10)'\n",
       "\\item 'Requirement already satisfied: pandocfilters>=1.4.1 in /usr/local/lib/python3.4/dist-packages (from nbconvert>=4.2->jupyter\\_contrib\\_nbextensions) (1.4.2)'\n",
       "\\item 'Requirement already satisfied: testpath in /usr/local/lib/python3.4/dist-packages (from nbconvert>=4.2->jupyter\\_contrib\\_nbextensions) (0.4.2)'\n",
       "\\item 'Requirement already satisfied: entrypoints>=0.2.2 in /usr/local/lib/python3.4/dist-packages (from nbconvert>=4.2->jupyter\\_contrib\\_nbextensions) (0.2.3)'\n",
       "\\item 'Requirement already satisfied: mistune>=0.8.1 in /usr/local/lib/python3.4/dist-packages (from nbconvert>=4.2->jupyter\\_contrib\\_nbextensions) (0.8.4)'\n",
       "\\item 'Requirement already satisfied: pygments in /usr/local/lib/python3.4/dist-packages (from nbconvert>=4.2->jupyter\\_contrib\\_nbextensions) (2.2.0)'\n",
       "\\item 'Requirement already satisfied: bleach in /usr/local/lib/python3.4/dist-packages (from nbconvert>=4.2->jupyter\\_contrib\\_nbextensions) (3.0.2)'\n",
       "\\item 'Requirement already satisfied: defusedxml in /usr/local/lib/python3.4/dist-packages (from nbconvert>=4.2->jupyter\\_contrib\\_nbextensions) (0.5.0)'\n",
       "\\item 'Requirement already satisfied: setuptools in /usr/local/lib/python3.4/dist-packages (from jupyter-contrib-core>=0.3.3->jupyter\\_contrib\\_nbextensions) (40.0.0)'\n",
       "\\item 'Requirement already satisfied: typing; python\\_version <= \"3.4\" in /usr/local/lib/python3.4/dist-packages (from ipython->jupyter-latex-envs>=1.3.8->jupyter\\_contrib\\_nbextensions) (3.6.4)'\n",
       "\\item 'Requirement already satisfied: pexpect; sys\\_platform != \"win32\" in /usr/local/lib/python3.4/dist-packages (from ipython->jupyter-latex-envs>=1.3.8->jupyter\\_contrib\\_nbextensions) (4.6.0)'\n",
       "\\item 'Requirement already satisfied: backcall in /usr/local/lib/python3.4/dist-packages (from ipython->jupyter-latex-envs>=1.3.8->jupyter\\_contrib\\_nbextensions) (0.1.0)'\n",
       "\\item 'Requirement already satisfied: pickleshare in /usr/local/lib/python3.4/dist-packages (from ipython->jupyter-latex-envs>=1.3.8->jupyter\\_contrib\\_nbextensions) (0.7.4)'\n",
       "\\item 'Requirement already satisfied: jedi>=0.10 in /usr/local/lib/python3.4/dist-packages (from ipython->jupyter-latex-envs>=1.3.8->jupyter\\_contrib\\_nbextensions) (0.12.1)'\n",
       "\\item 'Requirement already satisfied: simplegeneric>0.8 in /usr/local/lib/python3.4/dist-packages (from ipython->jupyter-latex-envs>=1.3.8->jupyter\\_contrib\\_nbextensions) (0.8.1)'\n",
       "\\item 'Requirement already satisfied: prompt-toolkit<2.0.0,>=1.0.15 in /usr/local/lib/python3.4/dist-packages (from ipython->jupyter-latex-envs>=1.3.8->jupyter\\_contrib\\_nbextensions) (1.0.15)'\n",
       "\\item 'Requirement already satisfied: python-dateutil>=2.1 in /usr/local/lib/python3.4/dist-packages (from jupyter-client>=5.2.0->notebook>=4.0->jupyter\\_contrib\\_nbextensions) (2.7.3)'\n",
       "\\item 'Requirement already satisfied: ptyprocess; os\\_name != \"nt\" in /usr/local/lib/python3.4/dist-packages (from terminado>=0.8.1->notebook>=4.0->jupyter\\_contrib\\_nbextensions) (0.6.0)'\n",
       "\\item 'Requirement already satisfied: jsonschema!=2.5.0,>=2.4 in /usr/local/lib/python3.4/dist-packages (from nbformat->notebook>=4.0->jupyter\\_contrib\\_nbextensions) (2.6.0)'\n",
       "\\item 'Requirement already satisfied: MarkupSafe>=0.23 in /usr/local/lib/python3.4/dist-packages (from jinja2->notebook>=4.0->jupyter\\_contrib\\_nbextensions) (1.0)'\n",
       "\\item 'Requirement already satisfied: webencodings in /usr/local/lib/python3.4/dist-packages (from bleach->nbconvert>=4.2->jupyter\\_contrib\\_nbextensions) (0.5.1)'\n",
       "\\item 'Requirement already satisfied: parso>=0.3.0 in /usr/local/lib/python3.4/dist-packages (from jedi>=0.10->ipython->jupyter-latex-envs>=1.3.8->jupyter\\_contrib\\_nbextensions) (0.3.1)'\n",
       "\\item 'Requirement already satisfied: wcwidth in /usr/local/lib/python3.4/dist-packages (from prompt-toolkit<2.0.0,>=1.0.15->ipython->jupyter-latex-envs>=1.3.8->jupyter\\_contrib\\_nbextensions) (0.1.7)'\n",
       "\\item 'Building wheels for collected packages: jupyter-latex-envs'\n",
       "\\item '  Running setup.py bdist\\_wheel for jupyter-latex-envs: started'\n",
       "\\item '  Running setup.py bdist\\_wheel for jupyter-latex-envs: finished with status \\textbackslash{}'done\\textbackslash{}''\n",
       "\\item '  Stored in directory: /home/jupyter-user/.cache/pip/wheels/65/c1/0f/b90b6d7032c79ee40181fdadb72b2ef9a186f02269d6c52f02'\n",
       "\\item 'Successfully built jupyter-latex-envs'\n",
       "\\item 'Installing collected packages: jupyter-latex-envs, jupyter-highlight-selected-word, jupyter-contrib-core, jupyter-nbextensions-configurator, lxml, jupyter-contrib-nbextensions'\n",
       "\\item 'Successfully installed jupyter-contrib-core-0.3.3 jupyter-contrib-nbextensions-0.5.0 jupyter-highlight-selected-word-0.2.0 jupyter-latex-envs-1.4.4 jupyter-nbextensions-configurator-0.4.0 lxml-4.2.5'\n",
       "\\end{enumerate*}\n"
      ],
      "text/markdown": [
       "1. 'Collecting jupyter_contrib_nbextensions'\n",
       "2. <span style=white-space:pre-wrap>'  Downloading https://files.pythonhosted.org/packages/d2/f1/57cd4d05d7f070e662844a925d6f6d726ecaf93d8cc2d7b56a66c765fb42/jupyter_contrib_nbextensions-0.5.0-py2.py3-none-any.whl (20.9MB)'</span>\n",
       "3. 'Collecting jupyter_nbextensions_configurator'\n",
       "4. <span style=white-space:pre-wrap>'  Downloading https://files.pythonhosted.org/packages/d1/d8/6bf103e0eafd17caef39c37ff70b8d61bfb21cc8cd91c81ba51755421a34/jupyter_nbextensions_configurator-0.4.0-py2.py3-none-any.whl (466kB)'</span>\n",
       "5. 'Requirement already satisfied: pyyaml in /usr/local/lib/python3.4/dist-packages (from jupyter_contrib_nbextensions) (3.13)'\n",
       "6. 'Requirement already satisfied: ipython-genutils in /usr/local/lib/python3.4/dist-packages (from jupyter_contrib_nbextensions) (0.2.0)'\n",
       "7. 'Requirement already satisfied: tornado in /usr/local/lib/python3.4/dist-packages (from jupyter_contrib_nbextensions) (5.1)'\n",
       "8. 'Requirement already satisfied: traitlets&gt;=4.1 in /usr/local/lib/python3.4/dist-packages (from jupyter_contrib_nbextensions) (4.3.2)'\n",
       "9. 'Collecting jupyter-latex-envs&gt;=1.3.8 (from jupyter_contrib_nbextensions)'\n",
       "10. <span style=white-space:pre-wrap>'  Downloading https://files.pythonhosted.org/packages/98/db/ef83fb7a8dd71a1c38d8cc5484bb5226dcd8dd996483d6ad3d944670c57b/jupyter_latex_envs-1.4.4.tar.gz (855kB)'</span>\n",
       "11. 'Requirement already satisfied: notebook&gt;=4.0 in /usr/local/lib/python3.4/dist-packages (from jupyter_contrib_nbextensions) (5.7.0)'\n",
       "12. 'Requirement already satisfied: nbconvert&gt;=4.2 in /usr/local/lib/python3.4/dist-packages (from jupyter_contrib_nbextensions) (5.4.0)'\n",
       "13. 'Collecting jupyter-highlight-selected-word&gt;=0.1.1 (from jupyter_contrib_nbextensions)'\n",
       "14. <span style=white-space:pre-wrap>'  Downloading https://files.pythonhosted.org/packages/50/d7/19ab7cfd60bf268d2abbacc52d4295a40f52d74dfc0d938e4761ee5e598b/jupyter_highlight_selected_word-0.2.0-py2.py3-none-any.whl'</span>\n",
       "15. 'Collecting jupyter-contrib-core&gt;=0.3.3 (from jupyter_contrib_nbextensions)'\n",
       "16. <span style=white-space:pre-wrap>'  Downloading https://files.pythonhosted.org/packages/e6/8f/04a752a8b66a66e7092c035e5d87d2502ac7ec07f9fb6059059b6c0dc272/jupyter_contrib_core-0.3.3-py2.py3-none-any.whl'</span>\n",
       "17. 'Requirement already satisfied: jupyter-core in /usr/local/lib/python3.4/dist-packages (from jupyter_contrib_nbextensions) (4.4.0)'\n",
       "18. 'Collecting lxml (from jupyter_contrib_nbextensions)'\n",
       "19. <span style=white-space:pre-wrap>'  Downloading https://files.pythonhosted.org/packages/af/42/7b99fb81aec87691a1a5ac22d525b1fa83b87b8e33ff08871207a6c5446a/lxml-4.2.5-cp34-cp34m-manylinux1_x86_64.whl (5.8MB)'</span>\n",
       "20. 'Requirement already satisfied: backports_abc&gt;=0.4 in /usr/local/lib/python3.4/dist-packages (from tornado-&gt;jupyter_contrib_nbextensions) (0.5)'\n",
       "21. 'Requirement already satisfied: six in /usr/local/lib/python3.4/dist-packages (from traitlets&gt;=4.1-&gt;jupyter_contrib_nbextensions) (1.11.0)'\n",
       "22. 'Requirement already satisfied: decorator in /usr/local/lib/python3.4/dist-packages (from traitlets&gt;=4.1-&gt;jupyter_contrib_nbextensions) (4.3.0)'\n",
       "23. 'Requirement already satisfied: ipython in /usr/local/lib/python3.4/dist-packages (from jupyter-latex-envs&gt;=1.3.8-&gt;jupyter_contrib_nbextensions) (6.5.0)'\n",
       "24. 'Requirement already satisfied: jupyter-client&gt;=5.2.0 in /usr/local/lib/python3.4/dist-packages (from notebook&gt;=4.0-&gt;jupyter_contrib_nbextensions) (5.2.3)'\n",
       "25. 'Requirement already satisfied: ipykernel in /usr/local/lib/python3.4/dist-packages (from notebook&gt;=4.0-&gt;jupyter_contrib_nbextensions) (4.8.2)'\n",
       "26. 'Requirement already satisfied: prometheus-client in /usr/local/lib/python3.4/dist-packages (from notebook&gt;=4.0-&gt;jupyter_contrib_nbextensions) (0.4.2)'\n",
       "27. 'Requirement already satisfied: terminado&gt;=0.8.1 in /usr/local/lib/python3.4/dist-packages (from notebook&gt;=4.0-&gt;jupyter_contrib_nbextensions) (0.8.1)'\n",
       "28. 'Requirement already satisfied: pyzmq&gt;=17 in /usr/local/lib/python3.4/dist-packages (from notebook&gt;=4.0-&gt;jupyter_contrib_nbextensions) (17.1.0)'\n",
       "29. 'Requirement already satisfied: nbformat in /usr/local/lib/python3.4/dist-packages (from notebook&gt;=4.0-&gt;jupyter_contrib_nbextensions) (4.4.0)'\n",
       "30. 'Requirement already satisfied: Send2Trash in /usr/local/lib/python3.4/dist-packages (from notebook&gt;=4.0-&gt;jupyter_contrib_nbextensions) (1.5.0)'\n",
       "31. 'Requirement already satisfied: jinja2 in /usr/local/lib/python3.4/dist-packages (from notebook&gt;=4.0-&gt;jupyter_contrib_nbextensions) (2.10)'\n",
       "32. 'Requirement already satisfied: pandocfilters&gt;=1.4.1 in /usr/local/lib/python3.4/dist-packages (from nbconvert&gt;=4.2-&gt;jupyter_contrib_nbextensions) (1.4.2)'\n",
       "33. 'Requirement already satisfied: testpath in /usr/local/lib/python3.4/dist-packages (from nbconvert&gt;=4.2-&gt;jupyter_contrib_nbextensions) (0.4.2)'\n",
       "34. 'Requirement already satisfied: entrypoints&gt;=0.2.2 in /usr/local/lib/python3.4/dist-packages (from nbconvert&gt;=4.2-&gt;jupyter_contrib_nbextensions) (0.2.3)'\n",
       "35. 'Requirement already satisfied: mistune&gt;=0.8.1 in /usr/local/lib/python3.4/dist-packages (from nbconvert&gt;=4.2-&gt;jupyter_contrib_nbextensions) (0.8.4)'\n",
       "36. 'Requirement already satisfied: pygments in /usr/local/lib/python3.4/dist-packages (from nbconvert&gt;=4.2-&gt;jupyter_contrib_nbextensions) (2.2.0)'\n",
       "37. 'Requirement already satisfied: bleach in /usr/local/lib/python3.4/dist-packages (from nbconvert&gt;=4.2-&gt;jupyter_contrib_nbextensions) (3.0.2)'\n",
       "38. 'Requirement already satisfied: defusedxml in /usr/local/lib/python3.4/dist-packages (from nbconvert&gt;=4.2-&gt;jupyter_contrib_nbextensions) (0.5.0)'\n",
       "39. 'Requirement already satisfied: setuptools in /usr/local/lib/python3.4/dist-packages (from jupyter-contrib-core&gt;=0.3.3-&gt;jupyter_contrib_nbextensions) (40.0.0)'\n",
       "40. 'Requirement already satisfied: typing; python_version &lt;= \"3.4\" in /usr/local/lib/python3.4/dist-packages (from ipython-&gt;jupyter-latex-envs&gt;=1.3.8-&gt;jupyter_contrib_nbextensions) (3.6.4)'\n",
       "41. 'Requirement already satisfied: pexpect; sys_platform != \"win32\" in /usr/local/lib/python3.4/dist-packages (from ipython-&gt;jupyter-latex-envs&gt;=1.3.8-&gt;jupyter_contrib_nbextensions) (4.6.0)'\n",
       "42. 'Requirement already satisfied: backcall in /usr/local/lib/python3.4/dist-packages (from ipython-&gt;jupyter-latex-envs&gt;=1.3.8-&gt;jupyter_contrib_nbextensions) (0.1.0)'\n",
       "43. 'Requirement already satisfied: pickleshare in /usr/local/lib/python3.4/dist-packages (from ipython-&gt;jupyter-latex-envs&gt;=1.3.8-&gt;jupyter_contrib_nbextensions) (0.7.4)'\n",
       "44. 'Requirement already satisfied: jedi&gt;=0.10 in /usr/local/lib/python3.4/dist-packages (from ipython-&gt;jupyter-latex-envs&gt;=1.3.8-&gt;jupyter_contrib_nbextensions) (0.12.1)'\n",
       "45. 'Requirement already satisfied: simplegeneric&gt;0.8 in /usr/local/lib/python3.4/dist-packages (from ipython-&gt;jupyter-latex-envs&gt;=1.3.8-&gt;jupyter_contrib_nbextensions) (0.8.1)'\n",
       "46. 'Requirement already satisfied: prompt-toolkit&lt;2.0.0,&gt;=1.0.15 in /usr/local/lib/python3.4/dist-packages (from ipython-&gt;jupyter-latex-envs&gt;=1.3.8-&gt;jupyter_contrib_nbextensions) (1.0.15)'\n",
       "47. 'Requirement already satisfied: python-dateutil&gt;=2.1 in /usr/local/lib/python3.4/dist-packages (from jupyter-client&gt;=5.2.0-&gt;notebook&gt;=4.0-&gt;jupyter_contrib_nbextensions) (2.7.3)'\n",
       "48. 'Requirement already satisfied: ptyprocess; os_name != \"nt\" in /usr/local/lib/python3.4/dist-packages (from terminado&gt;=0.8.1-&gt;notebook&gt;=4.0-&gt;jupyter_contrib_nbextensions) (0.6.0)'\n",
       "49. 'Requirement already satisfied: jsonschema!=2.5.0,&gt;=2.4 in /usr/local/lib/python3.4/dist-packages (from nbformat-&gt;notebook&gt;=4.0-&gt;jupyter_contrib_nbextensions) (2.6.0)'\n",
       "50. 'Requirement already satisfied: MarkupSafe&gt;=0.23 in /usr/local/lib/python3.4/dist-packages (from jinja2-&gt;notebook&gt;=4.0-&gt;jupyter_contrib_nbextensions) (1.0)'\n",
       "51. 'Requirement already satisfied: webencodings in /usr/local/lib/python3.4/dist-packages (from bleach-&gt;nbconvert&gt;=4.2-&gt;jupyter_contrib_nbextensions) (0.5.1)'\n",
       "52. 'Requirement already satisfied: parso&gt;=0.3.0 in /usr/local/lib/python3.4/dist-packages (from jedi&gt;=0.10-&gt;ipython-&gt;jupyter-latex-envs&gt;=1.3.8-&gt;jupyter_contrib_nbextensions) (0.3.1)'\n",
       "53. 'Requirement already satisfied: wcwidth in /usr/local/lib/python3.4/dist-packages (from prompt-toolkit&lt;2.0.0,&gt;=1.0.15-&gt;ipython-&gt;jupyter-latex-envs&gt;=1.3.8-&gt;jupyter_contrib_nbextensions) (0.1.7)'\n",
       "54. 'Building wheels for collected packages: jupyter-latex-envs'\n",
       "55. <span style=white-space:pre-wrap>'  Running setup.py bdist_wheel for jupyter-latex-envs: started'</span>\n",
       "56. <span style=white-space:pre-wrap>'  Running setup.py bdist_wheel for jupyter-latex-envs: finished with status \\'done\\''</span>\n",
       "57. <span style=white-space:pre-wrap>'  Stored in directory: /home/jupyter-user/.cache/pip/wheels/65/c1/0f/b90b6d7032c79ee40181fdadb72b2ef9a186f02269d6c52f02'</span>\n",
       "58. 'Successfully built jupyter-latex-envs'\n",
       "59. 'Installing collected packages: jupyter-latex-envs, jupyter-highlight-selected-word, jupyter-contrib-core, jupyter-nbextensions-configurator, lxml, jupyter-contrib-nbextensions'\n",
       "60. 'Successfully installed jupyter-contrib-core-0.3.3 jupyter-contrib-nbextensions-0.5.0 jupyter-highlight-selected-word-0.2.0 jupyter-latex-envs-1.4.4 jupyter-nbextensions-configurator-0.4.0 lxml-4.2.5'\n",
       "\n",
       "\n"
      ],
      "text/plain": [
       " [1] \"Collecting jupyter_contrib_nbextensions\"                                                                                                                                                               \n",
       " [2] \"  Downloading https://files.pythonhosted.org/packages/d2/f1/57cd4d05d7f070e662844a925d6f6d726ecaf93d8cc2d7b56a66c765fb42/jupyter_contrib_nbextensions-0.5.0-py2.py3-none-any.whl (20.9MB)\"             \n",
       " [3] \"Collecting jupyter_nbextensions_configurator\"                                                                                                                                                          \n",
       " [4] \"  Downloading https://files.pythonhosted.org/packages/d1/d8/6bf103e0eafd17caef39c37ff70b8d61bfb21cc8cd91c81ba51755421a34/jupyter_nbextensions_configurator-0.4.0-py2.py3-none-any.whl (466kB)\"         \n",
       " [5] \"Requirement already satisfied: pyyaml in /usr/local/lib/python3.4/dist-packages (from jupyter_contrib_nbextensions) (3.13)\"                                                                            \n",
       " [6] \"Requirement already satisfied: ipython-genutils in /usr/local/lib/python3.4/dist-packages (from jupyter_contrib_nbextensions) (0.2.0)\"                                                                 \n",
       " [7] \"Requirement already satisfied: tornado in /usr/local/lib/python3.4/dist-packages (from jupyter_contrib_nbextensions) (5.1)\"                                                                            \n",
       " [8] \"Requirement already satisfied: traitlets>=4.1 in /usr/local/lib/python3.4/dist-packages (from jupyter_contrib_nbextensions) (4.3.2)\"                                                                   \n",
       " [9] \"Collecting jupyter-latex-envs>=1.3.8 (from jupyter_contrib_nbextensions)\"                                                                                                                              \n",
       "[10] \"  Downloading https://files.pythonhosted.org/packages/98/db/ef83fb7a8dd71a1c38d8cc5484bb5226dcd8dd996483d6ad3d944670c57b/jupyter_latex_envs-1.4.4.tar.gz (855kB)\"                                      \n",
       "[11] \"Requirement already satisfied: notebook>=4.0 in /usr/local/lib/python3.4/dist-packages (from jupyter_contrib_nbextensions) (5.7.0)\"                                                                    \n",
       "[12] \"Requirement already satisfied: nbconvert>=4.2 in /usr/local/lib/python3.4/dist-packages (from jupyter_contrib_nbextensions) (5.4.0)\"                                                                   \n",
       "[13] \"Collecting jupyter-highlight-selected-word>=0.1.1 (from jupyter_contrib_nbextensions)\"                                                                                                                 \n",
       "[14] \"  Downloading https://files.pythonhosted.org/packages/50/d7/19ab7cfd60bf268d2abbacc52d4295a40f52d74dfc0d938e4761ee5e598b/jupyter_highlight_selected_word-0.2.0-py2.py3-none-any.whl\"                   \n",
       "[15] \"Collecting jupyter-contrib-core>=0.3.3 (from jupyter_contrib_nbextensions)\"                                                                                                                            \n",
       "[16] \"  Downloading https://files.pythonhosted.org/packages/e6/8f/04a752a8b66a66e7092c035e5d87d2502ac7ec07f9fb6059059b6c0dc272/jupyter_contrib_core-0.3.3-py2.py3-none-any.whl\"                              \n",
       "[17] \"Requirement already satisfied: jupyter-core in /usr/local/lib/python3.4/dist-packages (from jupyter_contrib_nbextensions) (4.4.0)\"                                                                     \n",
       "[18] \"Collecting lxml (from jupyter_contrib_nbextensions)\"                                                                                                                                                   \n",
       "[19] \"  Downloading https://files.pythonhosted.org/packages/af/42/7b99fb81aec87691a1a5ac22d525b1fa83b87b8e33ff08871207a6c5446a/lxml-4.2.5-cp34-cp34m-manylinux1_x86_64.whl (5.8MB)\"                          \n",
       "[20] \"Requirement already satisfied: backports_abc>=0.4 in /usr/local/lib/python3.4/dist-packages (from tornado->jupyter_contrib_nbextensions) (0.5)\"                                                        \n",
       "[21] \"Requirement already satisfied: six in /usr/local/lib/python3.4/dist-packages (from traitlets>=4.1->jupyter_contrib_nbextensions) (1.11.0)\"                                                             \n",
       "[22] \"Requirement already satisfied: decorator in /usr/local/lib/python3.4/dist-packages (from traitlets>=4.1->jupyter_contrib_nbextensions) (4.3.0)\"                                                        \n",
       "[23] \"Requirement already satisfied: ipython in /usr/local/lib/python3.4/dist-packages (from jupyter-latex-envs>=1.3.8->jupyter_contrib_nbextensions) (6.5.0)\"                                               \n",
       "[24] \"Requirement already satisfied: jupyter-client>=5.2.0 in /usr/local/lib/python3.4/dist-packages (from notebook>=4.0->jupyter_contrib_nbextensions) (5.2.3)\"                                             \n",
       "[25] \"Requirement already satisfied: ipykernel in /usr/local/lib/python3.4/dist-packages (from notebook>=4.0->jupyter_contrib_nbextensions) (4.8.2)\"                                                         \n",
       "[26] \"Requirement already satisfied: prometheus-client in /usr/local/lib/python3.4/dist-packages (from notebook>=4.0->jupyter_contrib_nbextensions) (0.4.2)\"                                                 \n",
       "[27] \"Requirement already satisfied: terminado>=0.8.1 in /usr/local/lib/python3.4/dist-packages (from notebook>=4.0->jupyter_contrib_nbextensions) (0.8.1)\"                                                  \n",
       "[28] \"Requirement already satisfied: pyzmq>=17 in /usr/local/lib/python3.4/dist-packages (from notebook>=4.0->jupyter_contrib_nbextensions) (17.1.0)\"                                                        \n",
       "[29] \"Requirement already satisfied: nbformat in /usr/local/lib/python3.4/dist-packages (from notebook>=4.0->jupyter_contrib_nbextensions) (4.4.0)\"                                                          \n",
       "[30] \"Requirement already satisfied: Send2Trash in /usr/local/lib/python3.4/dist-packages (from notebook>=4.0->jupyter_contrib_nbextensions) (1.5.0)\"                                                        \n",
       "[31] \"Requirement already satisfied: jinja2 in /usr/local/lib/python3.4/dist-packages (from notebook>=4.0->jupyter_contrib_nbextensions) (2.10)\"                                                             \n",
       "[32] \"Requirement already satisfied: pandocfilters>=1.4.1 in /usr/local/lib/python3.4/dist-packages (from nbconvert>=4.2->jupyter_contrib_nbextensions) (1.4.2)\"                                             \n",
       "[33] \"Requirement already satisfied: testpath in /usr/local/lib/python3.4/dist-packages (from nbconvert>=4.2->jupyter_contrib_nbextensions) (0.4.2)\"                                                         \n",
       "[34] \"Requirement already satisfied: entrypoints>=0.2.2 in /usr/local/lib/python3.4/dist-packages (from nbconvert>=4.2->jupyter_contrib_nbextensions) (0.2.3)\"                                               \n",
       "[35] \"Requirement already satisfied: mistune>=0.8.1 in /usr/local/lib/python3.4/dist-packages (from nbconvert>=4.2->jupyter_contrib_nbextensions) (0.8.4)\"                                                   \n",
       "[36] \"Requirement already satisfied: pygments in /usr/local/lib/python3.4/dist-packages (from nbconvert>=4.2->jupyter_contrib_nbextensions) (2.2.0)\"                                                         \n",
       "[37] \"Requirement already satisfied: bleach in /usr/local/lib/python3.4/dist-packages (from nbconvert>=4.2->jupyter_contrib_nbextensions) (3.0.2)\"                                                           \n",
       "[38] \"Requirement already satisfied: defusedxml in /usr/local/lib/python3.4/dist-packages (from nbconvert>=4.2->jupyter_contrib_nbextensions) (0.5.0)\"                                                       \n",
       "[39] \"Requirement already satisfied: setuptools in /usr/local/lib/python3.4/dist-packages (from jupyter-contrib-core>=0.3.3->jupyter_contrib_nbextensions) (40.0.0)\"                                         \n",
       "[40] \"Requirement already satisfied: typing; python_version <= \\\"3.4\\\" in /usr/local/lib/python3.4/dist-packages (from ipython->jupyter-latex-envs>=1.3.8->jupyter_contrib_nbextensions) (3.6.4)\"            \n",
       "[41] \"Requirement already satisfied: pexpect; sys_platform != \\\"win32\\\" in /usr/local/lib/python3.4/dist-packages (from ipython->jupyter-latex-envs>=1.3.8->jupyter_contrib_nbextensions) (4.6.0)\"           \n",
       "[42] \"Requirement already satisfied: backcall in /usr/local/lib/python3.4/dist-packages (from ipython->jupyter-latex-envs>=1.3.8->jupyter_contrib_nbextensions) (0.1.0)\"                                     \n",
       "[43] \"Requirement already satisfied: pickleshare in /usr/local/lib/python3.4/dist-packages (from ipython->jupyter-latex-envs>=1.3.8->jupyter_contrib_nbextensions) (0.7.4)\"                                  \n",
       "[44] \"Requirement already satisfied: jedi>=0.10 in /usr/local/lib/python3.4/dist-packages (from ipython->jupyter-latex-envs>=1.3.8->jupyter_contrib_nbextensions) (0.12.1)\"                                  \n",
       "[45] \"Requirement already satisfied: simplegeneric>0.8 in /usr/local/lib/python3.4/dist-packages (from ipython->jupyter-latex-envs>=1.3.8->jupyter_contrib_nbextensions) (0.8.1)\"                            \n",
       "[46] \"Requirement already satisfied: prompt-toolkit<2.0.0,>=1.0.15 in /usr/local/lib/python3.4/dist-packages (from ipython->jupyter-latex-envs>=1.3.8->jupyter_contrib_nbextensions) (1.0.15)\"               \n",
       "[47] \"Requirement already satisfied: python-dateutil>=2.1 in /usr/local/lib/python3.4/dist-packages (from jupyter-client>=5.2.0->notebook>=4.0->jupyter_contrib_nbextensions) (2.7.3)\"                       \n",
       "[48] \"Requirement already satisfied: ptyprocess; os_name != \\\"nt\\\" in /usr/local/lib/python3.4/dist-packages (from terminado>=0.8.1->notebook>=4.0->jupyter_contrib_nbextensions) (0.6.0)\"                   \n",
       "[49] \"Requirement already satisfied: jsonschema!=2.5.0,>=2.4 in /usr/local/lib/python3.4/dist-packages (from nbformat->notebook>=4.0->jupyter_contrib_nbextensions) (2.6.0)\"                                 \n",
       "[50] \"Requirement already satisfied: MarkupSafe>=0.23 in /usr/local/lib/python3.4/dist-packages (from jinja2->notebook>=4.0->jupyter_contrib_nbextensions) (1.0)\"                                            \n",
       "[51] \"Requirement already satisfied: webencodings in /usr/local/lib/python3.4/dist-packages (from bleach->nbconvert>=4.2->jupyter_contrib_nbextensions) (0.5.1)\"                                             \n",
       "[52] \"Requirement already satisfied: parso>=0.3.0 in /usr/local/lib/python3.4/dist-packages (from jedi>=0.10->ipython->jupyter-latex-envs>=1.3.8->jupyter_contrib_nbextensions) (0.3.1)\"                     \n",
       "[53] \"Requirement already satisfied: wcwidth in /usr/local/lib/python3.4/dist-packages (from prompt-toolkit<2.0.0,>=1.0.15->ipython->jupyter-latex-envs>=1.3.8->jupyter_contrib_nbextensions) (0.1.7)\"       \n",
       "[54] \"Building wheels for collected packages: jupyter-latex-envs\"                                                                                                                                            \n",
       "[55] \"  Running setup.py bdist_wheel for jupyter-latex-envs: started\"                                                                                                                                        \n",
       "[56] \"  Running setup.py bdist_wheel for jupyter-latex-envs: finished with status 'done'\"                                                                                                                    \n",
       "[57] \"  Stored in directory: /home/jupyter-user/.cache/pip/wheels/65/c1/0f/b90b6d7032c79ee40181fdadb72b2ef9a186f02269d6c52f02\"                                                                               \n",
       "[58] \"Successfully built jupyter-latex-envs\"                                                                                                                                                                 \n",
       "[59] \"Installing collected packages: jupyter-latex-envs, jupyter-highlight-selected-word, jupyter-contrib-core, jupyter-nbextensions-configurator, lxml, jupyter-contrib-nbextensions\"                       \n",
       "[60] \"Successfully installed jupyter-contrib-core-0.3.3 jupyter-contrib-nbextensions-0.5.0 jupyter-highlight-selected-word-0.2.0 jupyter-latex-envs-1.4.4 jupyter-nbextensions-configurator-0.4.0 lxml-4.2.5\""
      ]
     },
     "metadata": {},
     "output_type": "display_data"
    }
   ],
   "source": [
    "# 1. Run this cell install the nbextensions package\n",
    "\n",
    "system('pip3 install jupyter_contrib_nbextensions jupyter_nbextensions_configurator', intern = TRUE)"
   ]
  },
  {
   "cell_type": "code",
   "execution_count": 9,
   "metadata": {},
   "outputs": [
    {
     "data": {
      "text/html": [],
      "text/latex": [],
      "text/markdown": [],
      "text/plain": [
       "character(0)"
      ]
     },
     "metadata": {},
     "output_type": "display_data"
    },
    {
     "data": {
      "text/html": [],
      "text/latex": [],
      "text/markdown": [],
      "text/plain": [
       "character(0)"
      ]
     },
     "metadata": {},
     "output_type": "display_data"
    }
   ],
   "source": [
    "# 2. Run this cell to install an extension that allows you to collapse headings\n",
    "\n",
    "system('jupyter nbextension install ~/.local/lib/python3.4/site-packages/jupyter_contrib_nbextensions/nbextensions/collapsible_headings --user',\n",
    "       intern = TRUE)\n",
    "system('jupyter nbextension enable collapsible_headings/main', intern=TRUE)"
   ]
  },
  {
   "cell_type": "code",
   "execution_count": 10,
   "metadata": {},
   "outputs": [
    {
     "data": {
      "text/html": [],
      "text/latex": [],
      "text/markdown": [],
      "text/plain": [
       "character(0)"
      ]
     },
     "metadata": {},
     "output_type": "display_data"
    }
   ],
   "source": [
    "# 3. Run this cell to enable the collapsible heading extension installed above\n",
    "\n",
    "system('jupyter nbextension enable python-markdown/main', intern = TRUE)"
   ]
  },
  {
   "cell_type": "code",
   "execution_count": 11,
   "metadata": {},
   "outputs": [
    {
     "data": {
      "text/html": [],
      "text/latex": [],
      "text/markdown": [],
      "text/plain": [
       "character(0)"
      ]
     },
     "metadata": {},
     "output_type": "display_data"
    }
   ],
   "source": [
    "# 4. Run this cell to disable the collapsible heading extension enabled above\n",
    "\n",
    "system('jupyter nbextension disable python-markdown/main', intern = TRUE)"
   ]
  },
  {
   "cell_type": "markdown",
   "metadata": {},
   "source": [
    "---\n",
    "## Notebook Overview Part III. Importing Notebooks into a Workspace"
   ]
  },
  {
   "cell_type": "markdown",
   "metadata": {},
   "source": [
    "To import an existing notebook from your local machine into your workspace:\n",
    "\n",
    "1. Click the \"File\" menu and select \"Open\"\n",
    "2. A new browser window will open up with a list of all the notebooks in your workspace. Click Upload. \n",
    "3. Navigate to where your notebook is saved. Cick Open.\n",
    "\n",
    "and you should be ready to go!"
   ]
  },
  {
   "cell_type": "code",
   "execution_count": null,
   "metadata": {},
   "outputs": [],
   "source": []
  }
 ],
 "metadata": {
  "kernelspec": {
   "display_name": "R",
   "language": "R",
   "name": "ir"
  },
  "language_info": {
   "codemirror_mode": "r",
   "file_extension": ".r",
   "mimetype": "text/x-r-source",
   "name": "R",
   "pygments_lexer": "r",
   "version": "3.4.4"
  },
  "toc": {
   "base_numbering": 1,
   "nav_menu": {},
   "number_sections": true,
   "sideBar": true,
   "skip_h1_title": false,
   "title_cell": "Table of Contents",
   "title_sidebar": "Contents",
   "toc_cell": false,
   "toc_position": {},
   "toc_section_display": true,
   "toc_window_display": false
  }
 },
 "nbformat": 4,
 "nbformat_minor": 2
}
