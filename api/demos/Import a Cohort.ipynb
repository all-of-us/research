{
 "cells": [
  {
   "cell_type": "markdown",
   "metadata": {},
   "source": [
    "### How to Import a Cohort"
   ]
  },
  {
   "cell_type": "markdown",
   "metadata": {},
   "source": [
    "### Objectives\n",
    "Apply python commands to explore a predefined cohort in the following steps:\n",
    "  1. Call the the predefined cohort\n",
    "  2. Extract the cohort's metadata\n",
    "  3. Filter it down to display gender, date of birth, and race attributes\n",
    "  4. Save as a csv to be used in future analysis"
   ]
  },
  {
   "cell_type": "markdown",
   "metadata": {},
   "source": [
    "### Vocabulary\n",
    "1. class - Python has classes which are defined wireframes of objects. You can think of classes as encapsulating related attributes and functionality into a data structure. \n",
    "2. object - an instance of a class. An object has a state in which all of its properties have values that you either explicitly define or that are defined by default settings.\n",
    "3. variable - assigned values using the = operator. A variable can hold almost any type of value such as lists, dictionaries, or functions.\n",
    "4. DataFrame - a pandas two-dimensional data structure with columns of potentially different types. You can think of it like a spreadsheet or SQL table.\n"
   ]
  },
  {
   "cell_type": "markdown",
   "metadata": {},
   "source": [
    "### Resources\n",
    "* AllofUs Python client library docs: https://github.com/all-of-us/pyclient/blob/master/py/README.md#materializecohortrequest\n",
    "* Curated Data Repository (CDR) docs: https://github.com/all-of-us/pyclient/blob/master/py/aou_workbench_client/cdr/README.md\n",
    "* Jupyter Notebook for Beginners: link to AoU tutorial notebook"
   ]
  },
  {
   "cell_type": "markdown",
   "metadata": {},
   "source": [
    "### Section 1: Call the predefined cohort"
   ]
  },
  {
   "cell_type": "markdown",
   "metadata": {},
   "source": [
    "Step 1: If you are running these commands in another notebook, check that you are using a **Python 3 kernel**. It is listed at the top right of the Notebook. To change kernels, go to the Notebook menubar and select **Kernel->Change Kernel->Python 3**. "
   ]
  },
  {
   "cell_type": "markdown",
   "metadata": {},
   "source": [
    "Step 2: Install the AoU Python client library with the command below.  You will be calling different objects from this library to manipulate the cohort."
   ]
  },
  {
   "cell_type": "code",
   "execution_count": 1,
   "metadata": {},
   "outputs": [
    {
     "name": "stdout",
     "output_type": "stream",
     "text": [
      "Collecting aou_workbench_client from https://github.com/all-of-us/pyclient/archive/pyclient-v1-11.zip#egg=aou_workbench_client&subdirectory=py\n",
      "Requirement not upgraded as not directly required: six>=1.10 in /usr/local/lib/python3.4/dist-packages (from aou_workbench_client) (1.11.0)\n",
      "Requirement not upgraded as not directly required: setuptools>=21.0.0 in /usr/local/lib/python3.4/dist-packages (from aou_workbench_client) (39.2.0)\n",
      "Requirement not upgraded as not directly required: python-dateutil>=2.5.3 in /home/jupyter-user/.local/lib/python3.4/site-packages (from aou_workbench_client) (2.7.3)\n",
      "Requirement not upgraded as not directly required: oauth2client>=4.0.0 in /home/jupyter-user/.local/lib/python3.4/site-packages (from aou_workbench_client) (4.1.2)\n",
      "Requirement not upgraded as not directly required: pandas<0.21,>=0.17.1 in /home/jupyter-user/.local/lib/python3.4/site-packages (from aou_workbench_client) (0.20.3)\n",
      "Requirement not upgraded as not directly required: urllib3>=1.15.1 in /usr/local/lib/python3.4/dist-packages (from aou_workbench_client) (1.22)\n",
      "Requirement not upgraded as not directly required: ipywidgets>=7.2 in /home/jupyter-user/.local/lib/python3.4/site-packages (from aou_workbench_client) (7.2.1)\n",
      "Requirement not upgraded as not directly required: ipython>=5.7.0 in /usr/local/lib/python3.4/dist-packages (from aou_workbench_client) (6.4.0)\n",
      "Requirement not upgraded as not directly required: certifi>=14.05.14 in /usr/local/lib/python3.4/dist-packages (from aou_workbench_client) (2018.4.16)\n",
      "Requirement not upgraded as not directly required: pyasn1-modules>=0.0.5 in /usr/local/lib/python3.4/dist-packages (from oauth2client>=4.0.0->aou_workbench_client) (0.2.1)\n",
      "Requirement not upgraded as not directly required: rsa>=3.1.4 in /usr/local/lib/python3.4/dist-packages (from oauth2client>=4.0.0->aou_workbench_client) (3.4.2)\n",
      "Requirement not upgraded as not directly required: pyasn1>=0.1.7 in /usr/local/lib/python3.4/dist-packages (from oauth2client>=4.0.0->aou_workbench_client) (0.4.3)\n",
      "Requirement not upgraded as not directly required: httplib2>=0.9.1 in /usr/local/lib/python3.4/dist-packages (from oauth2client>=4.0.0->aou_workbench_client) (0.11.3)\n",
      "Requirement not upgraded as not directly required: numpy>=1.7.0 in /usr/lib/python3/dist-packages (from pandas<0.21,>=0.17.1->aou_workbench_client) (1.8.2)\n",
      "Requirement not upgraded as not directly required: pytz>=2011k in /usr/lib/python3/dist-packages (from pandas<0.21,>=0.17.1->aou_workbench_client) (2012rc0)\n",
      "Requirement not upgraded as not directly required: traitlets>=4.3.1 in /usr/local/lib/python3.4/dist-packages (from ipywidgets>=7.2->aou_workbench_client) (4.3.2)\n",
      "Requirement not upgraded as not directly required: widgetsnbextension~=3.2.0 in /home/jupyter-user/.local/lib/python3.4/site-packages (from ipywidgets>=7.2->aou_workbench_client) (3.2.1)\n",
      "Requirement not upgraded as not directly required: ipykernel>=4.5.1 in /usr/local/lib/python3.4/dist-packages (from ipywidgets>=7.2->aou_workbench_client) (4.8.2)\n",
      "Requirement not upgraded as not directly required: nbformat>=4.2.0 in /home/jupyter-user/.local/lib/python3.4/site-packages (from ipywidgets>=7.2->aou_workbench_client) (4.4.0)\n",
      "Requirement not upgraded as not directly required: jedi>=0.10 in /usr/local/lib/python3.4/dist-packages (from ipython>=5.7.0->aou_workbench_client) (0.12.0)\n",
      "Requirement not upgraded as not directly required: pexpect; sys_platform != \"win32\" in /usr/local/lib/python3.4/dist-packages (from ipython>=5.7.0->aou_workbench_client) (4.6.0)\n",
      "Requirement not upgraded as not directly required: decorator in /usr/local/lib/python3.4/dist-packages (from ipython>=5.7.0->aou_workbench_client) (4.3.0)\n",
      "Requirement not upgraded as not directly required: pickleshare in /usr/local/lib/python3.4/dist-packages (from ipython>=5.7.0->aou_workbench_client) (0.7.4)\n",
      "Requirement not upgraded as not directly required: backcall in /usr/local/lib/python3.4/dist-packages (from ipython>=5.7.0->aou_workbench_client) (0.1.0)\n",
      "Requirement not upgraded as not directly required: pygments in /usr/local/lib/python3.4/dist-packages (from ipython>=5.7.0->aou_workbench_client) (2.2.0)\n",
      "Requirement not upgraded as not directly required: simplegeneric>0.8 in /usr/local/lib/python3.4/dist-packages (from ipython>=5.7.0->aou_workbench_client) (0.8.1)\n",
      "Requirement not upgraded as not directly required: typing; python_version <= \"3.4\" in /usr/local/lib/python3.4/dist-packages (from ipython>=5.7.0->aou_workbench_client) (3.6.4)\n",
      "Requirement not upgraded as not directly required: prompt-toolkit<2.0.0,>=1.0.15 in /usr/local/lib/python3.4/dist-packages (from ipython>=5.7.0->aou_workbench_client) (1.0.15)\n",
      "Requirement not upgraded as not directly required: ipython-genutils in /usr/local/lib/python3.4/dist-packages (from traitlets>=4.3.1->ipywidgets>=7.2->aou_workbench_client) (0.2.0)\n",
      "Requirement not upgraded as not directly required: notebook>=4.4.1 in /home/jupyter-user/.local/lib/python3.4/site-packages (from widgetsnbextension~=3.2.0->ipywidgets>=7.2->aou_workbench_client) (5.6.0)\n",
      "Requirement not upgraded as not directly required: tornado>=4.0 in /usr/local/lib/python3.4/dist-packages (from ipykernel>=4.5.1->ipywidgets>=7.2->aou_workbench_client) (4.5.3)\n",
      "Requirement not upgraded as not directly required: jupyter-client in /usr/local/lib/python3.4/dist-packages (from ipykernel>=4.5.1->ipywidgets>=7.2->aou_workbench_client) (5.2.3)\n",
      "Requirement not upgraded as not directly required: jupyter-core in /usr/local/lib/python3.4/dist-packages (from nbformat>=4.2.0->ipywidgets>=7.2->aou_workbench_client) (4.4.0)\n",
      "Requirement not upgraded as not directly required: jsonschema!=2.5.0,>=2.4 in /home/jupyter-user/.local/lib/python3.4/site-packages (from nbformat>=4.2.0->ipywidgets>=7.2->aou_workbench_client) (2.6.0)\n",
      "Requirement not upgraded as not directly required: parso>=0.2.0 in /usr/local/lib/python3.4/dist-packages (from jedi>=0.10->ipython>=5.7.0->aou_workbench_client) (0.2.1)\n",
      "Requirement not upgraded as not directly required: ptyprocess>=0.5 in /usr/local/lib/python3.4/dist-packages (from pexpect; sys_platform != \"win32\"->ipython>=5.7.0->aou_workbench_client) (0.5.2)\n",
      "Requirement not upgraded as not directly required: wcwidth in /usr/local/lib/python3.4/dist-packages (from prompt-toolkit<2.0.0,>=1.0.15->ipython>=5.7.0->aou_workbench_client) (0.1.7)\n",
      "Requirement not upgraded as not directly required: prometheus-client in /home/jupyter-user/.local/lib/python3.4/site-packages (from notebook>=4.4.1->widgetsnbextension~=3.2.0->ipywidgets>=7.2->aou_workbench_client) (0.3.0)\n",
      "Requirement not upgraded as not directly required: nbconvert in /home/jupyter-user/.local/lib/python3.4/site-packages (from notebook>=4.4.1->widgetsnbextension~=3.2.0->ipywidgets>=7.2->aou_workbench_client) (5.3.1)\n",
      "Requirement not upgraded as not directly required: pyzmq>=17 in /usr/local/lib/python3.4/dist-packages (from notebook>=4.4.1->widgetsnbextension~=3.2.0->ipywidgets>=7.2->aou_workbench_client) (17.0.0)\n",
      "Requirement not upgraded as not directly required: jinja2 in /usr/local/lib/python3.4/dist-packages (from notebook>=4.4.1->widgetsnbextension~=3.2.0->ipywidgets>=7.2->aou_workbench_client) (2.10)\n",
      "Requirement not upgraded as not directly required: Send2Trash in /home/jupyter-user/.local/lib/python3.4/site-packages (from notebook>=4.4.1->widgetsnbextension~=3.2.0->ipywidgets>=7.2->aou_workbench_client) (1.5.0)\n",
      "Requirement not upgraded as not directly required: terminado>=0.8.1 in /home/jupyter-user/.local/lib/python3.4/site-packages (from notebook>=4.4.1->widgetsnbextension~=3.2.0->ipywidgets>=7.2->aou_workbench_client) (0.8.1)\n",
      "Requirement not upgraded as not directly required: backports_abc>=0.4 in /usr/local/lib/python3.4/dist-packages (from tornado>=4.0->ipykernel>=4.5.1->ipywidgets>=7.2->aou_workbench_client) (0.5)\n",
      "Requirement not upgraded as not directly required: pandocfilters>=1.4.1 in /home/jupyter-user/.local/lib/python3.4/site-packages (from nbconvert->notebook>=4.4.1->widgetsnbextension~=3.2.0->ipywidgets>=7.2->aou_workbench_client) (1.4.2)\n",
      "Requirement not upgraded as not directly required: entrypoints>=0.2.2 in /home/jupyter-user/.local/lib/python3.4/site-packages (from nbconvert->notebook>=4.4.1->widgetsnbextension~=3.2.0->ipywidgets>=7.2->aou_workbench_client) (0.2.3)\n",
      "Requirement not upgraded as not directly required: bleach in /home/jupyter-user/.local/lib/python3.4/site-packages (from nbconvert->notebook>=4.4.1->widgetsnbextension~=3.2.0->ipywidgets>=7.2->aou_workbench_client) (2.1.3)\n",
      "Requirement not upgraded as not directly required: testpath in /home/jupyter-user/.local/lib/python3.4/site-packages (from nbconvert->notebook>=4.4.1->widgetsnbextension~=3.2.0->ipywidgets>=7.2->aou_workbench_client) (0.3.1)\n",
      "Requirement not upgraded as not directly required: mistune>=0.7.4 in /home/jupyter-user/.local/lib/python3.4/site-packages (from nbconvert->notebook>=4.4.1->widgetsnbextension~=3.2.0->ipywidgets>=7.2->aou_workbench_client) (0.8.3)\n",
      "Requirement not upgraded as not directly required: MarkupSafe>=0.23 in /usr/local/lib/python3.4/dist-packages (from jinja2->notebook>=4.4.1->widgetsnbextension~=3.2.0->ipywidgets>=7.2->aou_workbench_client) (1.0)\n",
      "Requirement not upgraded as not directly required: html5lib!=1.0b1,!=1.0b2,!=1.0b3,!=1.0b4,!=1.0b5,!=1.0b6,!=1.0b7,!=1.0b8,>=0.99999999pre in /home/jupyter-user/.local/lib/python3.4/site-packages (from bleach->nbconvert->notebook>=4.4.1->widgetsnbextension~=3.2.0->ipywidgets>=7.2->aou_workbench_client) (1.0.1)\n",
      "Requirement not upgraded as not directly required: webencodings in /home/jupyter-user/.local/lib/python3.4/site-packages (from html5lib!=1.0b1,!=1.0b2,!=1.0b3,!=1.0b4,!=1.0b5,!=1.0b6,!=1.0b7,!=1.0b8,>=0.99999999pre->bleach->nbconvert->notebook>=4.4.1->widgetsnbextension~=3.2.0->ipywidgets>=7.2->aou_workbench_client) (0.5.1)\n"
     ]
    },
    {
     "name": "stdout",
     "output_type": "stream",
     "text": [
      "\u001b[31mgapic-google-cloud-logging-v2 0.91.3 has requirement oauth2client<4.0dev,>=2.0.0, but you'll have oauth2client 4.1.2 which is incompatible.\u001b[0m\n",
      "\u001b[31mproto-google-cloud-error-reporting-v1beta1 0.15.3 has requirement oauth2client<4.0dev,>=2.0.0, but you'll have oauth2client 4.1.2 which is incompatible.\u001b[0m\n",
      "\u001b[31mgapic-google-cloud-datastore-v1 0.15.3 has requirement oauth2client<4.0dev,>=2.0.0, but you'll have oauth2client 4.1.2 which is incompatible.\u001b[0m\n",
      "\u001b[31mproto-google-cloud-datastore-v1 0.90.4 has requirement oauth2client<4.0dev,>=2.0.0, but you'll have oauth2client 4.1.2 which is incompatible.\u001b[0m\n",
      "\u001b[31mgapic-google-cloud-error-reporting-v1beta1 0.15.3 has requirement oauth2client<4.0dev,>=2.0.0, but you'll have oauth2client 4.1.2 which is incompatible.\u001b[0m\n",
      "\u001b[31mproto-google-cloud-logging-v2 0.91.3 has requirement oauth2client<4.0dev,>=2.0.0, but you'll have oauth2client 4.1.2 which is incompatible.\u001b[0m\n",
      "Installing collected packages: aou-workbench-client\n",
      "  Found existing installation: aou-workbench-client 1.1.1\n",
      "    Uninstalling aou-workbench-client-1.1.1:\n",
      "      Successfully uninstalled aou-workbench-client-1.1.1\n",
      "Successfully installed aou-workbench-client-1.1.1\n"
     ]
    }
   ],
   "source": [
    "!pip install --user --upgrade 'https://github.com/all-of-us/pyclient/archive/pyclient-v1-11.zip#egg=aou_workbench_client&subdirectory=py'"
   ]
  },
  {
   "cell_type": "markdown",
   "metadata": {},
   "source": [
    "Step 3: After this step has finished running, restart the kernel. Go to the menubar and choose **Kernel -> Restart**."
   ]
  },
  {
   "cell_type": "markdown",
   "metadata": {},
   "source": [
    "Step 4: Import pandas and name it pd or whatever alias makes sense to you. If you change the alias remember to change it any time you see pd in the notebook."
   ]
  },
  {
   "cell_type": "code",
   "execution_count": 1,
   "metadata": {},
   "outputs": [],
   "source": [
    "import pandas as pd"
   ]
  },
  {
   "cell_type": "markdown",
   "metadata": {},
   "source": [
    "Step 5: Import the `MaterializeCohortRequest` class and the `materialize_cohort` function from these two aou_workbench_client modules. The object and function are essential for getting data back about your cohort. "
   ]
  },
  {
   "cell_type": "code",
   "execution_count": 2,
   "metadata": {},
   "outputs": [],
   "source": [
    "from aou_workbench_client.swagger_client.models import MaterializeCohortRequest\n",
    "from aou_workbench_client.cohorts import materialize_cohort"
   ]
  },
  {
   "cell_type": "markdown",
   "metadata": {},
   "source": [
    "Step 6: Create a variable called `predefined_cohort` and set it equal the name of the cohort you built in the workspace. To do this replace \"ICD10-F31.30-Bi-polar-female\" with the name of your cohort. This should be one of the only pieces of code you need to edit in order to run this notebook."
   ]
  },
  {
   "cell_type": "code",
   "execution_count": 3,
   "metadata": {},
   "outputs": [],
   "source": [
    "predefined_cohort = \"ICD10-F31.30-Bi-polar-female\""
   ]
  },
  {
   "cell_type": "markdown",
   "metadata": {},
   "source": [
    "Step 7: Create a new variable called `my_cohort` that uses the `MaterializeCohortRequest` class that you just imported to grab the data for the predefined cohort. Set the `cohort_name` equal to the `predefined_cohort` variable you just created. Larger queries can be accomodated by using a `page_size` parameter to fetch the data in chunks, demonstrated here."
   ]
  },
  {
   "cell_type": "code",
   "execution_count": null,
   "metadata": {},
   "outputs": [],
   "source": [
    "my_cohort = MaterializeCohortRequest(cohort_name=predefined_cohort,page_size=1000)"
   ]
  },
  {
   "cell_type": "markdown",
   "metadata": {},
   "source": [
    "Step 8: The results are returned when the `MaterializeCohortRequest` is passed to the `materialize_cohort` function. Create a new variable, `cohort_results`, to pass this to. Limit the number of results to 1000 with the `max_results` parameter. "
   ]
  },
  {
   "cell_type": "code",
   "execution_count": 5,
   "metadata": {},
   "outputs": [],
   "source": [
    "cohort_results = materialize_cohort(my_cohort, max_results= 1000)"
   ]
  },
  {
   "cell_type": "markdown",
   "metadata": {},
   "source": [
    "Step 9: Look at the cohort as a Pandas DataFrame. Extract the data by casting it to a list and placing the `cohort_results` variable within `list().` Then by putting the results of this within the `pd.DataFrame` class, we build a DataFrame. We will call it `cohort_df` (df for data frame)."
   ]
  },
  {
   "cell_type": "code",
   "execution_count": 6,
   "metadata": {},
   "outputs": [],
   "source": [
    "cohort_df = pd.DataFrame(list(cohort_results))"
   ]
  },
  {
   "cell_type": "markdown",
   "metadata": {},
   "source": [
    "Step 10: How big is the DataFrame? Call the `cohort_df` object and`.shape` to figure it out. "
   ]
  },
  {
   "cell_type": "code",
   "execution_count": 7,
   "metadata": {},
   "outputs": [
    {
     "data": {
      "text/plain": [
       "(77, 1)"
      ]
     },
     "execution_count": 7,
     "metadata": {},
     "output_type": "execute_result"
    }
   ],
   "source": [
    "cohort_df.shape"
   ]
  },
  {
   "cell_type": "markdown",
   "metadata": {},
   "source": [
    "The first number indicates the number of individuals in the cohort (rows) and the second indicates the number of attributes of the individual (columns). Take a look at what column is returned. "
   ]
  },
  {
   "cell_type": "markdown",
   "metadata": {},
   "source": [
    "Step 7: Call the first 10 rows of the DataFrame using `.head(10)`"
   ]
  },
  {
   "cell_type": "code",
   "execution_count": 8,
   "metadata": {},
   "outputs": [
    {
     "data": {
      "text/html": [
       "<div>\n",
       "<style>\n",
       "    .dataframe thead tr:only-child th {\n",
       "        text-align: right;\n",
       "    }\n",
       "\n",
       "    .dataframe thead th {\n",
       "        text-align: left;\n",
       "    }\n",
       "\n",
       "    .dataframe tbody tr th {\n",
       "        vertical-align: top;\n",
       "    }\n",
       "</style>\n",
       "<table border=\"1\" class=\"dataframe\">\n",
       "  <thead>\n",
       "    <tr style=\"text-align: right;\">\n",
       "      <th></th>\n",
       "      <th>person_id</th>\n",
       "    </tr>\n",
       "  </thead>\n",
       "  <tbody>\n",
       "    <tr>\n",
       "      <th>0</th>\n",
       "      <td>2103</td>\n",
       "    </tr>\n",
       "    <tr>\n",
       "      <th>1</th>\n",
       "      <td>8073</td>\n",
       "    </tr>\n",
       "    <tr>\n",
       "      <th>2</th>\n",
       "      <td>46738</td>\n",
       "    </tr>\n",
       "    <tr>\n",
       "      <th>3</th>\n",
       "      <td>72054</td>\n",
       "    </tr>\n",
       "    <tr>\n",
       "      <th>4</th>\n",
       "      <td>73432</td>\n",
       "    </tr>\n",
       "    <tr>\n",
       "      <th>5</th>\n",
       "      <td>94301</td>\n",
       "    </tr>\n",
       "    <tr>\n",
       "      <th>6</th>\n",
       "      <td>97348</td>\n",
       "    </tr>\n",
       "    <tr>\n",
       "      <th>7</th>\n",
       "      <td>134545</td>\n",
       "    </tr>\n",
       "    <tr>\n",
       "      <th>8</th>\n",
       "      <td>160319</td>\n",
       "    </tr>\n",
       "    <tr>\n",
       "      <th>9</th>\n",
       "      <td>171377</td>\n",
       "    </tr>\n",
       "  </tbody>\n",
       "</table>\n",
       "</div>"
      ],
      "text/plain": [
       "   person_id\n",
       "0       2103\n",
       "1       8073\n",
       "2      46738\n",
       "3      72054\n",
       "4      73432\n",
       "5      94301\n",
       "6      97348\n",
       "7     134545\n",
       "8     160319\n",
       "9     171377"
      ]
     },
     "execution_count": 8,
     "metadata": {},
     "output_type": "execute_result"
    }
   ],
   "source": [
    "cohort_df.head(10)"
   ]
  },
  {
   "cell_type": "markdown",
   "metadata": {},
   "source": [
    "### Section 2: Extract the cohort's metadata"
   ]
  },
  {
   "cell_type": "markdown",
   "metadata": {},
   "source": [
    "As you can see, only the person_id is returned for the cohort. This next section will demonstrate how to pull one table's information from the CDR then use the module `TableQuery` to return all the table's results."
   ]
  },
  {
   "cell_type": "markdown",
   "metadata": {},
   "source": [
    "Looking at the [CDR doc](https://github.com/all-of-us/pyclient/blob/master/py/aou_workbench_client/cdr/README.md) listed under Resources, you can see the following cohort tables: \n",
    "\n",
    "- condition_occurrence\n",
    "- death\n",
    "- device_exposure\n",
    "- drug_exposure\n",
    "- measurement\n",
    "- observation\n",
    "- person\n",
    "- procedure_occurrence\n",
    "- visit_occurrence\n",
    "\n",
    "Gender, birth date, and race attributes, are within the Person table so this is the table you'll pull."
   ]
  },
  {
   "cell_type": "markdown",
   "metadata": {},
   "source": [
    "Step 1: In addition to `MaterializeCohortRequest`, import `TableQuery` and `FieldSet` from the swagger_client module and the `Person` table from the CDR module."
   ]
  },
  {
   "cell_type": "code",
   "execution_count": 15,
   "metadata": {},
   "outputs": [],
   "source": [
    "from aou_workbench_client.swagger_client.models import MaterializeCohortRequest, TableQuery, FieldSet\n",
    "from aou_workbench_client.cdr.model import Person"
   ]
  },
  {
   "cell_type": "markdown",
   "metadata": {},
   "source": [
    "Step 2: Use the `TableQuery` object to specify which table you want cohort metadata from. Store the results in the `cohort_query` variable."
   ]
  },
  {
   "cell_type": "code",
   "execution_count": 27,
   "metadata": {},
   "outputs": [],
   "source": [
    "cohort_query = TableQuery(table_name=Person.table_name)"
   ]
  },
  {
   "cell_type": "markdown",
   "metadata": {},
   "source": [
    "Step 3: Now take `cohort_query` and pass it to the `field_set` parameter within `MaterializeCohortRequest.` Field sets represent what data you want to retrieve about a cohort.\n",
    "A `FieldSet` object must have either its table_query or annotation_query field populated (you use table_query). The results get stored in the `my_cohort_person_table` variable."
   ]
  },
  {
   "cell_type": "code",
   "execution_count": 28,
   "metadata": {},
   "outputs": [],
   "source": [
    "my_cohort_person_table = MaterializeCohortRequest(cohort_name=predefined_cohort, \n",
    "                                   field_set=FieldSet(table_query=cohort_query))"
   ]
  },
  {
   "cell_type": "markdown",
   "metadata": {},
   "source": [
    "Step 4: Remember how the results get returned when the `MaterializeCohortRequest` is passed to the `materialize_cohort` function, as you did earlier? Do this."
   ]
  },
  {
   "cell_type": "code",
   "execution_count": 29,
   "metadata": {},
   "outputs": [],
   "source": [
    "cohort_person_results = materialize_cohort(my_cohort_person_table)"
   ]
  },
  {
   "cell_type": "markdown",
   "metadata": {},
   "source": [
    "Step 5: Store the results in a Pandas DataFrame as demonstrated earlier. Check out the shape and first 10 rows of the DataFrame. "
   ]
  },
  {
   "cell_type": "code",
   "execution_count": 30,
   "metadata": {},
   "outputs": [
    {
     "data": {
      "text/plain": [
       "(77, 18)"
      ]
     },
     "execution_count": 30,
     "metadata": {},
     "output_type": "execute_result"
    }
   ],
   "source": [
    "cohort_person_df = pd.DataFrame(list(cohort_person_results))\n",
    "cohort_person_df.shape"
   ]
  },
  {
   "cell_type": "code",
   "execution_count": 21,
   "metadata": {},
   "outputs": [
    {
     "data": {
      "text/html": [
       "<div>\n",
       "<style>\n",
       "    .dataframe thead tr:only-child th {\n",
       "        text-align: right;\n",
       "    }\n",
       "\n",
       "    .dataframe thead th {\n",
       "        text-align: left;\n",
       "    }\n",
       "\n",
       "    .dataframe tbody tr th {\n",
       "        vertical-align: top;\n",
       "    }\n",
       "</style>\n",
       "<table border=\"1\" class=\"dataframe\">\n",
       "  <thead>\n",
       "    <tr style=\"text-align: right;\">\n",
       "      <th></th>\n",
       "      <th>birth_datetime</th>\n",
       "      <th>care_site_id</th>\n",
       "      <th>day_of_birth</th>\n",
       "      <th>ethnicity_concept_id</th>\n",
       "      <th>ethnicity_source_concept_id</th>\n",
       "      <th>ethnicity_source_value</th>\n",
       "      <th>gender_concept_id</th>\n",
       "      <th>gender_source_concept_id</th>\n",
       "      <th>gender_source_value</th>\n",
       "      <th>location_id</th>\n",
       "      <th>month_of_birth</th>\n",
       "      <th>person_id</th>\n",
       "      <th>person_source_value</th>\n",
       "      <th>provider_id</th>\n",
       "      <th>race_concept_id</th>\n",
       "      <th>race_source_concept_id</th>\n",
       "      <th>race_source_value</th>\n",
       "      <th>year_of_birth</th>\n",
       "    </tr>\n",
       "  </thead>\n",
       "  <tbody>\n",
       "    <tr>\n",
       "      <th>0</th>\n",
       "      <td>1980-02-01 00:00:00 UTC</td>\n",
       "      <td>0</td>\n",
       "      <td>1</td>\n",
       "      <td>38003564</td>\n",
       "      <td>1101000</td>\n",
       "      <td>NH</td>\n",
       "      <td>8532</td>\n",
       "      <td>1001001</td>\n",
       "      <td>F</td>\n",
       "      <td>0</td>\n",
       "      <td>2</td>\n",
       "      <td>2103</td>\n",
       "      <td>4080155</td>\n",
       "      <td>0</td>\n",
       "      <td>8527</td>\n",
       "      <td>701000</td>\n",
       "      <td>W</td>\n",
       "      <td>1980</td>\n",
       "    </tr>\n",
       "    <tr>\n",
       "      <th>1</th>\n",
       "      <td>1949-11-20 00:00:00 UTC</td>\n",
       "      <td>0</td>\n",
       "      <td>20</td>\n",
       "      <td>38003564</td>\n",
       "      <td>1101000</td>\n",
       "      <td>NH</td>\n",
       "      <td>8532</td>\n",
       "      <td>1001001</td>\n",
       "      <td>F</td>\n",
       "      <td>0</td>\n",
       "      <td>11</td>\n",
       "      <td>8073</td>\n",
       "      <td>942423</td>\n",
       "      <td>0</td>\n",
       "      <td>8527</td>\n",
       "      <td>701000</td>\n",
       "      <td>W</td>\n",
       "      <td>1949</td>\n",
       "    </tr>\n",
       "    <tr>\n",
       "      <th>2</th>\n",
       "      <td>1956-11-01 00:00:00 UTC</td>\n",
       "      <td>0</td>\n",
       "      <td>1</td>\n",
       "      <td>38003564</td>\n",
       "      <td>1101000</td>\n",
       "      <td>NH</td>\n",
       "      <td>8532</td>\n",
       "      <td>1001001</td>\n",
       "      <td>F</td>\n",
       "      <td>0</td>\n",
       "      <td>11</td>\n",
       "      <td>46738</td>\n",
       "      <td>3403873</td>\n",
       "      <td>0</td>\n",
       "      <td>8527</td>\n",
       "      <td>701000</td>\n",
       "      <td>W</td>\n",
       "      <td>1956</td>\n",
       "    </tr>\n",
       "    <tr>\n",
       "      <th>3</th>\n",
       "      <td>1949-06-21 00:00:00 UTC</td>\n",
       "      <td>0</td>\n",
       "      <td>21</td>\n",
       "      <td>38003564</td>\n",
       "      <td>1101000</td>\n",
       "      <td>NH</td>\n",
       "      <td>8532</td>\n",
       "      <td>1001001</td>\n",
       "      <td>F</td>\n",
       "      <td>0</td>\n",
       "      <td>6</td>\n",
       "      <td>72054</td>\n",
       "      <td>3021014</td>\n",
       "      <td>0</td>\n",
       "      <td>8527</td>\n",
       "      <td>701000</td>\n",
       "      <td>W</td>\n",
       "      <td>1949</td>\n",
       "    </tr>\n",
       "    <tr>\n",
       "      <th>4</th>\n",
       "      <td>1975-01-07 00:00:00 UTC</td>\n",
       "      <td>0</td>\n",
       "      <td>7</td>\n",
       "      <td>38003564</td>\n",
       "      <td>1101000</td>\n",
       "      <td>NH</td>\n",
       "      <td>8532</td>\n",
       "      <td>1001001</td>\n",
       "      <td>F</td>\n",
       "      <td>0</td>\n",
       "      <td>1</td>\n",
       "      <td>73432</td>\n",
       "      <td>2962389</td>\n",
       "      <td>0</td>\n",
       "      <td>8527</td>\n",
       "      <td>701000</td>\n",
       "      <td>W</td>\n",
       "      <td>1975</td>\n",
       "    </tr>\n",
       "    <tr>\n",
       "      <th>5</th>\n",
       "      <td>1955-12-19 00:00:00 UTC</td>\n",
       "      <td>0</td>\n",
       "      <td>19</td>\n",
       "      <td>38003564</td>\n",
       "      <td>1101000</td>\n",
       "      <td>NH</td>\n",
       "      <td>8532</td>\n",
       "      <td>1001001</td>\n",
       "      <td>F</td>\n",
       "      <td>0</td>\n",
       "      <td>12</td>\n",
       "      <td>94301</td>\n",
       "      <td>1933005</td>\n",
       "      <td>0</td>\n",
       "      <td>8527</td>\n",
       "      <td>701000</td>\n",
       "      <td>W</td>\n",
       "      <td>1955</td>\n",
       "    </tr>\n",
       "    <tr>\n",
       "      <th>6</th>\n",
       "      <td>1965-04-02 00:00:00 UTC</td>\n",
       "      <td>0</td>\n",
       "      <td>2</td>\n",
       "      <td>38003564</td>\n",
       "      <td>1101000</td>\n",
       "      <td>NH</td>\n",
       "      <td>8532</td>\n",
       "      <td>1001001</td>\n",
       "      <td>F</td>\n",
       "      <td>0</td>\n",
       "      <td>4</td>\n",
       "      <td>97348</td>\n",
       "      <td>3199243</td>\n",
       "      <td>0</td>\n",
       "      <td>8527</td>\n",
       "      <td>701000</td>\n",
       "      <td>W</td>\n",
       "      <td>1965</td>\n",
       "    </tr>\n",
       "    <tr>\n",
       "      <th>7</th>\n",
       "      <td>1970-09-22 00:00:00 UTC</td>\n",
       "      <td>0</td>\n",
       "      <td>22</td>\n",
       "      <td>38003564</td>\n",
       "      <td>1101000</td>\n",
       "      <td>NH</td>\n",
       "      <td>8532</td>\n",
       "      <td>1001001</td>\n",
       "      <td>F</td>\n",
       "      <td>0</td>\n",
       "      <td>9</td>\n",
       "      <td>134545</td>\n",
       "      <td>3729860</td>\n",
       "      <td>0</td>\n",
       "      <td>8527</td>\n",
       "      <td>701000</td>\n",
       "      <td>W</td>\n",
       "      <td>1970</td>\n",
       "    </tr>\n",
       "    <tr>\n",
       "      <th>8</th>\n",
       "      <td>1989-01-16 00:00:00 UTC</td>\n",
       "      <td>0</td>\n",
       "      <td>16</td>\n",
       "      <td>38003564</td>\n",
       "      <td>1101000</td>\n",
       "      <td>NH</td>\n",
       "      <td>8532</td>\n",
       "      <td>1001001</td>\n",
       "      <td>F</td>\n",
       "      <td>0</td>\n",
       "      <td>1</td>\n",
       "      <td>160319</td>\n",
       "      <td>558307</td>\n",
       "      <td>0</td>\n",
       "      <td>8527</td>\n",
       "      <td>701000</td>\n",
       "      <td>W</td>\n",
       "      <td>1989</td>\n",
       "    </tr>\n",
       "    <tr>\n",
       "      <th>9</th>\n",
       "      <td>1999-10-19 00:00:00 UTC</td>\n",
       "      <td>0</td>\n",
       "      <td>19</td>\n",
       "      <td>38003564</td>\n",
       "      <td>1101000</td>\n",
       "      <td>NH</td>\n",
       "      <td>8532</td>\n",
       "      <td>1001001</td>\n",
       "      <td>F</td>\n",
       "      <td>0</td>\n",
       "      <td>10</td>\n",
       "      <td>171377</td>\n",
       "      <td>4007533</td>\n",
       "      <td>0</td>\n",
       "      <td>8527</td>\n",
       "      <td>701000</td>\n",
       "      <td>W</td>\n",
       "      <td>1999</td>\n",
       "    </tr>\n",
       "  </tbody>\n",
       "</table>\n",
       "</div>"
      ],
      "text/plain": [
       "            birth_datetime  care_site_id  day_of_birth  ethnicity_concept_id  \\\n",
       "0  1980-02-01 00:00:00 UTC             0             1              38003564   \n",
       "1  1949-11-20 00:00:00 UTC             0            20              38003564   \n",
       "2  1956-11-01 00:00:00 UTC             0             1              38003564   \n",
       "3  1949-06-21 00:00:00 UTC             0            21              38003564   \n",
       "4  1975-01-07 00:00:00 UTC             0             7              38003564   \n",
       "5  1955-12-19 00:00:00 UTC             0            19              38003564   \n",
       "6  1965-04-02 00:00:00 UTC             0             2              38003564   \n",
       "7  1970-09-22 00:00:00 UTC             0            22              38003564   \n",
       "8  1989-01-16 00:00:00 UTC             0            16              38003564   \n",
       "9  1999-10-19 00:00:00 UTC             0            19              38003564   \n",
       "\n",
       "   ethnicity_source_concept_id ethnicity_source_value  gender_concept_id  \\\n",
       "0                      1101000                     NH               8532   \n",
       "1                      1101000                     NH               8532   \n",
       "2                      1101000                     NH               8532   \n",
       "3                      1101000                     NH               8532   \n",
       "4                      1101000                     NH               8532   \n",
       "5                      1101000                     NH               8532   \n",
       "6                      1101000                     NH               8532   \n",
       "7                      1101000                     NH               8532   \n",
       "8                      1101000                     NH               8532   \n",
       "9                      1101000                     NH               8532   \n",
       "\n",
       "   gender_source_concept_id gender_source_value  location_id  month_of_birth  \\\n",
       "0                   1001001                   F            0               2   \n",
       "1                   1001001                   F            0              11   \n",
       "2                   1001001                   F            0              11   \n",
       "3                   1001001                   F            0               6   \n",
       "4                   1001001                   F            0               1   \n",
       "5                   1001001                   F            0              12   \n",
       "6                   1001001                   F            0               4   \n",
       "7                   1001001                   F            0               9   \n",
       "8                   1001001                   F            0               1   \n",
       "9                   1001001                   F            0              10   \n",
       "\n",
       "   person_id person_source_value  provider_id  race_concept_id  \\\n",
       "0       2103             4080155            0             8527   \n",
       "1       8073              942423            0             8527   \n",
       "2      46738             3403873            0             8527   \n",
       "3      72054             3021014            0             8527   \n",
       "4      73432             2962389            0             8527   \n",
       "5      94301             1933005            0             8527   \n",
       "6      97348             3199243            0             8527   \n",
       "7     134545             3729860            0             8527   \n",
       "8     160319              558307            0             8527   \n",
       "9     171377             4007533            0             8527   \n",
       "\n",
       "   race_source_concept_id race_source_value  year_of_birth  \n",
       "0                  701000                 W           1980  \n",
       "1                  701000                 W           1949  \n",
       "2                  701000                 W           1956  \n",
       "3                  701000                 W           1949  \n",
       "4                  701000                 W           1975  \n",
       "5                  701000                 W           1955  \n",
       "6                  701000                 W           1965  \n",
       "7                  701000                 W           1970  \n",
       "8                  701000                 W           1989  \n",
       "9                  701000                 W           1999  "
      ]
     },
     "execution_count": 21,
     "metadata": {},
     "output_type": "execute_result"
    }
   ],
   "source": [
    "cohort_person_df.head(10)"
   ]
  },
  {
   "cell_type": "markdown",
   "metadata": {},
   "source": [
    "### Section 3: Filter the table"
   ]
  },
  {
   "cell_type": "markdown",
   "metadata": {},
   "source": [
    "Now you have 18 rows of metadata to choose from! This section will show you how to narrow this down to the data displayed in the cohort builder: gender, race, and birth date."
   ]
  },
  {
   "cell_type": "markdown",
   "metadata": {},
   "source": [
    "Step 1: Look at the Person table by calling `.columns` to see what field names are used for gender, race, and birth date."
   ]
  },
  {
   "cell_type": "code",
   "execution_count": 22,
   "metadata": {},
   "outputs": [
    {
     "data": {
      "text/html": [
       "<div>\n",
       "<style>\n",
       "    .dataframe thead tr:only-child th {\n",
       "        text-align: right;\n",
       "    }\n",
       "\n",
       "    .dataframe thead th {\n",
       "        text-align: left;\n",
       "    }\n",
       "\n",
       "    .dataframe tbody tr th {\n",
       "        vertical-align: top;\n",
       "    }\n",
       "</style>\n",
       "<table border=\"1\" class=\"dataframe\">\n",
       "  <thead>\n",
       "    <tr style=\"text-align: right;\">\n",
       "      <th></th>\n",
       "      <th>Name</th>\n",
       "      <th>Type</th>\n",
       "      <th>Description</th>\n",
       "    </tr>\n",
       "  </thead>\n",
       "  <tbody>\n",
       "    <tr>\n",
       "      <th>0</th>\n",
       "      <td>person_id</td>\n",
       "      <td>integer</td>\n",
       "      <td>A unique identifier for each person.</td>\n",
       "    </tr>\n",
       "    <tr>\n",
       "      <th>1</th>\n",
       "      <td>gender_concept_id</td>\n",
       "      <td>integer</td>\n",
       "      <td>A foreign key that refers to an identifier in ...</td>\n",
       "    </tr>\n",
       "    <tr>\n",
       "      <th>2</th>\n",
       "      <td>year_of_birth</td>\n",
       "      <td>integer</td>\n",
       "      <td>The year of birth of the person. For data sour...</td>\n",
       "    </tr>\n",
       "    <tr>\n",
       "      <th>3</th>\n",
       "      <td>month_of_birth</td>\n",
       "      <td>integer</td>\n",
       "      <td>The month of birth of the person. For data sou...</td>\n",
       "    </tr>\n",
       "    <tr>\n",
       "      <th>4</th>\n",
       "      <td>day_of_birth</td>\n",
       "      <td>integer</td>\n",
       "      <td>The day of the month of birth of the person. F...</td>\n",
       "    </tr>\n",
       "    <tr>\n",
       "      <th>5</th>\n",
       "      <td>birth_datetime</td>\n",
       "      <td>timestamp</td>\n",
       "      <td>The date and time of birth of the person.</td>\n",
       "    </tr>\n",
       "    <tr>\n",
       "      <th>6</th>\n",
       "      <td>race_concept_id</td>\n",
       "      <td>integer</td>\n",
       "      <td>A foreign key that refers to an identifier in ...</td>\n",
       "    </tr>\n",
       "    <tr>\n",
       "      <th>7</th>\n",
       "      <td>ethnicity_concept_id</td>\n",
       "      <td>integer</td>\n",
       "      <td>A foreign key that refers to the standard conc...</td>\n",
       "    </tr>\n",
       "    <tr>\n",
       "      <th>8</th>\n",
       "      <td>location_id</td>\n",
       "      <td>integer</td>\n",
       "      <td>A foreign key to the place of residency for th...</td>\n",
       "    </tr>\n",
       "    <tr>\n",
       "      <th>9</th>\n",
       "      <td>provider_id</td>\n",
       "      <td>integer</td>\n",
       "      <td>A foreign key to the primary care provider the...</td>\n",
       "    </tr>\n",
       "    <tr>\n",
       "      <th>10</th>\n",
       "      <td>care_site_id</td>\n",
       "      <td>integer</td>\n",
       "      <td>A foreign key to the site of primary care in t...</td>\n",
       "    </tr>\n",
       "    <tr>\n",
       "      <th>11</th>\n",
       "      <td>person_source_value</td>\n",
       "      <td>string</td>\n",
       "      <td>An (encrypted) key derived from the person ide...</td>\n",
       "    </tr>\n",
       "    <tr>\n",
       "      <th>12</th>\n",
       "      <td>gender_source_value</td>\n",
       "      <td>string</td>\n",
       "      <td>The source code for the gender of the person a...</td>\n",
       "    </tr>\n",
       "    <tr>\n",
       "      <th>13</th>\n",
       "      <td>gender_source_concept_id</td>\n",
       "      <td>integer</td>\n",
       "      <td>A foreign key to the gender concept that refer...</td>\n",
       "    </tr>\n",
       "    <tr>\n",
       "      <th>14</th>\n",
       "      <td>race_source_value</td>\n",
       "      <td>string</td>\n",
       "      <td>The source code for the race of the person as ...</td>\n",
       "    </tr>\n",
       "    <tr>\n",
       "      <th>15</th>\n",
       "      <td>race_source_concept_id</td>\n",
       "      <td>integer</td>\n",
       "      <td>A foreign key to the race concept that refers ...</td>\n",
       "    </tr>\n",
       "    <tr>\n",
       "      <th>16</th>\n",
       "      <td>ethnicity_source_value</td>\n",
       "      <td>string</td>\n",
       "      <td>The source code for the ethnicity of the perso...</td>\n",
       "    </tr>\n",
       "    <tr>\n",
       "      <th>17</th>\n",
       "      <td>ethnicity_source_concept_id</td>\n",
       "      <td>integer</td>\n",
       "      <td>A foreign key to the ethnicity concept that re...</td>\n",
       "    </tr>\n",
       "  </tbody>\n",
       "</table>\n",
       "</div>"
      ],
      "text/plain": [
       "                           Name       Type  \\\n",
       "0                     person_id    integer   \n",
       "1             gender_concept_id    integer   \n",
       "2                 year_of_birth    integer   \n",
       "3                month_of_birth    integer   \n",
       "4                  day_of_birth    integer   \n",
       "5                birth_datetime  timestamp   \n",
       "6               race_concept_id    integer   \n",
       "7          ethnicity_concept_id    integer   \n",
       "8                   location_id    integer   \n",
       "9                   provider_id    integer   \n",
       "10                 care_site_id    integer   \n",
       "11          person_source_value     string   \n",
       "12          gender_source_value     string   \n",
       "13     gender_source_concept_id    integer   \n",
       "14            race_source_value     string   \n",
       "15       race_source_concept_id    integer   \n",
       "16       ethnicity_source_value     string   \n",
       "17  ethnicity_source_concept_id    integer   \n",
       "\n",
       "                                          Description  \n",
       "0                A unique identifier for each person.  \n",
       "1   A foreign key that refers to an identifier in ...  \n",
       "2   The year of birth of the person. For data sour...  \n",
       "3   The month of birth of the person. For data sou...  \n",
       "4   The day of the month of birth of the person. F...  \n",
       "5           The date and time of birth of the person.  \n",
       "6   A foreign key that refers to an identifier in ...  \n",
       "7   A foreign key that refers to the standard conc...  \n",
       "8   A foreign key to the place of residency for th...  \n",
       "9   A foreign key to the primary care provider the...  \n",
       "10  A foreign key to the site of primary care in t...  \n",
       "11  An (encrypted) key derived from the person ide...  \n",
       "12  The source code for the gender of the person a...  \n",
       "13  A foreign key to the gender concept that refer...  \n",
       "14  The source code for the race of the person as ...  \n",
       "15  A foreign key to the race concept that refers ...  \n",
       "16  The source code for the ethnicity of the perso...  \n",
       "17  A foreign key to the ethnicity concept that re...  "
      ]
     },
     "execution_count": 22,
     "metadata": {},
     "output_type": "execute_result"
    }
   ],
   "source": [
    "Person.columns"
   ]
  },
  {
   "cell_type": "markdown",
   "metadata": {},
   "source": [
    "The values for gender, race, and birth date that you'll want to return are: \n",
    "* gender_source_value\n",
    "* race_source_value\n",
    "* birth_datetime"
   ]
  },
  {
   "cell_type": "markdown",
   "metadata": {},
   "source": [
    "Step 2: Use `TableQuery` but this time, add the parameter `columns` to specify the exact attributes you want."
   ]
  },
  {
   "cell_type": "code",
   "execution_count": 23,
   "metadata": {},
   "outputs": [],
   "source": [
    "cohort_gender_race_age = TableQuery(table_name=Person.table_name,\n",
    "                          columns= [Person.person_id, Person.gender_source_value, Person.race_source_value, Person.birth_datetime])"
   ]
  },
  {
   "cell_type": "markdown",
   "metadata": {},
   "source": [
    "Step 3: Now take `cohort_gender_race_age` variable you just created and pass it to the `field_set` parameter within  `MaterializeCohortRequest` along with the `predefined_cohort` variable as the `cohort_name.` The results are passed to the `my_cohort_gender_race_age` variable."
   ]
  },
  {
   "cell_type": "code",
   "execution_count": 24,
   "metadata": {},
   "outputs": [],
   "source": [
    "my_cohort_gender_race_age = MaterializeCohortRequest(cohort_name=predefined_cohort, \n",
    "                                   field_set=FieldSet(table_query=cohort_gender_race_age))"
   ]
  },
  {
   "cell_type": "markdown",
   "metadata": {},
   "source": [
    "Step 4: Now materialize the cohort as you did earlier with `materialize_cohort`."
   ]
  },
  {
   "cell_type": "code",
   "execution_count": 25,
   "metadata": {},
   "outputs": [],
   "source": [
    "cohort_gender_race_age_results = materialize_cohort(my_cohort_gender_race_age)"
   ]
  },
  {
   "cell_type": "markdown",
   "metadata": {},
   "source": [
    "Step 5: Turn the results into a Pandas DataFrame and display the first 10 rows of the table"
   ]
  },
  {
   "cell_type": "code",
   "execution_count": 26,
   "metadata": {},
   "outputs": [
    {
     "data": {
      "text/html": [
       "<div>\n",
       "<style>\n",
       "    .dataframe thead tr:only-child th {\n",
       "        text-align: right;\n",
       "    }\n",
       "\n",
       "    .dataframe thead th {\n",
       "        text-align: left;\n",
       "    }\n",
       "\n",
       "    .dataframe tbody tr th {\n",
       "        vertical-align: top;\n",
       "    }\n",
       "</style>\n",
       "<table border=\"1\" class=\"dataframe\">\n",
       "  <thead>\n",
       "    <tr style=\"text-align: right;\">\n",
       "      <th></th>\n",
       "      <th>birth_datetime</th>\n",
       "      <th>gender_source_value</th>\n",
       "      <th>person_id</th>\n",
       "      <th>race_source_value</th>\n",
       "    </tr>\n",
       "  </thead>\n",
       "  <tbody>\n",
       "    <tr>\n",
       "      <th>0</th>\n",
       "      <td>1980-02-01 00:00:00 UTC</td>\n",
       "      <td>F</td>\n",
       "      <td>2103</td>\n",
       "      <td>W</td>\n",
       "    </tr>\n",
       "    <tr>\n",
       "      <th>1</th>\n",
       "      <td>1949-11-20 00:00:00 UTC</td>\n",
       "      <td>F</td>\n",
       "      <td>8073</td>\n",
       "      <td>W</td>\n",
       "    </tr>\n",
       "    <tr>\n",
       "      <th>2</th>\n",
       "      <td>1956-11-01 00:00:00 UTC</td>\n",
       "      <td>F</td>\n",
       "      <td>46738</td>\n",
       "      <td>W</td>\n",
       "    </tr>\n",
       "    <tr>\n",
       "      <th>3</th>\n",
       "      <td>1949-06-21 00:00:00 UTC</td>\n",
       "      <td>F</td>\n",
       "      <td>72054</td>\n",
       "      <td>W</td>\n",
       "    </tr>\n",
       "    <tr>\n",
       "      <th>4</th>\n",
       "      <td>1975-01-07 00:00:00 UTC</td>\n",
       "      <td>F</td>\n",
       "      <td>73432</td>\n",
       "      <td>W</td>\n",
       "    </tr>\n",
       "    <tr>\n",
       "      <th>5</th>\n",
       "      <td>1955-12-19 00:00:00 UTC</td>\n",
       "      <td>F</td>\n",
       "      <td>94301</td>\n",
       "      <td>W</td>\n",
       "    </tr>\n",
       "    <tr>\n",
       "      <th>6</th>\n",
       "      <td>1965-04-02 00:00:00 UTC</td>\n",
       "      <td>F</td>\n",
       "      <td>97348</td>\n",
       "      <td>W</td>\n",
       "    </tr>\n",
       "    <tr>\n",
       "      <th>7</th>\n",
       "      <td>1970-09-22 00:00:00 UTC</td>\n",
       "      <td>F</td>\n",
       "      <td>134545</td>\n",
       "      <td>W</td>\n",
       "    </tr>\n",
       "    <tr>\n",
       "      <th>8</th>\n",
       "      <td>1989-01-16 00:00:00 UTC</td>\n",
       "      <td>F</td>\n",
       "      <td>160319</td>\n",
       "      <td>W</td>\n",
       "    </tr>\n",
       "    <tr>\n",
       "      <th>9</th>\n",
       "      <td>1999-10-19 00:00:00 UTC</td>\n",
       "      <td>F</td>\n",
       "      <td>171377</td>\n",
       "      <td>W</td>\n",
       "    </tr>\n",
       "  </tbody>\n",
       "</table>\n",
       "</div>"
      ],
      "text/plain": [
       "            birth_datetime gender_source_value  person_id race_source_value\n",
       "0  1980-02-01 00:00:00 UTC                   F       2103                 W\n",
       "1  1949-11-20 00:00:00 UTC                   F       8073                 W\n",
       "2  1956-11-01 00:00:00 UTC                   F      46738                 W\n",
       "3  1949-06-21 00:00:00 UTC                   F      72054                 W\n",
       "4  1975-01-07 00:00:00 UTC                   F      73432                 W\n",
       "5  1955-12-19 00:00:00 UTC                   F      94301                 W\n",
       "6  1965-04-02 00:00:00 UTC                   F      97348                 W\n",
       "7  1970-09-22 00:00:00 UTC                   F     134545                 W\n",
       "8  1989-01-16 00:00:00 UTC                   F     160319                 W\n",
       "9  1999-10-19 00:00:00 UTC                   F     171377                 W"
      ]
     },
     "execution_count": 26,
     "metadata": {},
     "output_type": "execute_result"
    }
   ],
   "source": [
    "cohort_gender_race_age_df = pd.DataFrame(list(cohort_gender_race_age_results))\n",
    "cohort_gender_race_age_df.head(10)"
   ]
  },
  {
   "cell_type": "markdown",
   "metadata": {},
   "source": [
    "### Section 4: Save as a CSV for later analysis"
   ]
  },
  {
   "cell_type": "markdown",
   "metadata": {},
   "source": [
    "Step 1: Take the DataFrame you just created and call `.to_csv` to transform the DataFrame into a csv. In between the parenthesis below, name the csv something descriptive."
   ]
  },
  {
   "cell_type": "code",
   "execution_count": 20,
   "metadata": {},
   "outputs": [],
   "source": [
    "cohort_gender_race_age_df.to_csv(\"Bi-polar-female-cohort.csv\")"
   ]
  },
  {
   "cell_type": "markdown",
   "metadata": {},
   "source": [
    "To see where the csv has been saved, click the **Jupyter icon at the top of this notebook->Workspaces->The workspace this notebook lives in->see CSV**.The csv will be listed below your other notebooks.\n",
    "\n",
    "To read the csv next time you enter a notebook in this workspace, use: <br/>\n",
    "`dataframe_name = pd.read_csv(“file_name.csv”)`"
   ]
  }
 ],
 "metadata": {
  "kernelspec": {
   "display_name": "Python 3",
   "language": "python",
   "name": "python3"
  },
  "language_info": {
   "codemirror_mode": {
    "name": "ipython",
    "version": 3
   },
   "file_extension": ".py",
   "mimetype": "text/x-python",
   "name": "python",
   "nbconvert_exporter": "python",
   "pygments_lexer": "ipython3",
   "version": "3.4.2"
  }
 },
 "nbformat": 4,
 "nbformat_minor": 2
}
