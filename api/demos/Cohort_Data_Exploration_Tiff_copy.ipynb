{
 "cells": [
  {
   "cell_type": "markdown",
   "metadata": {},
   "source": [
    "### Welcome to this tutorial notebook\n",
    "#### Objectives:\n",
    "* Notebook basics: how to use a notebook, install packages, and import modules.\n",
    "* How to use common packages like pandas, numpy, and seaborn (we import sklearn but don't use it)\n",
    "* Links to popular learning notebooks"
   ]
  },
  {
   "cell_type": "markdown",
   "metadata": {},
   "source": [
    "The versions of most of the Python packages installed are **ancient**. You will need to upgrade some of them. Pandas can be updated via:\n",
    "\n",
    "    !pip3 install --user --upgrade --no-build-isolation pandas\n",
    "    \n",
    "if you need to update the Python client libraries, this can be done via:\n",
    "\n",
    "```\n",
    "PYCLIENT = 'https://github.com/all-of-us/pyclient/archive/pyclient-v1-9.zip#egg=aou_workbench_client&subdirectory=py'\n",
    "!pip3 install --user --upgrade \"$PYCLIENT\"\n",
    "```"
   ]
  },
  {
   "cell_type": "code",
   "execution_count": 3,
   "metadata": {},
   "outputs": [
    {
     "name": "stdout",
     "output_type": "stream",
     "text": [
      "Requirement already up-to-date: pandas in /home/jupyter-user/.local/lib/python3.4/site-packages (0.22.0)\n",
      "Requirement not upgraded as not directly required: pytz>=2011k in /usr/lib/python3/dist-packages (from pandas) (2012rc0)\n",
      "Requirement not upgraded as not directly required: numpy>=1.9.0 in /home/jupyter-user/.local/lib/python3.4/site-packages (from pandas) (1.14.5)\n",
      "Requirement not upgraded as not directly required: python-dateutil>=2 in /home/jupyter-user/.local/lib/python3.4/site-packages (from pandas) (2.7.3)\n",
      "Requirement not upgraded as not directly required: six>=1.5 in /usr/local/lib/python3.4/dist-packages (from python-dateutil>=2->pandas) (1.11.0)\n",
      "\u001b[31mgapic-google-cloud-datastore-v1 0.15.3 has requirement oauth2client<4.0dev,>=2.0.0, but you'll have oauth2client 4.1.2 which is incompatible.\u001b[0m\n",
      "\u001b[31mproto-google-cloud-error-reporting-v1beta1 0.15.3 has requirement oauth2client<4.0dev,>=2.0.0, but you'll have oauth2client 4.1.2 which is incompatible.\u001b[0m\n",
      "\u001b[31mproto-google-cloud-logging-v2 0.91.3 has requirement oauth2client<4.0dev,>=2.0.0, but you'll have oauth2client 4.1.2 which is incompatible.\u001b[0m\n",
      "\u001b[31mproto-google-cloud-datastore-v1 0.90.4 has requirement oauth2client<4.0dev,>=2.0.0, but you'll have oauth2client 4.1.2 which is incompatible.\u001b[0m\n",
      "\u001b[31mgapic-google-cloud-logging-v2 0.91.3 has requirement oauth2client<4.0dev,>=2.0.0, but you'll have oauth2client 4.1.2 which is incompatible.\u001b[0m\n",
      "\u001b[31mgapic-google-cloud-error-reporting-v1beta1 0.15.3 has requirement oauth2client<4.0dev,>=2.0.0, but you'll have oauth2client 4.1.2 which is incompatible.\u001b[0m\n"
     ]
    }
   ],
   "source": [
    "!pip3 install --user --upgrade --no-build-isolation pandas"
   ]
  },
  {
   "cell_type": "code",
   "execution_count": 4,
   "metadata": {},
   "outputs": [
    {
     "name": "stdout",
     "output_type": "stream",
     "text": [
      "Collecting aou_workbench_client from https://github.com/all-of-us/pyclient/archive/pyclient-v1-9.zip#egg=aou_workbench_client&subdirectory=py\n",
      "Requirement not upgraded as not directly required: python-dateutil>=2.5.3 in /home/jupyter-user/.local/lib/python3.4/site-packages (from aou_workbench_client) (2.7.3)\n",
      "Requirement not upgraded as not directly required: ipython>=5.7.0 in /usr/local/lib/python3.4/dist-packages (from aou_workbench_client) (6.4.0)\n",
      "Requirement not upgraded as not directly required: oauth2client>=4.0.0 in /home/jupyter-user/.local/lib/python3.4/site-packages (from aou_workbench_client) (4.1.2)\n",
      "Requirement not upgraded as not directly required: pandas>=0.14.1 in /home/jupyter-user/.local/lib/python3.4/site-packages (from aou_workbench_client) (0.22.0)\n",
      "Requirement not upgraded as not directly required: certifi>=14.05.14 in /usr/local/lib/python3.4/dist-packages (from aou_workbench_client) (2018.4.16)\n",
      "Requirement not upgraded as not directly required: six>=1.10 in /usr/local/lib/python3.4/dist-packages (from aou_workbench_client) (1.11.0)\n",
      "Requirement not upgraded as not directly required: setuptools>=21.0.0 in /usr/local/lib/python3.4/dist-packages (from aou_workbench_client) (39.2.0)\n",
      "Requirement not upgraded as not directly required: urllib3>=1.15.1 in /usr/local/lib/python3.4/dist-packages (from aou_workbench_client) (1.22)\n",
      "Requirement not upgraded as not directly required: traitlets>=4.2 in /usr/local/lib/python3.4/dist-packages (from ipython>=5.7.0->aou_workbench_client) (4.3.2)\n",
      "Requirement not upgraded as not directly required: simplegeneric>0.8 in /usr/local/lib/python3.4/dist-packages (from ipython>=5.7.0->aou_workbench_client) (0.8.1)\n",
      "Requirement not upgraded as not directly required: backcall in /usr/local/lib/python3.4/dist-packages (from ipython>=5.7.0->aou_workbench_client) (0.1.0)\n",
      "Requirement not upgraded as not directly required: pexpect; sys_platform != \"win32\" in /usr/local/lib/python3.4/dist-packages (from ipython>=5.7.0->aou_workbench_client) (4.6.0)\n",
      "Requirement not upgraded as not directly required: pygments in /usr/local/lib/python3.4/dist-packages (from ipython>=5.7.0->aou_workbench_client) (2.2.0)\n",
      "Requirement not upgraded as not directly required: pickleshare in /usr/local/lib/python3.4/dist-packages (from ipython>=5.7.0->aou_workbench_client) (0.7.4)\n",
      "Requirement not upgraded as not directly required: prompt-toolkit<2.0.0,>=1.0.15 in /usr/local/lib/python3.4/dist-packages (from ipython>=5.7.0->aou_workbench_client) (1.0.15)\n",
      "Requirement not upgraded as not directly required: typing; python_version <= \"3.4\" in /usr/local/lib/python3.4/dist-packages (from ipython>=5.7.0->aou_workbench_client) (3.6.4)\n",
      "Requirement not upgraded as not directly required: jedi>=0.10 in /usr/local/lib/python3.4/dist-packages (from ipython>=5.7.0->aou_workbench_client) (0.12.0)\n",
      "Requirement not upgraded as not directly required: decorator in /usr/local/lib/python3.4/dist-packages (from ipython>=5.7.0->aou_workbench_client) (4.3.0)\n",
      "Requirement not upgraded as not directly required: httplib2>=0.9.1 in /usr/local/lib/python3.4/dist-packages (from oauth2client>=4.0.0->aou_workbench_client) (0.11.3)\n",
      "Requirement not upgraded as not directly required: pyasn1>=0.1.7 in /usr/local/lib/python3.4/dist-packages (from oauth2client>=4.0.0->aou_workbench_client) (0.4.3)\n",
      "Requirement not upgraded as not directly required: pyasn1-modules>=0.0.5 in /usr/local/lib/python3.4/dist-packages (from oauth2client>=4.0.0->aou_workbench_client) (0.2.1)\n",
      "Requirement not upgraded as not directly required: rsa>=3.1.4 in /usr/local/lib/python3.4/dist-packages (from oauth2client>=4.0.0->aou_workbench_client) (3.4.2)\n",
      "Requirement not upgraded as not directly required: numpy>=1.9.0 in /home/jupyter-user/.local/lib/python3.4/site-packages (from pandas>=0.14.1->aou_workbench_client) (1.14.5)\n",
      "Requirement not upgraded as not directly required: pytz>=2011k in /usr/lib/python3/dist-packages (from pandas>=0.14.1->aou_workbench_client) (2012rc0)\n",
      "Requirement not upgraded as not directly required: ipython-genutils in /usr/local/lib/python3.4/dist-packages (from traitlets>=4.2->ipython>=5.7.0->aou_workbench_client) (0.2.0)\n",
      "Requirement not upgraded as not directly required: ptyprocess>=0.5 in /usr/local/lib/python3.4/dist-packages (from pexpect; sys_platform != \"win32\"->ipython>=5.7.0->aou_workbench_client) (0.5.2)\n",
      "Requirement not upgraded as not directly required: wcwidth in /usr/local/lib/python3.4/dist-packages (from prompt-toolkit<2.0.0,>=1.0.15->ipython>=5.7.0->aou_workbench_client) (0.1.7)\n",
      "Requirement not upgraded as not directly required: parso>=0.2.0 in /usr/local/lib/python3.4/dist-packages (from jedi>=0.10->ipython>=5.7.0->aou_workbench_client) (0.2.1)\n",
      "\u001b[31mgapic-google-cloud-datastore-v1 0.15.3 has requirement oauth2client<4.0dev,>=2.0.0, but you'll have oauth2client 4.1.2 which is incompatible.\u001b[0m\n",
      "\u001b[31mgapic-google-cloud-logging-v2 0.91.3 has requirement oauth2client<4.0dev,>=2.0.0, but you'll have oauth2client 4.1.2 which is incompatible.\u001b[0m\n",
      "\u001b[31mproto-google-cloud-logging-v2 0.91.3 has requirement oauth2client<4.0dev,>=2.0.0, but you'll have oauth2client 4.1.2 which is incompatible.\u001b[0m\n",
      "\u001b[31mproto-google-cloud-datastore-v1 0.90.4 has requirement oauth2client<4.0dev,>=2.0.0, but you'll have oauth2client 4.1.2 which is incompatible.\u001b[0m\n",
      "\u001b[31mproto-google-cloud-error-reporting-v1beta1 0.15.3 has requirement oauth2client<4.0dev,>=2.0.0, but you'll have oauth2client 4.1.2 which is incompatible.\u001b[0m\n",
      "\u001b[31mgapic-google-cloud-error-reporting-v1beta1 0.15.3 has requirement oauth2client<4.0dev,>=2.0.0, but you'll have oauth2client 4.1.2 which is incompatible.\u001b[0m\n",
      "Installing collected packages: aou-workbench-client\n",
      "  Found existing installation: aou-workbench-client 1.1.1\n",
      "    Uninstalling aou-workbench-client-1.1.1:\n",
      "      Successfully uninstalled aou-workbench-client-1.1.1\n",
      "Successfully installed aou-workbench-client-1.1.1\n"
     ]
    }
   ],
   "source": [
    "PYCLIENT = 'https://github.com/all-of-us/pyclient/archive/pyclient-v1-9.zip#egg=aou_workbench_client&subdirectory=py'\n",
    "!pip3 install --user --upgrade \"$PYCLIENT\""
   ]
  },
  {
   "cell_type": "code",
   "execution_count": 5,
   "metadata": {},
   "outputs": [],
   "source": [
    "%matplotlib inline\n",
    "import pandas as pd\n",
    "import numpy as np\n",
    "import matplotlib.pyplot as plt\n",
    "import seaborn as sns\n",
    "import sklearn\n",
    "\n",
    "sns.set(context='notebook', style='ticks', palette='ocean_r')\n",
    "pd.set_option('display.width', 10000)\n",
    "pd.set_option('display.max_colwidth', -1)"
   ]
  },
  {
   "cell_type": "code",
   "execution_count": 6,
   "metadata": {},
   "outputs": [
    {
     "data": {
      "text/plain": [
       "'0.22.0'"
      ]
     },
     "execution_count": 6,
     "metadata": {},
     "output_type": "execute_result"
    }
   ],
   "source": [
    "pd.__version__"
   ]
  },
  {
   "cell_type": "markdown",
   "metadata": {},
   "source": [
    "We will use the AoU Python client library to query data, rather than hitting BigQuery directly."
   ]
  },
  {
   "cell_type": "code",
   "execution_count": 7,
   "metadata": {},
   "outputs": [],
   "source": [
    "from aou_workbench_client.swagger_client.models import ResultFilters, MaterializeCohortRequest, CohortStatus\n",
    "from aou_workbench_client.swagger_client.models import TableQuery, ColumnFilter, Operator, FieldSet, AnnotationQuery\n",
    "from aou_workbench_client.cohorts import materialize_cohort\n",
    "from aou_workbench_client.cdr.model import Observation, Measurement, Concept"
   ]
  },
  {
   "cell_type": "markdown",
   "metadata": {},
   "source": [
    "The client library constructs queries, returning results in Python data structures. Valid tables are: \n",
    "\n",
    "- condition_occurrence\n",
    "- death\n",
    "- device_exposure\n",
    "- drug_exposure\n",
    "- measurement\n",
    "- observation\n",
    "- person\n",
    "- procedure_occurrence\n",
    "- visit_occurrence"
   ]
  },
  {
   "cell_type": "code",
   "execution_count": 8,
   "metadata": {},
   "outputs": [],
   "source": [
    "MEASUREMENT_TABLE = \"measurement\"\n",
    "#PERSON_TABLE = \"person\"\n",
    "\n",
    "#HEART_RATE_CONCEPT_ID = 3027018"
   ]
  },
  {
   "cell_type": "markdown",
   "metadata": {},
   "source": [
    "## Querying the Flu Cohort\n",
    "\n",
    "For example, let's query body temperature information from the Flu cohort. We will first create a `ColumnFilter` that will extract `measurement_source_value`s that correspond to body temperature measurements. We then pass this to a `ResultFilters` object, which can be used to compose a filter with multiple conditions."
   ]
  },
  {
   "cell_type": "code",
   "execution_count": 9,
   "metadata": {
    "scrolled": true
   },
   "outputs": [
    {
     "data": {
      "text/html": [
       "<div>\n",
       "<style scoped>\n",
       "    .dataframe tbody tr th:only-of-type {\n",
       "        vertical-align: middle;\n",
       "    }\n",
       "\n",
       "    .dataframe tbody tr th {\n",
       "        vertical-align: top;\n",
       "    }\n",
       "\n",
       "    .dataframe thead th {\n",
       "        text-align: right;\n",
       "    }\n",
       "</style>\n",
       "<table border=\"1\" class=\"dataframe\">\n",
       "  <thead>\n",
       "    <tr style=\"text-align: right;\">\n",
       "      <th></th>\n",
       "      <th>Name</th>\n",
       "      <th>Type</th>\n",
       "      <th>Description</th>\n",
       "    </tr>\n",
       "  </thead>\n",
       "  <tbody>\n",
       "    <tr>\n",
       "      <th>0</th>\n",
       "      <td>measurement_id</td>\n",
       "      <td>integer</td>\n",
       "      <td>A unique identifier for each Measurement.</td>\n",
       "    </tr>\n",
       "    <tr>\n",
       "      <th>1</th>\n",
       "      <td>person_id</td>\n",
       "      <td>integer</td>\n",
       "      <td>A foreign key identifier to the Person about whom the measurement was recorded. The demographic details of that Person are stored in the PERSON table.</td>\n",
       "    </tr>\n",
       "    <tr>\n",
       "      <th>2</th>\n",
       "      <td>measurement_concept_id</td>\n",
       "      <td>integer</td>\n",
       "      <td>A foreign key to the standard measurement concept identifier in the Standardized Vocabularies.</td>\n",
       "    </tr>\n",
       "    <tr>\n",
       "      <th>3</th>\n",
       "      <td>measurement_date</td>\n",
       "      <td>date</td>\n",
       "      <td>The date of the Measurement.</td>\n",
       "    </tr>\n",
       "    <tr>\n",
       "      <th>4</th>\n",
       "      <td>measurement_datetime</td>\n",
       "      <td>timestamp</td>\n",
       "      <td>The date and time of the Measurement. Some database systems don't have a datatype of time. To accomodate all temporal analyses, datatype datetime can be used (combining measurement_date and measurement_time [forum discussion](http://forums.ohdsi.org/t/date-time-and-datetime-problem-and-the-world-of-hours-and-1day/314))</td>\n",
       "    </tr>\n",
       "    <tr>\n",
       "      <th>5</th>\n",
       "      <td>measurement_type_concept_id</td>\n",
       "      <td>integer</td>\n",
       "      <td>A foreign key to the predefined Concept in the Standardized Vocabularies reflecting the provenance from where the Measurement record was recorded.</td>\n",
       "    </tr>\n",
       "    <tr>\n",
       "      <th>6</th>\n",
       "      <td>operator_concept_id</td>\n",
       "      <td>integer</td>\n",
       "      <td>A foreign key identifier to the predefined Concept in the Standardized Vocabularies reflecting the mathematical operator that is applied to the value_as_number. Operators are &lt;, &lt;=, =, &gt;=, &gt;.</td>\n",
       "    </tr>\n",
       "    <tr>\n",
       "      <th>7</th>\n",
       "      <td>value_as_number</td>\n",
       "      <td>float</td>\n",
       "      <td>A Measurement result where the result is expressed as a numeric value.</td>\n",
       "    </tr>\n",
       "    <tr>\n",
       "      <th>8</th>\n",
       "      <td>value_as_concept_id</td>\n",
       "      <td>integer</td>\n",
       "      <td>A foreign key to a Measurement result represented as a Concept from the Standardized Vocabularies (e.g., positive/negative, present/absent, low/high, etc.).</td>\n",
       "    </tr>\n",
       "    <tr>\n",
       "      <th>9</th>\n",
       "      <td>unit_concept_id</td>\n",
       "      <td>integer</td>\n",
       "      <td>A foreign key to a Standard Concept ID of Measurement Units in the Standardized Vocabularies.</td>\n",
       "    </tr>\n",
       "    <tr>\n",
       "      <th>10</th>\n",
       "      <td>range_low</td>\n",
       "      <td>float</td>\n",
       "      <td>The lower limit of the normal range of the Measurement result. The lower range is assumed to be of the same unit of measure as the Measurement value.</td>\n",
       "    </tr>\n",
       "    <tr>\n",
       "      <th>11</th>\n",
       "      <td>range_high</td>\n",
       "      <td>float</td>\n",
       "      <td>The upper limit of the normal range of the Measurement. The upper range is assumed to be of the same unit of measure as the Measurement value.</td>\n",
       "    </tr>\n",
       "    <tr>\n",
       "      <th>12</th>\n",
       "      <td>provider_id</td>\n",
       "      <td>integer</td>\n",
       "      <td>A foreign key to the provider in the PROVIDER table who was responsible for initiating or obtaining the measurement.</td>\n",
       "    </tr>\n",
       "    <tr>\n",
       "      <th>13</th>\n",
       "      <td>visit_occurrence_id</td>\n",
       "      <td>integer</td>\n",
       "      <td>A foreign key to the Visit in the VISIT_OCCURRENCE table during which the Measurement was recorded.</td>\n",
       "    </tr>\n",
       "    <tr>\n",
       "      <th>14</th>\n",
       "      <td>measurement_source_value</td>\n",
       "      <td>string</td>\n",
       "      <td>The Measurement name as it appears in the source data. This code is mapped to a Standard Concept in the Standardized Vocabularies and the original code is stored here for reference.</td>\n",
       "    </tr>\n",
       "    <tr>\n",
       "      <th>15</th>\n",
       "      <td>measurement_source_concept_id</td>\n",
       "      <td>integer</td>\n",
       "      <td>A foreign key to a Concept in the Standard Vocabularies that refers to the code used in the source.</td>\n",
       "    </tr>\n",
       "    <tr>\n",
       "      <th>16</th>\n",
       "      <td>unit_source_value</td>\n",
       "      <td>string</td>\n",
       "      <td>The source code for the unit as it appears in the source data. This code is mapped to a standard unit concept in the Standardized Vocabularies and the original code is stored here for reference.</td>\n",
       "    </tr>\n",
       "    <tr>\n",
       "      <th>17</th>\n",
       "      <td>value_source_value</td>\n",
       "      <td>string</td>\n",
       "      <td>The source value associated with the content of the value_as_number or value_as_concept_id as stored in the source data.</td>\n",
       "    </tr>\n",
       "  </tbody>\n",
       "</table>\n",
       "</div>"
      ],
      "text/plain": [
       "                             Name       Type                                                                                                                                                                                                                                                                                                                       Description\n",
       "0   measurement_id                 integer    A unique identifier for each Measurement.                                                                                                                                                                                                                                                                                       \n",
       "1   person_id                      integer    A foreign key identifier to the Person about whom the measurement was recorded. The demographic details of that Person are stored in the PERSON table.                                                                                                                                                                          \n",
       "2   measurement_concept_id         integer    A foreign key to the standard measurement concept identifier in the Standardized Vocabularies.                                                                                                                                                                                                                                  \n",
       "3   measurement_date               date       The date of the Measurement.                                                                                                                                                                                                                                                                                                    \n",
       "4   measurement_datetime           timestamp  The date and time of the Measurement. Some database systems don't have a datatype of time. To accomodate all temporal analyses, datatype datetime can be used (combining measurement_date and measurement_time [forum discussion](http://forums.ohdsi.org/t/date-time-and-datetime-problem-and-the-world-of-hours-and-1day/314))\n",
       "5   measurement_type_concept_id    integer    A foreign key to the predefined Concept in the Standardized Vocabularies reflecting the provenance from where the Measurement record was recorded.                                                                                                                                                                              \n",
       "6   operator_concept_id            integer    A foreign key identifier to the predefined Concept in the Standardized Vocabularies reflecting the mathematical operator that is applied to the value_as_number. Operators are <, <=, =, >=, >.                                                                                                                                 \n",
       "7   value_as_number                float      A Measurement result where the result is expressed as a numeric value.                                                                                                                                                                                                                                                          \n",
       "8   value_as_concept_id            integer    A foreign key to a Measurement result represented as a Concept from the Standardized Vocabularies (e.g., positive/negative, present/absent, low/high, etc.).                                                                                                                                                                    \n",
       "9   unit_concept_id                integer    A foreign key to a Standard Concept ID of Measurement Units in the Standardized Vocabularies.                                                                                                                                                                                                                                   \n",
       "10  range_low                      float      The lower limit of the normal range of the Measurement result. The lower range is assumed to be of the same unit of measure as the Measurement value.                                                                                                                                                                           \n",
       "11  range_high                     float      The upper limit of the normal range of the Measurement. The upper range is assumed to be of the same unit of measure as the Measurement value.                                                                                                                                                                                  \n",
       "12  provider_id                    integer    A foreign key to the provider in the PROVIDER table who was responsible for initiating or obtaining the measurement.                                                                                                                                                                                                            \n",
       "13  visit_occurrence_id            integer    A foreign key to the Visit in the VISIT_OCCURRENCE table during which the Measurement was recorded.                                                                                                                                                                                                                             \n",
       "14  measurement_source_value       string     The Measurement name as it appears in the source data. This code is mapped to a Standard Concept in the Standardized Vocabularies and the original code is stored here for reference.                                                                                                                                           \n",
       "15  measurement_source_concept_id  integer    A foreign key to a Concept in the Standard Vocabularies that refers to the code used in the source.                                                                                                                                                                                                                             \n",
       "16  unit_source_value              string     The source code for the unit as it appears in the source data. This code is mapped to a standard unit concept in the Standardized Vocabularies and the original code is stored here for reference.                                                                                                                              \n",
       "17  value_source_value             string     The source value associated with the content of the value_as_number or value_as_concept_id as stored in the source data.                                                                                                                                                                                                        "
      ]
     },
     "execution_count": 9,
     "metadata": {},
     "output_type": "execute_result"
    }
   ],
   "source": [
    "Measurement.columns"
   ]
  },
  {
   "cell_type": "code",
   "execution_count": 11,
   "metadata": {},
   "outputs": [],
   "source": [
    "temp_filter = ResultFilters(column_filter=ColumnFilter(Measurement.measurement_source_value, \n",
    "                                                        value='Temper'))"
   ]
  },
  {
   "cell_type": "markdown",
   "metadata": {},
   "source": [
    "In turn, we apply the filter to the construction of a `TableQuery` where we specify the table of interest and the columns that we wish to extract."
   ]
  },
  {
   "cell_type": "code",
   "execution_count": 28,
   "metadata": {},
   "outputs": [],
   "source": [
    "measure_query = TableQuery(table_name=MEASUREMENT_TABLE)\n",
    "                          columns=[Measurement.person_id, Measurement.measurement_id, Measurement.measurement_date, Measurement.measurement_source_value,Measurement.value_as_number,Measurement.unit_source_value],\n",
    "                          #filters=temp_filter)"
   ]
  },
  {
   "cell_type": "markdown",
   "metadata": {},
   "source": [
    "The `MaterializeCohortRequest` object is responsible for executing the query and returning a `FieldSet`, a tabular dataset that is the result of the query. \n",
    "\n",
    "So that larger queries can be accomodated, a `page_size` can be specified which fetches the data in chunks."
   ]
  },
  {
   "cell_type": "code",
   "execution_count": 29,
   "metadata": {},
   "outputs": [],
   "source": [
    "measure_request = MaterializeCohortRequest(cohort_name=\"ICD10-F31.30-Bi-polar-female\", \n",
    "                                   field_set=FieldSet(table_query=measure_query), \n",
    "                                   page_size=1000)"
   ]
  },
  {
   "cell_type": "markdown",
   "metadata": {},
   "source": [
    "The results are returned when the `MaterializeCohortRequest` is passed to the `materialize_cohort` function. We will limit the number of results to 1000 here."
   ]
  },
  {
   "cell_type": "code",
   "execution_count": 30,
   "metadata": {},
   "outputs": [],
   "source": [
    "measure_repsonse = materialize_cohort(measure_request, max_results=1000)"
   ]
  },
  {
   "cell_type": "markdown",
   "metadata": {},
   "source": [
    "The data is returned as a generator, which yields pages of results when requested."
   ]
  },
  {
   "cell_type": "code",
   "execution_count": 31,
   "metadata": {
    "scrolled": true
   },
   "outputs": [
    {
     "data": {
      "text/plain": [
       "<generator object materialize_cohort at 0x7ff0082df438>"
      ]
     },
     "execution_count": 31,
     "metadata": {},
     "output_type": "execute_result"
    }
   ],
   "source": [
    "measure_repsonse"
   ]
  },
  {
   "cell_type": "markdown",
   "metadata": {},
   "source": [
    "We typically want to view and manipulate as a Pandas `DataFrame`, so we can extract the data by casting it to a `list`, and using that to instantiate a `DataFrame`."
   ]
  },
  {
   "cell_type": "code",
   "execution_count": 32,
   "metadata": {},
   "outputs": [],
   "source": [
    "measure_df = pd.DataFrame(list(measure_repsonse))"
   ]
  },
  {
   "cell_type": "code",
   "execution_count": 33,
   "metadata": {},
   "outputs": [
    {
     "data": {
      "text/plain": [
       "(1000, 18)"
      ]
     },
     "execution_count": 33,
     "metadata": {},
     "output_type": "execute_result"
    }
   ],
   "source": [
    "measure_df.shape"
   ]
  },
  {
   "cell_type": "code",
   "execution_count": 34,
   "metadata": {},
   "outputs": [
    {
     "data": {
      "text/html": [
       "<div>\n",
       "<style>\n",
       "    .dataframe thead tr:only-child th {\n",
       "        text-align: right;\n",
       "    }\n",
       "\n",
       "    .dataframe thead th {\n",
       "        text-align: left;\n",
       "    }\n",
       "\n",
       "    .dataframe tbody tr th {\n",
       "        vertical-align: top;\n",
       "    }\n",
       "</style>\n",
       "<table border=\"1\" class=\"dataframe\">\n",
       "  <thead>\n",
       "    <tr style=\"text-align: right;\">\n",
       "      <th></th>\n",
       "      <th>measurement_concept_id</th>\n",
       "      <th>measurement_date</th>\n",
       "      <th>measurement_datetime</th>\n",
       "      <th>measurement_id</th>\n",
       "      <th>measurement_source_concept_id</th>\n",
       "      <th>measurement_source_value</th>\n",
       "      <th>measurement_type_concept_id</th>\n",
       "      <th>operator_concept_id</th>\n",
       "      <th>person_id</th>\n",
       "      <th>provider_id</th>\n",
       "      <th>range_high</th>\n",
       "      <th>range_low</th>\n",
       "      <th>unit_concept_id</th>\n",
       "      <th>unit_source_value</th>\n",
       "      <th>value_as_concept_id</th>\n",
       "      <th>value_as_number</th>\n",
       "      <th>value_source_value</th>\n",
       "      <th>visit_occurrence_id</th>\n",
       "    </tr>\n",
       "  </thead>\n",
       "  <tbody>\n",
       "    <tr>\n",
       "      <th>0</th>\n",
       "      <td>2212392</td>\n",
       "      <td>2014-12-22</td>\n",
       "      <td>2014-12-22 00:00:00 UTC</td>\n",
       "      <td>17371965</td>\n",
       "      <td>2212392</td>\n",
       "      <td>83036</td>\n",
       "      <td>8201211112</td>\n",
       "      <td>0.0</td>\n",
       "      <td>2103</td>\n",
       "      <td>0</td>\n",
       "      <td>NaN</td>\n",
       "      <td>NaN</td>\n",
       "      <td>0</td>\n",
       "      <td>NaN</td>\n",
       "      <td>0.000000e+00</td>\n",
       "      <td>1.00</td>\n",
       "      <td>83036</td>\n",
       "      <td>189340028.0</td>\n",
       "    </tr>\n",
       "    <tr>\n",
       "      <th>1</th>\n",
       "      <td>2212095</td>\n",
       "      <td>2014-12-22</td>\n",
       "      <td>2014-12-22 00:00:00 UTC</td>\n",
       "      <td>17395067</td>\n",
       "      <td>2212095</td>\n",
       "      <td>80061</td>\n",
       "      <td>8201211112</td>\n",
       "      <td>0.0</td>\n",
       "      <td>2103</td>\n",
       "      <td>0</td>\n",
       "      <td>NaN</td>\n",
       "      <td>NaN</td>\n",
       "      <td>0</td>\n",
       "      <td>NaN</td>\n",
       "      <td>0.000000e+00</td>\n",
       "      <td>1.00</td>\n",
       "      <td>80061</td>\n",
       "      <td>189340028.0</td>\n",
       "    </tr>\n",
       "    <tr>\n",
       "      <th>2</th>\n",
       "      <td>44806420</td>\n",
       "      <td>2014-12-22</td>\n",
       "      <td>2014-12-22 08:46:00 UTC</td>\n",
       "      <td>24651719</td>\n",
       "      <td>44806420</td>\n",
       "      <td>EGFR</td>\n",
       "      <td>44818701</td>\n",
       "      <td>0.0</td>\n",
       "      <td>2103</td>\n",
       "      <td>0</td>\n",
       "      <td>89.0</td>\n",
       "      <td>60.0</td>\n",
       "      <td>9117</td>\n",
       "      <td>mL/min/1.73.m2</td>\n",
       "      <td>8.170111e+09</td>\n",
       "      <td>63.07</td>\n",
       "      <td>EGFR</td>\n",
       "      <td>0.0</td>\n",
       "    </tr>\n",
       "    <tr>\n",
       "      <th>3</th>\n",
       "      <td>2212593</td>\n",
       "      <td>2014-12-22</td>\n",
       "      <td>2014-12-22 00:00:00 UTC</td>\n",
       "      <td>83601341</td>\n",
       "      <td>2212593</td>\n",
       "      <td>84443</td>\n",
       "      <td>8201211112</td>\n",
       "      <td>0.0</td>\n",
       "      <td>2103</td>\n",
       "      <td>0</td>\n",
       "      <td>NaN</td>\n",
       "      <td>NaN</td>\n",
       "      <td>0</td>\n",
       "      <td>NaN</td>\n",
       "      <td>0.000000e+00</td>\n",
       "      <td>1.00</td>\n",
       "      <td>84443</td>\n",
       "      <td>189340028.0</td>\n",
       "    </tr>\n",
       "    <tr>\n",
       "      <th>4</th>\n",
       "      <td>2212093</td>\n",
       "      <td>2014-12-22</td>\n",
       "      <td>2014-12-22 00:00:00 UTC</td>\n",
       "      <td>83614862</td>\n",
       "      <td>2212093</td>\n",
       "      <td>80053</td>\n",
       "      <td>8201211112</td>\n",
       "      <td>0.0</td>\n",
       "      <td>2103</td>\n",
       "      <td>0</td>\n",
       "      <td>NaN</td>\n",
       "      <td>NaN</td>\n",
       "      <td>0</td>\n",
       "      <td>NaN</td>\n",
       "      <td>0.000000e+00</td>\n",
       "      <td>1.00</td>\n",
       "      <td>80053</td>\n",
       "      <td>189340028.0</td>\n",
       "    </tr>\n",
       "    <tr>\n",
       "      <th>5</th>\n",
       "      <td>2212648</td>\n",
       "      <td>2014-12-22</td>\n",
       "      <td>2014-12-22 00:00:00 UTC</td>\n",
       "      <td>83620631</td>\n",
       "      <td>2212648</td>\n",
       "      <td>85025</td>\n",
       "      <td>8201211112</td>\n",
       "      <td>0.0</td>\n",
       "      <td>2103</td>\n",
       "      <td>0</td>\n",
       "      <td>NaN</td>\n",
       "      <td>NaN</td>\n",
       "      <td>0</td>\n",
       "      <td>NaN</td>\n",
       "      <td>0.000000e+00</td>\n",
       "      <td>1.00</td>\n",
       "      <td>85025</td>\n",
       "      <td>189340028.0</td>\n",
       "    </tr>\n",
       "    <tr>\n",
       "      <th>6</th>\n",
       "      <td>3027018</td>\n",
       "      <td>2014-08-21</td>\n",
       "      <td>2014-08-21 15:00:00 UTC</td>\n",
       "      <td>102972024</td>\n",
       "      <td>3027018</td>\n",
       "      <td>Pulse</td>\n",
       "      <td>44818701</td>\n",
       "      <td>0.0</td>\n",
       "      <td>2103</td>\n",
       "      <td>0</td>\n",
       "      <td>NaN</td>\n",
       "      <td>NaN</td>\n",
       "      <td>0</td>\n",
       "      <td>bpm</td>\n",
       "      <td>0.000000e+00</td>\n",
       "      <td>72.00</td>\n",
       "      <td>Pulse</td>\n",
       "      <td>0.0</td>\n",
       "    </tr>\n",
       "    <tr>\n",
       "      <th>7</th>\n",
       "      <td>3027018</td>\n",
       "      <td>2015-11-03</td>\n",
       "      <td>2015-11-03 08:01:00 UTC</td>\n",
       "      <td>118365271</td>\n",
       "      <td>3027018</td>\n",
       "      <td>Pulse</td>\n",
       "      <td>44818701</td>\n",
       "      <td>0.0</td>\n",
       "      <td>2103</td>\n",
       "      <td>0</td>\n",
       "      <td>NaN</td>\n",
       "      <td>NaN</td>\n",
       "      <td>0</td>\n",
       "      <td>bpm</td>\n",
       "      <td>0.000000e+00</td>\n",
       "      <td>68.00</td>\n",
       "      <td>Pulse</td>\n",
       "      <td>0.0</td>\n",
       "    </tr>\n",
       "    <tr>\n",
       "      <th>8</th>\n",
       "      <td>3027018</td>\n",
       "      <td>2014-12-22</td>\n",
       "      <td>2014-12-22 08:23:00 UTC</td>\n",
       "      <td>124863014</td>\n",
       "      <td>3027018</td>\n",
       "      <td>Pulse</td>\n",
       "      <td>44818701</td>\n",
       "      <td>0.0</td>\n",
       "      <td>2103</td>\n",
       "      <td>0</td>\n",
       "      <td>NaN</td>\n",
       "      <td>NaN</td>\n",
       "      <td>0</td>\n",
       "      <td>bpm</td>\n",
       "      <td>0.000000e+00</td>\n",
       "      <td>77.00</td>\n",
       "      <td>Pulse</td>\n",
       "      <td>0.0</td>\n",
       "    </tr>\n",
       "    <tr>\n",
       "      <th>9</th>\n",
       "      <td>3031543</td>\n",
       "      <td>2015-11-03</td>\n",
       "      <td>2015-11-03 08:01:00 UTC</td>\n",
       "      <td>135080093</td>\n",
       "      <td>3031543</td>\n",
       "      <td>BMI</td>\n",
       "      <td>44818701</td>\n",
       "      <td>0.0</td>\n",
       "      <td>2103</td>\n",
       "      <td>0</td>\n",
       "      <td>NaN</td>\n",
       "      <td>NaN</td>\n",
       "      <td>9531</td>\n",
       "      <td>kg/m2</td>\n",
       "      <td>0.000000e+00</td>\n",
       "      <td>30.67</td>\n",
       "      <td>BMI</td>\n",
       "      <td>0.0</td>\n",
       "    </tr>\n",
       "  </tbody>\n",
       "</table>\n",
       "</div>"
      ],
      "text/plain": [
       "   measurement_concept_id measurement_date     measurement_datetime  measurement_id  measurement_source_concept_id measurement_source_value  measurement_type_concept_id  operator_concept_id  person_id  provider_id  range_high  range_low  unit_concept_id unit_source_value  value_as_concept_id  value_as_number value_source_value  visit_occurrence_id\n",
       "0  2212392                 2014-12-22       2014-12-22 00:00:00 UTC  17371965        2212392                        83036                    8201211112                   0.0                  2103       0           NaN         NaN         0                NaN               0.000000e+00         1.00             83036              189340028.0        \n",
       "1  2212095                 2014-12-22       2014-12-22 00:00:00 UTC  17395067        2212095                        80061                    8201211112                   0.0                  2103       0           NaN         NaN         0                NaN               0.000000e+00         1.00             80061              189340028.0        \n",
       "2  44806420                2014-12-22       2014-12-22 08:46:00 UTC  24651719        44806420                       EGFR                     44818701                     0.0                  2103       0            89.0        60.0       9117             mL/min/1.73.m2    8.170111e+09         63.07            EGFR               0.0                \n",
       "3  2212593                 2014-12-22       2014-12-22 00:00:00 UTC  83601341        2212593                        84443                    8201211112                   0.0                  2103       0           NaN         NaN         0                NaN               0.000000e+00         1.00             84443              189340028.0        \n",
       "4  2212093                 2014-12-22       2014-12-22 00:00:00 UTC  83614862        2212093                        80053                    8201211112                   0.0                  2103       0           NaN         NaN         0                NaN               0.000000e+00         1.00             80053              189340028.0        \n",
       "5  2212648                 2014-12-22       2014-12-22 00:00:00 UTC  83620631        2212648                        85025                    8201211112                   0.0                  2103       0           NaN         NaN         0                NaN               0.000000e+00         1.00             85025              189340028.0        \n",
       "6  3027018                 2014-08-21       2014-08-21 15:00:00 UTC  102972024       3027018                        Pulse                    44818701                     0.0                  2103       0           NaN         NaN         0                bpm               0.000000e+00         72.00            Pulse              0.0                \n",
       "7  3027018                 2015-11-03       2015-11-03 08:01:00 UTC  118365271       3027018                        Pulse                    44818701                     0.0                  2103       0           NaN         NaN         0                bpm               0.000000e+00         68.00            Pulse              0.0                \n",
       "8  3027018                 2014-12-22       2014-12-22 08:23:00 UTC  124863014       3027018                        Pulse                    44818701                     0.0                  2103       0           NaN         NaN         0                bpm               0.000000e+00         77.00            Pulse              0.0                \n",
       "9  3031543                 2015-11-03       2015-11-03 08:01:00 UTC  135080093       3031543                        BMI                      44818701                     0.0                  2103       0           NaN         NaN         9531             kg/m2             0.000000e+00         30.67            BMI                0.0                "
      ]
     },
     "execution_count": 34,
     "metadata": {},
     "output_type": "execute_result"
    }
   ],
   "source": [
    "measure_df.head(10)"
   ]
  },
  {
   "cell_type": "markdown",
   "metadata": {},
   "source": [
    "OMOP data are in \"long\" format, in which each row represents one observation. We often want to convert this to a \"wide\" format, where each row or column is an individual, and there are multiple observations per indivitual.\n",
    "\n",
    "The `pivot_table` will allow us to perform this conversion, in much the same way as you would do in a spreadsheet. Here we will construct a table with dates on the rows, patients in the columns, and temperature as the elements (if there are multiple temperatures per day, we will take the maximum)."
   ]
  },
  {
   "cell_type": "code",
   "execution_count": 14,
   "metadata": {},
   "outputs": [],
   "source": [
    "temp_table = (measure_df.pivot_table(index='measurement_date', \n",
    "                                    columns='person_id', \n",
    "                                    values='value_as_number', \n",
    "                                    aggfunc=max))"
   ]
  },
  {
   "cell_type": "markdown",
   "metadata": {},
   "source": [
    "Plotting the temeratures reveals a problem: temperatures are recording using both Celsius and Fahrenheit as the units."
   ]
  },
  {
   "cell_type": "code",
   "execution_count": 15,
   "metadata": {},
   "outputs": [
    {
     "data": {
      "image/png": "[encoded data removed]",
      "text/plain": [
       "<matplotlib.figure.Figure at 0x7f876e365710>"
      ]
     },
     "metadata": {},
     "output_type": "display_data"
    }
   ],
   "source": [
    "temp_table.plot(legend=False, figsize=(16,4));"
   ]
  },
  {
   "cell_type": "markdown",
   "metadata": {},
   "source": [
    "We can convert the F temps to C using the Pandas `where` method and a simple conversion function. We will use the `unit_source_value` column to check the units of each temperature, and use that as the condition for converting to Celsius."
   ]
  },
  {
   "cell_type": "code",
   "execution_count": 20,
   "metadata": {},
   "outputs": [],
   "source": [
    "def to_celsius(F): \n",
    "    return (F - 32) / 1.8\n",
    "\n",
    "measure_df['temp_C'] = measure_df.value_as_number.where(measure_df.unit_source_value=='C', \n",
    "                                 to_celsius)"
   ]
  },
  {
   "cell_type": "code",
   "execution_count": 23,
   "metadata": {},
   "outputs": [],
   "source": [
    "temp_table = (measure_df.pivot_table(index='measurement_date', \n",
    "                                    columns='person_id', \n",
    "                                    values='temp_C', \n",
    "                                    aggfunc=max))"
   ]
  },
  {
   "cell_type": "code",
   "execution_count": 24,
   "metadata": {},
   "outputs": [
    {
     "data": {
      "image/png": "[encoded data removed]",
      "text/plain": [
       "<matplotlib.figure.Figure at 0x7f875c2c29e8>"
      ]
     },
     "metadata": {},
     "output_type": "display_data"
    }
   ],
   "source": [
    "temp_table.plot(legend=False, figsize=(16,4));"
   ]
  },
  {
   "cell_type": "markdown",
   "metadata": {},
   "source": [
    "## Querying the Kids cohort"
   ]
  },
  {
   "cell_type": "markdown",
   "metadata": {},
   "source": [
    "As an example of creating more complex filters, let's look for kids who have an ID > 50000 or ID <= 100000."
   ]
  },
  {
   "cell_type": "code",
   "execution_count": 25,
   "metadata": {},
   "outputs": [],
   "source": [
    "from aou_workbench_client.cdr.model import Person"
   ]
  },
  {
   "cell_type": "code",
   "execution_count": 26,
   "metadata": {},
   "outputs": [
    {
     "data": {
      "text/html": [
       "<div>\n",
       "<style scoped>\n",
       "    .dataframe tbody tr th:only-of-type {\n",
       "        vertical-align: middle;\n",
       "    }\n",
       "\n",
       "    .dataframe tbody tr th {\n",
       "        vertical-align: top;\n",
       "    }\n",
       "\n",
       "    .dataframe thead th {\n",
       "        text-align: right;\n",
       "    }\n",
       "</style>\n",
       "<table border=\"1\" class=\"dataframe\">\n",
       "  <thead>\n",
       "    <tr style=\"text-align: right;\">\n",
       "      <th></th>\n",
       "      <th>Name</th>\n",
       "      <th>Type</th>\n",
       "      <th>Description</th>\n",
       "    </tr>\n",
       "  </thead>\n",
       "  <tbody>\n",
       "    <tr>\n",
       "      <th>0</th>\n",
       "      <td>person_id</td>\n",
       "      <td>integer</td>\n",
       "      <td>A unique identifier for each person.</td>\n",
       "    </tr>\n",
       "    <tr>\n",
       "      <th>1</th>\n",
       "      <td>gender_concept_id</td>\n",
       "      <td>integer</td>\n",
       "      <td>A foreign key that refers to an identifier in the CONCEPT table for the unique gender of the person.</td>\n",
       "    </tr>\n",
       "    <tr>\n",
       "      <th>2</th>\n",
       "      <td>year_of_birth</td>\n",
       "      <td>integer</td>\n",
       "      <td>The year of birth of the person. For data sources with date of birth, the year is extracted. For data sources where the year of birth is not available, the approximate year of birth is derived based on any age group categorization available.</td>\n",
       "    </tr>\n",
       "    <tr>\n",
       "      <th>3</th>\n",
       "      <td>month_of_birth</td>\n",
       "      <td>integer</td>\n",
       "      <td>The month of birth of the person. For data sources that provide the precise date of birth, the month is extracted and stored in this field.</td>\n",
       "    </tr>\n",
       "    <tr>\n",
       "      <th>4</th>\n",
       "      <td>day_of_birth</td>\n",
       "      <td>integer</td>\n",
       "      <td>The day of the month of birth of the person. For data sources that provide the precise date of birth, the day is extracted and stored in this field.</td>\n",
       "    </tr>\n",
       "    <tr>\n",
       "      <th>5</th>\n",
       "      <td>birth_datetime</td>\n",
       "      <td>timestamp</td>\n",
       "      <td>The date and time of birth of the person.</td>\n",
       "    </tr>\n",
       "    <tr>\n",
       "      <th>6</th>\n",
       "      <td>race_concept_id</td>\n",
       "      <td>integer</td>\n",
       "      <td>A foreign key that refers to an identifier in the CONCEPT table for the unique race of the person.</td>\n",
       "    </tr>\n",
       "    <tr>\n",
       "      <th>7</th>\n",
       "      <td>ethnicity_concept_id</td>\n",
       "      <td>integer</td>\n",
       "      <td>A foreign key that refers to the standard concept identifier in the Standardized Vocabularies for the ethnicity of the person.</td>\n",
       "    </tr>\n",
       "    <tr>\n",
       "      <th>8</th>\n",
       "      <td>location_id</td>\n",
       "      <td>integer</td>\n",
       "      <td>A foreign key to the place of residency for the person in the location table, where the detailed address information is stored.</td>\n",
       "    </tr>\n",
       "    <tr>\n",
       "      <th>9</th>\n",
       "      <td>provider_id</td>\n",
       "      <td>integer</td>\n",
       "      <td>A foreign key to the primary care provider the person is seeing in the provider table.</td>\n",
       "    </tr>\n",
       "    <tr>\n",
       "      <th>10</th>\n",
       "      <td>care_site_id</td>\n",
       "      <td>integer</td>\n",
       "      <td>A foreign key to the site of primary care in the care_site table, where the details of the care site are stored.</td>\n",
       "    </tr>\n",
       "    <tr>\n",
       "      <th>11</th>\n",
       "      <td>person_source_value</td>\n",
       "      <td>string</td>\n",
       "      <td>An (encrypted) key derived from the person identifier in the source data. This is necessary when a use case requires a link back to the person data at the source dataset.</td>\n",
       "    </tr>\n",
       "    <tr>\n",
       "      <th>12</th>\n",
       "      <td>gender_source_value</td>\n",
       "      <td>string</td>\n",
       "      <td>The source code for the gender of the person as it appears in the source data. The person’s gender is mapped to a standard gender concept in the Standardized Vocabularies; the original value is stored here for reference.</td>\n",
       "    </tr>\n",
       "    <tr>\n",
       "      <th>13</th>\n",
       "      <td>gender_source_concept_id</td>\n",
       "      <td>integer</td>\n",
       "      <td>A foreign key to the gender concept that refers to the code used in the source.</td>\n",
       "    </tr>\n",
       "    <tr>\n",
       "      <th>14</th>\n",
       "      <td>race_source_value</td>\n",
       "      <td>string</td>\n",
       "      <td>The source code for the race of the person as it appears in the source data. The person race is mapped to a standard race concept in the Standardized Vocabularies and the original value is stored here for reference.</td>\n",
       "    </tr>\n",
       "    <tr>\n",
       "      <th>15</th>\n",
       "      <td>race_source_concept_id</td>\n",
       "      <td>integer</td>\n",
       "      <td>A foreign key to the race concept that refers to the code used in the source.</td>\n",
       "    </tr>\n",
       "    <tr>\n",
       "      <th>16</th>\n",
       "      <td>ethnicity_source_value</td>\n",
       "      <td>string</td>\n",
       "      <td>The source code for the ethnicity of the person as it appears in the source data. The person ethnicity is mapped to a standard ethnicity concept in the Standardized Vocabularies and the original code is, stored here for reference.</td>\n",
       "    </tr>\n",
       "    <tr>\n",
       "      <th>17</th>\n",
       "      <td>ethnicity_source_concept_id</td>\n",
       "      <td>integer</td>\n",
       "      <td>A foreign key to the ethnicity concept that refers to the code used in the source.</td>\n",
       "    </tr>\n",
       "  </tbody>\n",
       "</table>\n",
       "</div>"
      ],
      "text/plain": [
       "                           Name       Type                                                                                                                                                                                                                                        Description\n",
       "0   person_id                    integer    A unique identifier for each person.                                                                                                                                                                                                             \n",
       "1   gender_concept_id            integer    A foreign key that refers to an identifier in the CONCEPT table for the unique gender of the person.                                                                                                                                             \n",
       "2   year_of_birth                integer    The year of birth of the person. For data sources with date of birth, the year is extracted. For data sources where the year of birth is not available, the approximate year of birth is derived based on any age group categorization available.\n",
       "3   month_of_birth               integer    The month of birth of the person. For data sources that provide the precise date of birth, the month is extracted and stored in this field.                                                                                                      \n",
       "4   day_of_birth                 integer    The day of the month of birth of the person. For data sources that provide the precise date of birth, the day is extracted and stored in this field.                                                                                             \n",
       "5   birth_datetime               timestamp  The date and time of birth of the person.                                                                                                                                                                                                        \n",
       "6   race_concept_id              integer    A foreign key that refers to an identifier in the CONCEPT table for the unique race of the person.                                                                                                                                               \n",
       "7   ethnicity_concept_id         integer    A foreign key that refers to the standard concept identifier in the Standardized Vocabularies for the ethnicity of the person.                                                                                                                   \n",
       "8   location_id                  integer    A foreign key to the place of residency for the person in the location table, where the detailed address information is stored.                                                                                                                  \n",
       "9   provider_id                  integer    A foreign key to the primary care provider the person is seeing in the provider table.                                                                                                                                                           \n",
       "10  care_site_id                 integer    A foreign key to the site of primary care in the care_site table, where the details of the care site are stored.                                                                                                                                 \n",
       "11  person_source_value          string     An (encrypted) key derived from the person identifier in the source data. This is necessary when a use case requires a link back to the person data at the source dataset.                                                                       \n",
       "12  gender_source_value          string     The source code for the gender of the person as it appears in the source data. The person’s gender is mapped to a standard gender concept in the Standardized Vocabularies; the original value is stored here for reference.                     \n",
       "13  gender_source_concept_id     integer    A foreign key to the gender concept that refers to the code used in the source.                                                                                                                                                                  \n",
       "14  race_source_value            string     The source code for the race of the person as it appears in the source data. The person race is mapped to a standard race concept in the Standardized Vocabularies and the original value is stored here for reference.                          \n",
       "15  race_source_concept_id       integer    A foreign key to the race concept that refers to the code used in the source.                                                                                                                                                                    \n",
       "16  ethnicity_source_value       string     The source code for the ethnicity of the person as it appears in the source data. The person ethnicity is mapped to a standard ethnicity concept in the Standardized Vocabularies and the original code is, stored here for reference.           \n",
       "17  ethnicity_source_concept_id  integer    A foreign key to the ethnicity concept that refers to the code used in the source.                                                                                                                                                               "
      ]
     },
     "execution_count": 26,
     "metadata": {},
     "output_type": "execute_result"
    }
   ],
   "source": [
    "Person.columns"
   ]
  },
  {
   "cell_type": "code",
   "execution_count": 27,
   "metadata": {},
   "outputs": [],
   "source": [
    "person_id_filters = ResultFilters(all_of=[ResultFilters(column_filter=ColumnFilter(column_name=\"person_id\", \n",
    "                                                           operator=Operator.GREATER_THAN_OR_EQUAL_TO,\n",
    "                                                           value_number=50000)),\n",
    "                                          ResultFilters(column_filter=ColumnFilter(column_name=\"person_id\",\n",
    "                                                           operator=Operator.LESS_THAN,\n",
    "                                                           value_number=100000))])"
   ]
  },
  {
   "cell_type": "markdown",
   "metadata": {},
   "source": [
    "Get their year of birth, gender, and race; order by year of birth then person ID.\n"
   ]
  },
  {
   "cell_type": "code",
   "execution_count": 28,
   "metadata": {},
   "outputs": [],
   "source": [
    "person_table_query = TableQuery(table_name=PERSON_TABLE, \n",
    "                         columns=[Person.person_id,\n",
    "                                  Person.year_of_birth,\n",
    "                                  Person.gender_concept.concept_name,\n",
    "                                  Person.race_concept.concept_name,\n",
    "                                  Person.ethnicity_concept.concept_name],\n",
    "                                filters=person_id_filters,\n",
    "                         order_by=[Person.year_of_birth, Person.person_id])\n",
    "\n",
    "person_request = MaterializeCohortRequest(cohort_name=\"Kids\", \n",
    "                                   field_set=FieldSet(table_query=person_table_query), \n",
    "                                   page_size=100)\n",
    "\n",
    "person_response = materialize_cohort(person_request, max_results=1000)\n",
    "\n",
    "person_response_df = pd.DataFrame(list(person_response))"
   ]
  },
  {
   "cell_type": "code",
   "execution_count": 29,
   "metadata": {},
   "outputs": [
    {
     "data": {
      "text/plain": [
       "(411, 5)"
      ]
     },
     "execution_count": 29,
     "metadata": {},
     "output_type": "execute_result"
    }
   ],
   "source": [
    "person_response_df.shape"
   ]
  },
  {
   "cell_type": "code",
   "execution_count": 30,
   "metadata": {},
   "outputs": [
    {
     "data": {
      "text/html": [
       "<div>\n",
       "<style scoped>\n",
       "    .dataframe tbody tr th:only-of-type {\n",
       "        vertical-align: middle;\n",
       "    }\n",
       "\n",
       "    .dataframe tbody tr th {\n",
       "        vertical-align: top;\n",
       "    }\n",
       "\n",
       "    .dataframe thead th {\n",
       "        text-align: right;\n",
       "    }\n",
       "</style>\n",
       "<table border=\"1\" class=\"dataframe\">\n",
       "  <thead>\n",
       "    <tr style=\"text-align: right;\">\n",
       "      <th></th>\n",
       "      <th>ethnicity_concept.concept_name</th>\n",
       "      <th>gender_concept.concept_name</th>\n",
       "      <th>person_id</th>\n",
       "      <th>race_concept.concept_name</th>\n",
       "      <th>year_of_birth</th>\n",
       "    </tr>\n",
       "  </thead>\n",
       "  <tbody>\n",
       "    <tr>\n",
       "      <th>0</th>\n",
       "      <td>Not Hispanic or Latino</td>\n",
       "      <td>FEMALE</td>\n",
       "      <td>50005</td>\n",
       "      <td>White</td>\n",
       "      <td>1999</td>\n",
       "    </tr>\n",
       "    <tr>\n",
       "      <th>1</th>\n",
       "      <td>Not Hispanic or Latino</td>\n",
       "      <td>MALE</td>\n",
       "      <td>50044</td>\n",
       "      <td>White</td>\n",
       "      <td>1999</td>\n",
       "    </tr>\n",
       "    <tr>\n",
       "      <th>2</th>\n",
       "      <td>Not Hispanic or Latino</td>\n",
       "      <td>MALE</td>\n",
       "      <td>50068</td>\n",
       "      <td>Black or African American</td>\n",
       "      <td>1999</td>\n",
       "    </tr>\n",
       "    <tr>\n",
       "      <th>3</th>\n",
       "      <td>Not Hispanic or Latino</td>\n",
       "      <td>FEMALE</td>\n",
       "      <td>50148</td>\n",
       "      <td>Black or African American</td>\n",
       "      <td>1999</td>\n",
       "    </tr>\n",
       "    <tr>\n",
       "      <th>4</th>\n",
       "      <td>Not Hispanic or Latino</td>\n",
       "      <td>FEMALE</td>\n",
       "      <td>50190</td>\n",
       "      <td>White</td>\n",
       "      <td>1999</td>\n",
       "    </tr>\n",
       "  </tbody>\n",
       "</table>\n",
       "</div>"
      ],
      "text/plain": [
       "  ethnicity_concept.concept_name gender_concept.concept_name  person_id  race_concept.concept_name  year_of_birth\n",
       "0  Not Hispanic or Latino         FEMALE                      50005      White                      1999         \n",
       "1  Not Hispanic or Latino         MALE                        50044      White                      1999         \n",
       "2  Not Hispanic or Latino         MALE                        50068      Black or African American  1999         \n",
       "3  Not Hispanic or Latino         FEMALE                      50148      Black or African American  1999         \n",
       "4  Not Hispanic or Latino         FEMALE                      50190      White                      1999         "
      ]
     },
     "execution_count": 30,
     "metadata": {},
     "output_type": "execute_result"
    }
   ],
   "source": [
    "person_response_df.head()"
   ]
  },
  {
   "cell_type": "markdown",
   "metadata": {},
   "source": [
    "Get all the heart rate measurements corresponding to these individuals using `ResultFilter`s. They correspond to concept IDs of 44818701 for measurement type and 3027018 for measurement, respectively. We are also going to apply the `person_id` constraint here as well."
   ]
  },
  {
   "cell_type": "code",
   "execution_count": 31,
   "metadata": {},
   "outputs": [],
   "source": [
    "measurement_filters = ResultFilters(all_of=[ResultFilters(column_filter=ColumnFilter(\"measurement_type_concept_id\", \n",
    "                                                                value_number=PHYSICAL_EXAMINATION_CONCEPT_TYPE)),\n",
    "                                            ResultFilters(column_filter=ColumnFilter(\"measurement_concept_id\", \n",
    "                                                                value_number=HEART_RATE_CONCEPT_ID)),\n",
    "                                            ResultFilters(column_filter=ColumnFilter(column_name=\"person_id\", \n",
    "                                                           operator=Operator.GREATER_THAN_OR_EQUAL_TO,\n",
    "                                                           value_number=50000)),\n",
    "                                            ResultFilters(column_filter=ColumnFilter(column_name=\"person_id\",\n",
    "                                                           operator=Operator.LESS_THAN,\n",
    "                                                           value_number=100000))])"
   ]
  },
  {
   "cell_type": "code",
   "execution_count": 32,
   "metadata": {},
   "outputs": [],
   "source": [
    "heart_rate_query = TableQuery(table_name=MEASUREMENT_TABLE, \n",
    "                              columns=[Measurement.person_id, Measurement.value_as_number],\n",
    "                              filters=measurement_filters)\n",
    "\n",
    "heart_rate_request = MaterializeCohortRequest(cohort_name =\"Kids\", \n",
    "                                               field_set=FieldSet(table_query=heart_rate_query))\n",
    "\n",
    "heart_rate_response = materialize_cohort(heart_rate_request, max_results=5000)\n",
    "\n",
    "heart_rate_df = pd.DataFrame(list(heart_rate_response))"
   ]
  },
  {
   "cell_type": "markdown",
   "metadata": {},
   "source": [
    "Customize columns"
   ]
  },
  {
   "cell_type": "code",
   "execution_count": 33,
   "metadata": {},
   "outputs": [],
   "source": [
    "heart_rate_df.columns = 'person_id', 'heart_rate'"
   ]
  },
  {
   "cell_type": "code",
   "execution_count": 34,
   "metadata": {},
   "outputs": [
    {
     "data": {
      "text/html": [
       "<div>\n",
       "<style scoped>\n",
       "    .dataframe tbody tr th:only-of-type {\n",
       "        vertical-align: middle;\n",
       "    }\n",
       "\n",
       "    .dataframe tbody tr th {\n",
       "        vertical-align: top;\n",
       "    }\n",
       "\n",
       "    .dataframe thead th {\n",
       "        text-align: right;\n",
       "    }\n",
       "</style>\n",
       "<table border=\"1\" class=\"dataframe\">\n",
       "  <thead>\n",
       "    <tr style=\"text-align: right;\">\n",
       "      <th></th>\n",
       "      <th>person_id</th>\n",
       "      <th>heart_rate</th>\n",
       "    </tr>\n",
       "  </thead>\n",
       "  <tbody>\n",
       "    <tr>\n",
       "      <th>0</th>\n",
       "      <td>50005</td>\n",
       "      <td>82.0</td>\n",
       "    </tr>\n",
       "    <tr>\n",
       "      <th>1</th>\n",
       "      <td>50005</td>\n",
       "      <td>95.0</td>\n",
       "    </tr>\n",
       "    <tr>\n",
       "      <th>2</th>\n",
       "      <td>50005</td>\n",
       "      <td>83.0</td>\n",
       "    </tr>\n",
       "    <tr>\n",
       "      <th>3</th>\n",
       "      <td>50005</td>\n",
       "      <td>111.0</td>\n",
       "    </tr>\n",
       "    <tr>\n",
       "      <th>4</th>\n",
       "      <td>50005</td>\n",
       "      <td>119.0</td>\n",
       "    </tr>\n",
       "  </tbody>\n",
       "</table>\n",
       "</div>"
      ],
      "text/plain": [
       "   person_id  heart_rate\n",
       "0  50005      82.0      \n",
       "1  50005      95.0      \n",
       "2  50005      83.0      \n",
       "3  50005      111.0     \n",
       "4  50005      119.0     "
      ]
     },
     "execution_count": 34,
     "metadata": {},
     "output_type": "execute_result"
    }
   ],
   "source": [
    "heart_rate_df.head()"
   ]
  },
  {
   "cell_type": "markdown",
   "metadata": {},
   "source": [
    "Pandas allows you to easily **merge** these two datasets, which have a one-to-many relational association. The `merge` method (or function) will by default merge on the columns with the same name, in this case, `person_id`"
   ]
  },
  {
   "cell_type": "code",
   "execution_count": 35,
   "metadata": {},
   "outputs": [],
   "source": [
    "kids_merged = person_response_df.merge(heart_rate_df)"
   ]
  },
  {
   "cell_type": "code",
   "execution_count": 36,
   "metadata": {},
   "outputs": [
    {
     "data": {
      "text/html": [
       "<div>\n",
       "<style scoped>\n",
       "    .dataframe tbody tr th:only-of-type {\n",
       "        vertical-align: middle;\n",
       "    }\n",
       "\n",
       "    .dataframe tbody tr th {\n",
       "        vertical-align: top;\n",
       "    }\n",
       "\n",
       "    .dataframe thead th {\n",
       "        text-align: right;\n",
       "    }\n",
       "</style>\n",
       "<table border=\"1\" class=\"dataframe\">\n",
       "  <thead>\n",
       "    <tr style=\"text-align: right;\">\n",
       "      <th></th>\n",
       "      <th>ethnicity_concept.concept_name</th>\n",
       "      <th>gender_concept.concept_name</th>\n",
       "      <th>person_id</th>\n",
       "      <th>race_concept.concept_name</th>\n",
       "      <th>year_of_birth</th>\n",
       "      <th>heart_rate</th>\n",
       "    </tr>\n",
       "  </thead>\n",
       "  <tbody>\n",
       "    <tr>\n",
       "      <th>0</th>\n",
       "      <td>Not Hispanic or Latino</td>\n",
       "      <td>FEMALE</td>\n",
       "      <td>50005</td>\n",
       "      <td>White</td>\n",
       "      <td>1999</td>\n",
       "      <td>82.0</td>\n",
       "    </tr>\n",
       "    <tr>\n",
       "      <th>1</th>\n",
       "      <td>Not Hispanic or Latino</td>\n",
       "      <td>FEMALE</td>\n",
       "      <td>50005</td>\n",
       "      <td>White</td>\n",
       "      <td>1999</td>\n",
       "      <td>95.0</td>\n",
       "    </tr>\n",
       "    <tr>\n",
       "      <th>2</th>\n",
       "      <td>Not Hispanic or Latino</td>\n",
       "      <td>FEMALE</td>\n",
       "      <td>50005</td>\n",
       "      <td>White</td>\n",
       "      <td>1999</td>\n",
       "      <td>83.0</td>\n",
       "    </tr>\n",
       "    <tr>\n",
       "      <th>3</th>\n",
       "      <td>Not Hispanic or Latino</td>\n",
       "      <td>FEMALE</td>\n",
       "      <td>50005</td>\n",
       "      <td>White</td>\n",
       "      <td>1999</td>\n",
       "      <td>111.0</td>\n",
       "    </tr>\n",
       "    <tr>\n",
       "      <th>4</th>\n",
       "      <td>Not Hispanic or Latino</td>\n",
       "      <td>FEMALE</td>\n",
       "      <td>50005</td>\n",
       "      <td>White</td>\n",
       "      <td>1999</td>\n",
       "      <td>119.0</td>\n",
       "    </tr>\n",
       "  </tbody>\n",
       "</table>\n",
       "</div>"
      ],
      "text/plain": [
       "  ethnicity_concept.concept_name gender_concept.concept_name  person_id race_concept.concept_name  year_of_birth  heart_rate\n",
       "0  Not Hispanic or Latino         FEMALE                      50005      White                     1999           82.0      \n",
       "1  Not Hispanic or Latino         FEMALE                      50005      White                     1999           95.0      \n",
       "2  Not Hispanic or Latino         FEMALE                      50005      White                     1999           83.0      \n",
       "3  Not Hispanic or Latino         FEMALE                      50005      White                     1999           111.0     \n",
       "4  Not Hispanic or Latino         FEMALE                      50005      White                     1999           119.0     "
      ]
     },
     "execution_count": 36,
     "metadata": {},
     "output_type": "execute_result"
    }
   ],
   "source": [
    "kids_merged.head()"
   ]
  },
  {
   "cell_type": "markdown",
   "metadata": {},
   "source": [
    "Notice that there are some bad heart rate values that need to be dropped:"
   ]
  },
  {
   "cell_type": "code",
   "execution_count": 37,
   "metadata": {},
   "outputs": [
    {
     "data": {
      "text/plain": [
       "0.0"
      ]
     },
     "execution_count": 37,
     "metadata": {},
     "output_type": "execute_result"
    }
   ],
   "source": [
    "kids_merged.heart_rate.min()"
   ]
  },
  {
   "cell_type": "code",
   "execution_count": 38,
   "metadata": {},
   "outputs": [
    {
     "data": {
      "text/plain": [
       "1006.0"
      ]
     },
     "execution_count": 38,
     "metadata": {},
     "output_type": "execute_result"
    }
   ],
   "source": [
    "kids_merged.heart_rate.max()"
   ]
  },
  {
   "cell_type": "markdown",
   "metadata": {},
   "source": [
    "The `query` method can be used to truncate `heart_rate` to a reasonable range:"
   ]
  },
  {
   "cell_type": "code",
   "execution_count": 39,
   "metadata": {},
   "outputs": [],
   "source": [
    "kids_merged = kids_merged.query('heart_rate>20 & heart_rate<200')"
   ]
  },
  {
   "cell_type": "markdown",
   "metadata": {},
   "source": [
    "Pandas includes several high-level plotting methods. For example, we can see the histogram of all heart rates across the queried subset."
   ]
  },
  {
   "cell_type": "code",
   "execution_count": 40,
   "metadata": {},
   "outputs": [
    {
     "data": {
      "image/png": "[encoded data removed]",
      "text/plain": [
       "<matplotlib.figure.Figure at 0x7f875c2d0f98>"
      ]
     },
     "metadata": {},
     "output_type": "display_data"
    }
   ],
   "source": [
    "kids_merged.heart_rate.hist().set_xlabel('Heart rate');"
   ]
  },
  {
   "cell_type": "markdown",
   "metadata": {},
   "source": [
    "Of course, we might want to break this down by individual, since each measurement is not independent. \n",
    "\n",
    "First, however, we will filter individuals with a small number of heart rate measurements."
   ]
  },
  {
   "cell_type": "code",
   "execution_count": 41,
   "metadata": {},
   "outputs": [
    {
     "data": {
      "text/plain": [
       "person_id\n",
       "50005    24\n",
       "50044    1 \n",
       "50068    1 \n",
       "50148    1 \n",
       "50190    3 \n",
       "50287    1 \n",
       "50361    38\n",
       "50439    1 \n",
       "50568    1 \n",
       "50919    4 \n",
       "50975    2 \n",
       "51052    17\n",
       "51289    1 \n",
       "51339    2 \n",
       "51536    3 \n",
       "51560    8 \n",
       "51716    6 \n",
       "51840    4 \n",
       "51922    5 \n",
       "51981    1 \n",
       "52073    1 \n",
       "52300    6 \n",
       "52327    1 \n",
       "52558    2 \n",
       "52565    1 \n",
       "52756    1 \n",
       "53073    1 \n",
       "53235    1 \n",
       "53314    53\n",
       "53572    1 \n",
       "        .. \n",
       "95065    1 \n",
       "95088    1 \n",
       "95101    1 \n",
       "95355    6 \n",
       "95367    3 \n",
       "95565    3 \n",
       "95828    3 \n",
       "96220    2 \n",
       "96229    1 \n",
       "96320    3 \n",
       "96589    3 \n",
       "96662    2 \n",
       "97264    1 \n",
       "97338    1 \n",
       "97343    6 \n",
       "97521    1 \n",
       "97649    15\n",
       "97942    18\n",
       "98010    2 \n",
       "98303    55\n",
       "98431    2 \n",
       "98493    2 \n",
       "98588    27\n",
       "99281    6 \n",
       "99285    19\n",
       "99333    11\n",
       "99374    5 \n",
       "99432    1 \n",
       "99592    28\n",
       "99787    1 \n",
       "Length: 319, dtype: int64"
      ]
     },
     "execution_count": 41,
     "metadata": {},
     "output_type": "execute_result"
    }
   ],
   "source": [
    "kids_merged.groupby('person_id').size()"
   ]
  },
  {
   "cell_type": "code",
   "execution_count": 42,
   "metadata": {},
   "outputs": [],
   "source": [
    "lots_of_data = kids_merged.groupby('person_id').size() > 20\n",
    "greater_than_20_ids = set(lots_of_data[lots_of_data].index)"
   ]
  },
  {
   "cell_type": "markdown",
   "metadata": {},
   "source": [
    "The `seaborn` package provides a high-level API for generating faceted statistical plots. "
   ]
  },
  {
   "cell_type": "code",
   "execution_count": 43,
   "metadata": {
    "scrolled": false
   },
   "outputs": [
    {
     "data": {
      "image/png": "[encoded data removed]",
      "text/plain": [
       "<matplotlib.figure.Figure at 0x7f875c1870b8>"
      ]
     },
     "metadata": {},
     "output_type": "display_data"
    }
   ],
   "source": [
    "g = sns.FacetGrid(kids_merged[kids_merged.person_id.isin(greater_than_20_ids)], col='person_id', col_wrap=4)\n",
    "g.map(sns.distplot, 'heart_rate');"
   ]
  },
  {
   "cell_type": "markdown",
   "metadata": {},
   "source": [
    "We can run a simple statistical analysis on this data. For example, we can create a regression model that predicts mean heart rate from demographic information. For this, I will use PyMC3, which you can install from `pip` if it is not available:\n",
    "\n",
    "    !pip install --user -U pymc3"
   ]
  },
  {
   "cell_type": "code",
   "execution_count": 44,
   "metadata": {},
   "outputs": [
    {
     "name": "stderr",
     "output_type": "stream",
     "text": [
      "/usr/lib/python3.4/importlib/_bootstrap.py:321: FutureWarning: Conversion of the second argument of issubdtype from `float` to `np.floating` is deprecated. In future, it will be treated as `np.float64 == np.dtype(float).type`.\n",
      "  return f(*args, **kwds)\n"
     ]
    }
   ],
   "source": [
    "import pymc3 as pm"
   ]
  },
  {
   "cell_type": "markdown",
   "metadata": {},
   "source": [
    "A few of the variables need to be recoded to numeric quantities. For simplicity, I will use binary predictors."
   ]
  },
  {
   "cell_type": "code",
   "execution_count": 45,
   "metadata": {},
   "outputs": [],
   "source": [
    "kids_merged['female'] = (kids_merged['gender_concept.concept_name']=='FEMALE').astype(int)\n",
    "kids_merged['non_white'] = (kids_merged['race_concept.concept_name']=='White').astype(int)\n",
    "kids_merged['hispanic'] = (kids_merged['ethnicity_concept.concept_name']=='Hispanic or Latino').astype(int)"
   ]
  },
  {
   "cell_type": "markdown",
   "metadata": {},
   "source": [
    "A simple regression can be coded in one line of PyMC."
   ]
  },
  {
   "cell_type": "code",
   "execution_count": 46,
   "metadata": {},
   "outputs": [],
   "source": [
    "with pm.Model() as hr_regression:\n",
    "    pm.GLM.from_formula('heart_rate ~ female + non_white + hispanic', data=kids_merged)"
   ]
  },
  {
   "cell_type": "markdown",
   "metadata": {},
   "source": [
    "This is a Bayesian model, so MCMC can be used to estimate the parameters."
   ]
  },
  {
   "cell_type": "code",
   "execution_count": 47,
   "metadata": {},
   "outputs": [
    {
     "name": "stderr",
     "output_type": "stream",
     "text": [
      "Auto-assigning NUTS sampler...\n",
      "Initializing NUTS using jitter+adapt_diag...\n",
      "Multiprocess sampling (2 chains in 2 jobs)\n",
      "NUTS: [sd_log__, hispanic, non_white, female, Intercept]\n",
      "100%|██████████| 3000/3000 [00:09<00:00, 326.06it/s]\n",
      "INFO (theano.gof.compilelock): Waiting for existing lock by process '19494' (I am process '20663')\n",
      "INFO (theano.gof.compilelock): To manually release the lock, delete /home/jupyter-user/.theano/compiledir_Linux-3.16--amd64-x86_64-with-debian-8.10--3.4.2-64/lock_dir\n"
     ]
    }
   ],
   "source": [
    "with hr_regression:\n",
    "    samples = pm.sample(1000, tune=2000)"
   ]
  },
  {
   "cell_type": "markdown",
   "metadata": {},
   "source": [
    "Results can be summarized in a table, or with graphical output."
   ]
  },
  {
   "cell_type": "code",
   "execution_count": 48,
   "metadata": {},
   "outputs": [
    {
     "data": {
      "text/html": [
       "<div>\n",
       "<style scoped>\n",
       "    .dataframe tbody tr th:only-of-type {\n",
       "        vertical-align: middle;\n",
       "    }\n",
       "\n",
       "    .dataframe tbody tr th {\n",
       "        vertical-align: top;\n",
       "    }\n",
       "\n",
       "    .dataframe thead th {\n",
       "        text-align: right;\n",
       "    }\n",
       "</style>\n",
       "<table border=\"1\" class=\"dataframe\">\n",
       "  <thead>\n",
       "    <tr style=\"text-align: right;\">\n",
       "      <th></th>\n",
       "      <th>mean</th>\n",
       "      <th>sd</th>\n",
       "      <th>mc_error</th>\n",
       "      <th>hpd_2.5</th>\n",
       "      <th>hpd_97.5</th>\n",
       "      <th>n_eff</th>\n",
       "      <th>Rhat</th>\n",
       "    </tr>\n",
       "  </thead>\n",
       "  <tbody>\n",
       "    <tr>\n",
       "      <th>Intercept</th>\n",
       "      <td>92.389082</td>\n",
       "      <td>1.063489</td>\n",
       "      <td>0.028370</td>\n",
       "      <td>90.281140</td>\n",
       "      <td>94.377790</td>\n",
       "      <td>1352.049563</td>\n",
       "      <td>0.999924</td>\n",
       "    </tr>\n",
       "    <tr>\n",
       "      <th>female</th>\n",
       "      <td>3.551112</td>\n",
       "      <td>0.995607</td>\n",
       "      <td>0.019372</td>\n",
       "      <td>1.651675</td>\n",
       "      <td>5.484316</td>\n",
       "      <td>2180.180681</td>\n",
       "      <td>0.999505</td>\n",
       "    </tr>\n",
       "    <tr>\n",
       "      <th>non_white</th>\n",
       "      <td>-4.296087</td>\n",
       "      <td>1.101479</td>\n",
       "      <td>0.029061</td>\n",
       "      <td>-6.458905</td>\n",
       "      <td>-2.233432</td>\n",
       "      <td>1583.351676</td>\n",
       "      <td>0.999819</td>\n",
       "    </tr>\n",
       "    <tr>\n",
       "      <th>hispanic</th>\n",
       "      <td>-3.995944</td>\n",
       "      <td>2.104381</td>\n",
       "      <td>0.043068</td>\n",
       "      <td>-7.909495</td>\n",
       "      <td>0.033607</td>\n",
       "      <td>2134.949754</td>\n",
       "      <td>0.999500</td>\n",
       "    </tr>\n",
       "    <tr>\n",
       "      <th>sd</th>\n",
       "      <td>21.725676</td>\n",
       "      <td>0.335977</td>\n",
       "      <td>0.006903</td>\n",
       "      <td>21.077589</td>\n",
       "      <td>22.378346</td>\n",
       "      <td>2445.192355</td>\n",
       "      <td>0.999697</td>\n",
       "    </tr>\n",
       "  </tbody>\n",
       "</table>\n",
       "</div>"
      ],
      "text/plain": [
       "                mean        sd  mc_error    hpd_2.5   hpd_97.5        n_eff      Rhat\n",
       "Intercept  92.389082  1.063489  0.028370  90.281140  94.377790  1352.049563  0.999924\n",
       "female     3.551112   0.995607  0.019372  1.651675   5.484316   2180.180681  0.999505\n",
       "non_white -4.296087   1.101479  0.029061 -6.458905  -2.233432   1583.351676  0.999819\n",
       "hispanic  -3.995944   2.104381  0.043068 -7.909495   0.033607   2134.949754  0.999500\n",
       "sd         21.725676  0.335977  0.006903  21.077589  22.378346  2445.192355  0.999697"
      ]
     },
     "execution_count": 48,
     "metadata": {},
     "output_type": "execute_result"
    }
   ],
   "source": [
    "pm.summary(samples)"
   ]
  },
  {
   "cell_type": "code",
   "execution_count": 49,
   "metadata": {},
   "outputs": [
    {
     "data": {
      "image/png": "[encoded data removed]",
      "text/plain": [
       "<matplotlib.figure.Figure at 0x7f86f6b13da0>"
      ]
     },
     "metadata": {},
     "output_type": "display_data"
    }
   ],
   "source": [
    "pm.plot_posterior(samples, varnames=['female', 'non_white', 'hispanic'], ref_val=0);"
   ]
  }
 ],
 "metadata": {
  "kernelspec": {
   "display_name": "Python 3",
   "language": "python",
   "name": "python3"
  },
  "language_info": {
   "codemirror_mode": {
    "name": "ipython",
    "version": 3
   },
   "file_extension": ".py",
   "mimetype": "text/x-python",
   "name": "python",
   "nbconvert_exporter": "python",
   "pygments_lexer": "ipython3",
   "version": "3.4.2"
  }
 },
 "nbformat": 4,
 "nbformat_minor": 2
}
