{
 "cells": [
  {
   "cell_type": "markdown",
   "metadata": {},
   "source": [
    "# Hello, Workbench! \n",
    "### Here's how to get started using notebooks to analyze _All of Us_ Research Program data.\n",
    "---"
   ]
  },
  {
   "cell_type": "markdown",
   "metadata": {},
   "source": [
    "## This Notebook explains (in Python) how to use cohorts definined by the Cohort Builder, and concept sets defined by the Concept Set Selector.\n",
    "\n",
    "## What is a Workspace?\n",
    "\n",
    "A **Workspace** is your place to store and analyze data for a specific project. Your Workspace is where you will go to build concept sets and cohorts and launch Notebooks to perform analyses. You can share a Workspace with other users, allowing them to view or edit your work. To learn more about our tools, please refer to the **Quick Tour** located on the Workbench homepage.\n",
    "\n",
    "## What are Notebooks?\n",
    "**Jupyter Notebooks** (like this one) are web applications that you can use to create and share documents that contain live code, equations, visualizations and narrative text. Like a traditional lab notebook, Jupyter Notebooks allow you to capture a complete record of your procedures, analyses, and observations such that another scientist may reproduce your observations.\n",
    "\n",
    "### If you are familiar with using  notebooks for data analysis, here are some resources to get started:\n",
    "* Learn about our data model, which is based on the Observational Health Data Sciences and Informatics (OHDSI) Observational Medical Outcomes Partnership (OMOP) common data model: [CDR metadata documentation](https://github.com/all-of-us/pyclient/blob/master/py/aou_workbench_client/cdr/README.md)\n",
    "    > Ex. Use our CDR documentation to learn that the Person table contains fields such as \"person_id\" and \"year_of_birth\"\n",
    "* To search standard vocaularies used in OMOP, please use [ODHSI's Athena tool](http://athena.ohdsi.org/)\n",
    "    > Ex. Use Athena to learn that a gender_concept_id = 8532 means Female\n",
    "* Learn how to access the All of Us Workbench API from a notebook: [AllofUs Python Client Library README](https://github.com/all-of-us/pyclient/blob/master/py/README.md#materializecohortrequest) \n",
    "    > Ex. Use our Client Library documentation to learn what function to use to load data from our database into your notebook.\n",
    "* Learn how to use concept sets and cohorts in a notebook with our **Using Cohorts and Concept Sets** tutorial notebook.\n",
    "    > Ex. Use this example notebook as a template for starting an analysis on cohort you created with our cohort builder tool.\n",
    "* *Disclaimer, this notebook is written for Python.* If you prefer doing your analysis in R, check out **Get Started in R Notebooks**\n",
    "\n",
    "### If you are new to using notebooks, or if you would like a quick refresher, read on!\n",
    "-----"
   ]
  },
  {
   "cell_type": "markdown",
   "metadata": {},
   "source": [
    "# Using Notebooks - A Quick Overview"
   ]
  },
  {
   "cell_type": "markdown",
   "metadata": {},
   "source": [
    "## Notebook Overview Part I: Cells\n",
    "A notebook contains a list of rectangular boxes called **cells**. Cells contain either explanatory text or executable code and its output. \n",
    "Click once select a cell. Double-click to edit a cell (cells in edit mode appear grey)."
   ]
  },
  {
   "cell_type": "markdown",
   "metadata": {},
   "source": [
    "### This is a text cell\n",
    "Add text to your notebook using Markdown cells. Change the cell type to Markdown by using the Cell menu or selecting \"Markdown\" from the toolbar above. To learn more, see [Working with Markdown Cells](https://jupyter-notebook.readthedocs.io/en/stable/examples/Notebook/Working%20With%20Markdown%20Cells.html).\n",
    "\n",
    "Add math to text cells using [LaTeX](http://www.latex-project.org/) by placing the statement\n",
    "within a pair of **\\$** signs. \n",
    "> For example `$\\int_a^b \\!f(x) \\, \\mathrm{d}x$` becomes\n",
    "$\\int_a^b \\!f(x) \\, \\mathrm{d}x$\n",
    "\n",
    "### The next cell is a code cell\n",
    "Workbench currenlty supports code written in Python 2, Python 3, and R. To change the programming language (called a **\"kernel\"**), use the Kernel menu above to choose the language/version you want.\n",
    "\n",
    ">To execute or \"run\" code, select the cell, then press Shift + Enter. The cell is done executing when [*] at the left of the cell turns into [a number]."
   ]
  },
  {
   "cell_type": "code",
   "execution_count": null,
   "metadata": {},
   "outputs": [],
   "source": [
    "# This is a code cell \n",
    "# Background: The All of Us Research Program is calling on one million people to join us as we try to change the future of health.\n",
    "\n",
    "AllofUs = 1000000\n",
    "x = 1\n",
    "you = AllofUs/x\n",
    "print(you)\n"
   ]
  },
  {
   "cell_type": "markdown",
   "metadata": {},
   "source": [
    "### Adding and Removing Cells\n",
    "\n",
    "**To add a new cell:**\n",
    "* click the + icon in the menubar\n",
    "* Insert -> Choose Cell Above or Below your current cell\n",
    "* or press ESC A\n",
    "\n",
    "> Try adding a new code cell below this cell\n",
    "\n",
    "**To remove a cell:**\n",
    "* click the scissors icon in the menubar\n",
    "* Edit -> Delete or Cut cells\n",
    "* or press ESC X (for cut) ESC d d (for delete)\n",
    "\n",
    "> Now try removing that cell you added\n"
   ]
  },
  {
   "cell_type": "markdown",
   "metadata": {},
   "source": [
    "---\n",
    "## Notebook Overview Part II. Modules, Packages, Libraries, and Extensions"
   ]
  },
  {
   "cell_type": "markdown",
   "metadata": {},
   "source": [
    "### Modules\n",
    "A **module** is a piece of software with specific functionality. In the Python language, modules are files with a .py extension. You can import modules into your notebook to get access to specific functions, objects, or classes (which are combinations of variables and functions).\n",
    "\n",
    "### Packages and Libraries\n",
    "A **package** is a collection of related modules or functions. A **library** is where packages are stored, but you may see the terms \"package\" and \"library\" used somewhat interchangably.\n",
    "\n",
    "> To use a module or package in Python, you simply need to import using:\n",
    "> `import <modulename>` or `import <packagename>`"
   ]
  },
  {
   "cell_type": "markdown",
   "metadata": {},
   "source": [
    "### Popular Packages and Libraries For Data Analysis\n",
    "Below are popular libraries for data analysis in Python. Execute the cell to import it. Notice `as` is used to define an alias, which can be used to call the library instead of typing out the full name in every cell afterwards.\n",
    "\n",
    "If you are interested in doing analysis in R, please see our [Get Started in R](link) notebook for a list of recommended packages.\n",
    "\n",
    "> helpful tip: You can get more information on each of the libraries and packages below from the \"Help\" menu above"
   ]
  },
  {
   "cell_type": "code",
   "execution_count": 6,
   "metadata": {},
   "outputs": [],
   "source": [
    "# Scientific computing in python\n",
    "import numpy as np"
   ]
  },
  {
   "cell_type": "code",
   "execution_count": 15,
   "metadata": {},
   "outputs": [],
   "source": [
    "# Data visualizations\n",
    "import matplotlib as mpl"
   ]
  },
  {
   "cell_type": "code",
   "execution_count": null,
   "metadata": {},
   "outputs": [],
   "source": [
    "# Data analysis tools and data structures like the DataFrame\n",
    "import pandas as pd"
   ]
  },
  {
   "cell_type": "code",
   "execution_count": null,
   "metadata": {},
   "outputs": [],
   "source": [
    "# Statistical data visualization, site: https://seaborn.pydata.org/\n",
    "import seaborn as sb"
   ]
  },
  {
   "cell_type": "code",
   "execution_count": null,
   "metadata": {},
   "outputs": [],
   "source": [
    "# Exploring and analyzing genomic data, site: https://hail.is/index.html\n",
    "import hail as hl"
   ]
  },
  {
   "cell_type": "markdown",
   "metadata": {},
   "source": [
    "### Extensions\n",
    "\n",
    "**Extensions** are optional plug-ins that add functionality to notebooks. Below are are few extensions that the open source community created to add functionality to the Jupyter Notebook. For a more complete list of extensions, please see http://jupyter-contrib-nbextensions.readthedocs.io/en/latest/index.html\n",
    "\n",
    "To install the below notebook extenstions, three steps are required: \n",
    "1. The Python pip package needs to be installed. \n",
    "2. Tthe notebook extensions themselves need to be copied to the Jupyter data directory. \n",
    "3. The installed notebook extensions can be enabled, either by using built-in Jupyter commands, or more conveniently by using the jupyter_nbextensions_configurator server extension. \n",
    "\n",
    "> For more details on how to enable extenstions, see [Installing jupyter_contrib_nbextensions](https://jupyter-contrib-nbextensions.readthedocs.io/en/latest/install.html) or follow the example below"
   ]
  },
  {
   "cell_type": "code",
   "execution_count": null,
   "metadata": {},
   "outputs": [],
   "source": [
    "# 1. Run this cell install the nbextensions python package\n",
    "\n",
    "!pip install --user --upgrade 'https://github.com/ipython-contrib/jupyter_contrib_nbextensions/tarball/master'"
   ]
  },
  {
   "cell_type": "code",
   "execution_count": 5,
   "metadata": {},
   "outputs": [
    {
     "name": "stdout",
     "output_type": "stream",
     "text": [
      "Up to date: /home/jupyter-user/.local/share/jupyter/nbextensions/collapsible_headings/main.js\n",
      "Up to date: /home/jupyter-user/.local/share/jupyter/nbextensions/collapsible_headings/screenshot.png\n",
      "Up to date: /home/jupyter-user/.local/share/jupyter/nbextensions/collapsible_headings/main.css\n",
      "Up to date: /home/jupyter-user/.local/share/jupyter/nbextensions/collapsible_headings/icon.png\n",
      "Up to date: /home/jupyter-user/.local/share/jupyter/nbextensions/collapsible_headings/readme.md\n",
      "Up to date: /home/jupyter-user/.local/share/jupyter/nbextensions/collapsible_headings/collapsible_headings.yaml\n",
      "\n",
      "    To initialize this nbextension in the browser every time the notebook (or other app) loads:\n",
      "    \n",
      "          jupyter nbextension enable <the entry point> --user\n",
      "    \n",
      "Enabling notebook extension collapsible_headings/main...\n",
      "      - Validating: \u001b[32mOK\u001b[0m\n"
     ]
    }
   ],
   "source": [
    "# 2. Run this cell to install an extension that allows you to collapse headings\n",
    "\n",
    "!jupyter nbextension install ~/.local/lib/python3.4/site-packages/jupyter_contrib_nbextensions/nbextensions/collapsible_headings --user\n",
    "!jupyter nbextension enable collapsible_headings/main --user"
   ]
  },
  {
   "cell_type": "code",
   "execution_count": 2,
   "metadata": {},
   "outputs": [
    {
     "ename": "SyntaxError",
     "evalue": "invalid syntax (<ipython-input-2-02d9c0f0f14b>, line 3)",
     "output_type": "error",
     "traceback": [
      "\u001b[0;36m  File \u001b[0;32m\"<ipython-input-2-02d9c0f0f14b>\"\u001b[0;36m, line \u001b[0;32m3\u001b[0m\n\u001b[0;31m    jupyter collapsible_headings enable\u001b[0m\n\u001b[0m                               ^\u001b[0m\n\u001b[0;31mSyntaxError\u001b[0m\u001b[0;31m:\u001b[0m invalid syntax\n"
     ]
    }
   ],
   "source": [
    "# 3. Run this cell to enable the collapsible heading extension installed above\n",
    "\n",
    "jupyter collapsible_headings enable"
   ]
  },
  {
   "cell_type": "code",
   "execution_count": null,
   "metadata": {},
   "outputs": [],
   "source": [
    "# 4. Run this cell to disable the collapsible heading extension enabled above\n",
    "\n",
    "jupyter nbextension disable collapsible_headings/main"
   ]
  },
  {
   "cell_type": "markdown",
   "metadata": {},
   "source": [
    "---\n",
    "## Notebook Overview Part III. Importing Notebooks into a Workspace"
   ]
  },
  {
   "cell_type": "markdown",
   "metadata": {},
   "source": [
    "To import an existing notebook from your local machine into your workspace:\n",
    "\n",
    "1. Click the \"File\" menu and select \"Open\"\n",
    "2. A new browser window will open up with a list of all the notebooks in your workspace. Click Upload. \n",
    "3. Navigate to where your notebook is saved. Cick Open.\n",
    "\n",
    "and you should be ready to go!"
   ]
  },
  {
   "cell_type": "code",
   "execution_count": null,
   "metadata": {},
   "outputs": [],
   "source": []
  }
 ],
 "metadata": {
  "kernelspec": {
   "display_name": "Python 3",
   "language": "python",
   "name": "python3"
  },
  "language_info": {
   "codemirror_mode": {
    "name": "ipython",
    "version": 3
   },
   "file_extension": ".py",
   "mimetype": "text/x-python",
   "name": "python",
   "nbconvert_exporter": "python",
   "pygments_lexer": "ipython3",
   "version": "3.4.2"
  },
  "toc": {
   "base_numbering": 1,
   "nav_menu": {},
   "number_sections": true,
   "sideBar": true,
   "skip_h1_title": false,
   "title_cell": "Table of Contents",
   "title_sidebar": "Contents",
   "toc_cell": false,
   "toc_position": {},
   "toc_section_display": true,
   "toc_window_display": false
  }
 },
 "nbformat": 4,
 "nbformat_minor": 2
}
