{
 "cells": [
  {
   "cell_type": "markdown",
   "metadata": {},
   "source": [
    "# Before we get started...\n",
    "\n",
    "### If you are new to using notebooks in the Workbench, please see \"Get Started in Python Notebooks.\" \n",
    "\n",
    "### If you are familiar with using notebooks for data analysis, here are helpful resources:\n",
    "* Learn about our data model, which is based on the Observational Health Data Sciences and Informatics (OHDSI) Observational Medical Outcomes Partnership (OMOP) common data model: [CDR metadata documentation](https://github.com/all-of-us/pyclient/blob/master/py/aou_workbench_client/cdr/README.md)\n",
    "    > Ex. Use our CDR documentation to learn that the Person table contains fields such as \"person_id\" and \"year_of_birth\"\n",
    "* To search standard vocaularies used in OMOP, please use [ODHSI's Athena tool](http://athena.ohdsi.org/)\n",
    "    > Ex. Use Athena to learn that a gender_concept_id = 8532 means Female\n",
    "* Learn how to access the All of Us Workbench API from a notebook: [AllofUs Python Client Library README](https://github.com/all-of-us/pyclient/blob/master/py/README.md#materializecohortrequest) \n",
    "    > Ex. Use our Client Library documentation to learn what function to use to load data from our database into your notebook.\n",
    "* Prefer doing your analysis in R, rather than Python? Check out **Get Started in R Notebooks**\n",
    "\n",
    "---\n",
    "\n",
    "## This Notebook explains (in Python) how to use cohorts definined by the Cohort Builder, and concept sets defined by the Concept Set Selector."
   ]
  },
  {
   "cell_type": "markdown",
   "metadata": {},
   "source": [
    "### Objectives\n",
    "Apply python commands to explore a predefined cohort in the following steps:\n",
    "  1. Load Cohorts to a dataframe\n",
    "  2. Select a Concept set from cohort into a dataframe\n",
    "  3. Perfom joins on dataframes"
   ]
  },
  {
   "cell_type": "markdown",
   "metadata": {},
   "source": [
    "### Section 1: Load cohort data into a dataframe"
   ]
  },
  {
   "cell_type": "markdown",
   "metadata": {},
   "source": [
    "**Step 1:** Install the AoU Python client library by running the cell below. \n",
    "Here is the documentation for client libraries: **https://github.com/all-of-us/pyclient/tree/master/py**"
   ]
  },
  {
   "cell_type": "code",
   "execution_count": 19,
   "metadata": {},
   "outputs": [],
   "source": [
    "%%capture\n",
    "!pip3   install --user --upgrade \"https://github.com/all-of-us/pyclient/archive/pyclient-v1-15.zip#egg=aou_workbench_client&subdirectory=py\"\n"
   ]
  },
  {
   "cell_type": "markdown",
   "metadata": {},
   "source": [
    "**Step 2:** Restart kernel after the previous cell has finished running. **ln [*] indicates that the cell is still running.**\n"
   ]
  },
  {
   "cell_type": "markdown",
   "metadata": {},
   "source": [
    "**Step 3:** Load libraries to import data by running the cell below.\n",
    "Here is the documentation for APIs to load data - **https://github.com/all-of-us/pyclient/tree/master/py#aou_workbench_clientdataload_data**\n",
    "\n",
    "**Ignore error message: *RuntimeWarning: numpy.dtype size changed.* This is a known bug with Numpy**\n",
    "    "
   ]
  },
  {
   "cell_type": "code",
   "execution_count": 20,
   "metadata": {},
   "outputs": [],
   "source": [
    "from aou_workbench_client.cdr.model import *\n",
    "from aou_workbench_client.data import load_data\n",
    "from IPython.display import display, HTML"
   ]
  },
  {
   "cell_type": "markdown",
   "metadata": {},
   "source": [
    "**Step 2:** Enter input variables. \n",
    "1. \"name_of_cohort\" => The name of the cohort you want to reference in this workspace\n",
    "2. \"table_name\" => name of the table from OMOP. You can pick one from below.\n",
    "   - ConditionOccurrence\n",
    "   - Death \n",
    "   - DeviceExposure\n",
    "   - DrugExposure\n",
    "   - Measurement\n",
    "   - Observation\n",
    "   - Person\n",
    "   - ProcedureOccurrence\n",
    "   - VisitOccurrence\n",
    "   \n",
    "   *To learn structure of any table do <table_name>.columns in a new cell - For example, ConditionOccurrence.columns*\n",
    "   \n",
    "3. max_result_size => The maximum number of rows of results you want to see. This is *Optional* - removing this field returns all results.\n",
    "\n",
    "\n"
   ]
  },
  {
   "cell_type": "code",
   "execution_count": 21,
   "metadata": {},
   "outputs": [],
   "source": [
    "# input variables\n",
    "name_of_cohort = \"diabetes cases\"\n",
    "table_name=Person\n",
    "max_result_size = 100"
   ]
  },
  {
   "cell_type": "markdown",
   "metadata": {},
   "source": [
    "**Step 3:** Load your cohort to a dataframe (in memory dataset).\n",
    "\n",
    "In \"columns\" parameter, you can list the column names you want to pick from the table. Leaving it empty picks all columns from the table."
   ]
  },
  {
   "cell_type": "code",
   "execution_count": 22,
   "metadata": {},
   "outputs": [],
   "source": [
    "# Load cohort to a dataframe\n",
    "cohort_dataframe = load_data(cohort_name=name_of_cohort, table=table_name,\n",
    "                       columns=[],\n",
    "                                max_results=max_result_size)\n",
    "\n",
    "\n"
   ]
  },
  {
   "cell_type": "markdown",
   "metadata": {},
   "source": [
    "**Step 4:** How big is the DataFrame? Call the `cohort_dataframe` object and`.shape` to figure it out. "
   ]
  },
  {
   "cell_type": "code",
   "execution_count": 23,
   "metadata": {},
   "outputs": [
    {
     "data": {
      "text/plain": [
       "(100, 18)"
      ]
     },
     "execution_count": 23,
     "metadata": {},
     "output_type": "execute_result"
    }
   ],
   "source": [
    "cohort_dataframe.shape"
   ]
  },
  {
   "cell_type": "markdown",
   "metadata": {},
   "source": [
    "The first number indicates the number of individuals in the cohort (rows) and the second indicates the number of attributes of the individual (columns). Take a look at what column is returned. "
   ]
  },
  {
   "cell_type": "markdown",
   "metadata": {},
   "source": [
    "**Step 5:** Call the first 5 rows of the DataFrame using `.head(5)`"
   ]
  },
  {
   "cell_type": "code",
   "execution_count": 24,
   "metadata": {},
   "outputs": [
    {
     "data": {
      "text/html": [
       "<div>\n",
       "<style>\n",
       "    .dataframe thead tr:only-child th {\n",
       "        text-align: right;\n",
       "    }\n",
       "\n",
       "    .dataframe thead th {\n",
       "        text-align: left;\n",
       "    }\n",
       "\n",
       "    .dataframe tbody tr th {\n",
       "        vertical-align: top;\n",
       "    }\n",
       "</style>\n",
       "<table border=\"1\" class=\"dataframe\">\n",
       "  <thead>\n",
       "    <tr style=\"text-align: right;\">\n",
       "      <th></th>\n",
       "      <th>person_id</th>\n",
       "      <th>gender_concept_id</th>\n",
       "      <th>year_of_birth</th>\n",
       "      <th>month_of_birth</th>\n",
       "      <th>day_of_birth</th>\n",
       "      <th>birth_datetime</th>\n",
       "      <th>race_concept_id</th>\n",
       "      <th>ethnicity_concept_id</th>\n",
       "      <th>location_id</th>\n",
       "      <th>provider_id</th>\n",
       "      <th>care_site_id</th>\n",
       "      <th>person_source_value</th>\n",
       "      <th>gender_source_value</th>\n",
       "      <th>gender_source_concept_id</th>\n",
       "      <th>race_source_value</th>\n",
       "      <th>race_source_concept_id</th>\n",
       "      <th>ethnicity_source_value</th>\n",
       "      <th>ethnicity_source_concept_id</th>\n",
       "    </tr>\n",
       "  </thead>\n",
       "  <tbody>\n",
       "    <tr>\n",
       "      <th>0</th>\n",
       "      <td>5</td>\n",
       "      <td>8507</td>\n",
       "      <td>1944</td>\n",
       "      <td>2</td>\n",
       "      <td>20</td>\n",
       "      <td>1944-02-20</td>\n",
       "      <td>8527</td>\n",
       "      <td>38003564</td>\n",
       "      <td>0</td>\n",
       "      <td>0</td>\n",
       "      <td>0</td>\n",
       "      <td>1672824</td>\n",
       "      <td>M</td>\n",
       "      <td>901001</td>\n",
       "      <td>W</td>\n",
       "      <td>701000</td>\n",
       "      <td>NH</td>\n",
       "      <td>1101000</td>\n",
       "    </tr>\n",
       "    <tr>\n",
       "      <th>1</th>\n",
       "      <td>6</td>\n",
       "      <td>8532</td>\n",
       "      <td>1959</td>\n",
       "      <td>6</td>\n",
       "      <td>3</td>\n",
       "      <td>1959-06-03</td>\n",
       "      <td>8516</td>\n",
       "      <td>38003564</td>\n",
       "      <td>0</td>\n",
       "      <td>0</td>\n",
       "      <td>0</td>\n",
       "      <td>329876</td>\n",
       "      <td>F</td>\n",
       "      <td>1001001</td>\n",
       "      <td>B</td>\n",
       "      <td>1000</td>\n",
       "      <td>NH</td>\n",
       "      <td>1101000</td>\n",
       "    </tr>\n",
       "    <tr>\n",
       "      <th>2</th>\n",
       "      <td>14</td>\n",
       "      <td>8507</td>\n",
       "      <td>1955</td>\n",
       "      <td>9</td>\n",
       "      <td>21</td>\n",
       "      <td>1955-09-21</td>\n",
       "      <td>8516</td>\n",
       "      <td>38003564</td>\n",
       "      <td>0</td>\n",
       "      <td>0</td>\n",
       "      <td>0</td>\n",
       "      <td>1855059</td>\n",
       "      <td>M</td>\n",
       "      <td>901001</td>\n",
       "      <td>B</td>\n",
       "      <td>1000</td>\n",
       "      <td>NH</td>\n",
       "      <td>1101000</td>\n",
       "    </tr>\n",
       "    <tr>\n",
       "      <th>3</th>\n",
       "      <td>18</td>\n",
       "      <td>8532</td>\n",
       "      <td>1969</td>\n",
       "      <td>7</td>\n",
       "      <td>22</td>\n",
       "      <td>1969-07-22</td>\n",
       "      <td>601000</td>\n",
       "      <td>1201000</td>\n",
       "      <td>0</td>\n",
       "      <td>0</td>\n",
       "      <td>0</td>\n",
       "      <td>1642725</td>\n",
       "      <td>F</td>\n",
       "      <td>1001001</td>\n",
       "      <td>U</td>\n",
       "      <td>601000</td>\n",
       "      <td>UN</td>\n",
       "      <td>1201000</td>\n",
       "    </tr>\n",
       "    <tr>\n",
       "      <th>4</th>\n",
       "      <td>37</td>\n",
       "      <td>8532</td>\n",
       "      <td>1977</td>\n",
       "      <td>10</td>\n",
       "      <td>2</td>\n",
       "      <td>1977-10-02</td>\n",
       "      <td>8516</td>\n",
       "      <td>38003564</td>\n",
       "      <td>0</td>\n",
       "      <td>0</td>\n",
       "      <td>0</td>\n",
       "      <td>1136161</td>\n",
       "      <td>F</td>\n",
       "      <td>1001001</td>\n",
       "      <td>B</td>\n",
       "      <td>1000</td>\n",
       "      <td>NH</td>\n",
       "      <td>1101000</td>\n",
       "    </tr>\n",
       "  </tbody>\n",
       "</table>\n",
       "</div>"
      ],
      "text/plain": [
       "   person_id  gender_concept_id  year_of_birth  month_of_birth  day_of_birth  \\\n",
       "0          5               8507           1944               2            20   \n",
       "1          6               8532           1959               6             3   \n",
       "2         14               8507           1955               9            21   \n",
       "3         18               8532           1969               7            22   \n",
       "4         37               8532           1977              10             2   \n",
       "\n",
       "  birth_datetime  race_concept_id  ethnicity_concept_id  location_id  \\\n",
       "0     1944-02-20             8527              38003564            0   \n",
       "1     1959-06-03             8516              38003564            0   \n",
       "2     1955-09-21             8516              38003564            0   \n",
       "3     1969-07-22           601000               1201000            0   \n",
       "4     1977-10-02             8516              38003564            0   \n",
       "\n",
       "   provider_id  care_site_id person_source_value gender_source_value  \\\n",
       "0            0             0             1672824                   M   \n",
       "1            0             0              329876                   F   \n",
       "2            0             0             1855059                   M   \n",
       "3            0             0             1642725                   F   \n",
       "4            0             0             1136161                   F   \n",
       "\n",
       "   gender_source_concept_id race_source_value  race_source_concept_id  \\\n",
       "0                    901001                 W                  701000   \n",
       "1                   1001001                 B                    1000   \n",
       "2                    901001                 B                    1000   \n",
       "3                   1001001                 U                  601000   \n",
       "4                   1001001                 B                    1000   \n",
       "\n",
       "  ethnicity_source_value  ethnicity_source_concept_id  \n",
       "0                     NH                      1101000  \n",
       "1                     NH                      1101000  \n",
       "2                     NH                      1101000  \n",
       "3                     UN                      1201000  \n",
       "4                     NH                      1101000  "
      ]
     },
     "execution_count": 24,
     "metadata": {},
     "output_type": "execute_result"
    }
   ],
   "source": [
    "cohort_dataframe.head(5)"
   ]
  },
  {
   "cell_type": "markdown",
   "metadata": {},
   "source": [
    "### Section 2 : Select concept sets from your cohort into a dataframe"
   ]
  },
  {
   "cell_type": "markdown",
   "metadata": {},
   "source": [
    "**Step 1:** Enter input valriables\n",
    "\n",
    "1. \"name_of_cohort\" => The name of the cohort you want to reference in this workspace\n",
    "2. \"name_of_concept_set\" => The name of the concept set you want to select from your cohort in this workspace\n",
    "3. \"domain_table_name\" => name of the domain table in OMOP the concept set belongs to. You can pick one from below.\n",
    "   - ConditionOccurrence\n",
    "   - Death \n",
    "   - DeviceExposure\n",
    "   - DrugExposure\n",
    "   - Measurement\n",
    "   - Observation\n",
    "   - Person\n",
    "   - ProcedureOccurrence\n",
    "   - VisitOccurrence\n",
    "   \n",
    "   *To learn structure of any table do <table_name>.columns in a new cell - For example, ConditionOccurrence.columns*\n",
    "   \n",
    "4. max_result_size => The maximum number of rows of results you want to see. This is *Optional* - removing this field returns all results."
   ]
  },
  {
   "cell_type": "code",
   "execution_count": 25,
   "metadata": {},
   "outputs": [],
   "source": [
    "# input variables\n",
    "name_of_cohort = \"diabetes cases\"\n",
    "name_of_concept_set = \"bloodpressure\"\n",
    "domain_table_name = Measurement\n",
    "max_result_size = 100\n"
   ]
  },
  {
   "cell_type": "markdown",
   "metadata": {},
   "source": [
    "**Step 2:** Select concept sets within your cohort defined in 'name_of_cohort' "
   ]
  },
  {
   "cell_type": "code",
   "execution_count": 26,
   "metadata": {},
   "outputs": [],
   "source": [
    "blood_pressure_for_diabetics_dataframe = load_data(cohort_name=name_of_cohort, concept_set_name=name_of_concept_set, table=domain_table_name,\n",
    "                       columns=[],\n",
    "                                max_results=max_result_size, order_by=[])\n"
   ]
  },
  {
   "cell_type": "markdown",
   "metadata": {},
   "source": [
    "**Step 3:** Find the number of rows and columns in the dataframe"
   ]
  },
  {
   "cell_type": "code",
   "execution_count": 27,
   "metadata": {},
   "outputs": [
    {
     "data": {
      "text/plain": [
       "(100, 18)"
      ]
     },
     "execution_count": 27,
     "metadata": {},
     "output_type": "execute_result"
    }
   ],
   "source": [
    "blood_pressure_for_diabetics_dataframe.shape"
   ]
  },
  {
   "cell_type": "markdown",
   "metadata": {},
   "source": [
    "### Section 3: Perfom joins on dataframes"
   ]
  },
  {
   "cell_type": "markdown",
   "metadata": {},
   "source": [
    "Let's get all the data from the 'Person' table for people in 'blood_pressure_for_diabetics_dataframe' by using the df.merge function. Here is documentation for complicated joins: **https://pandas.pydata.org/pandas-docs/stable/generated/pandas.DataFrame.merge.html**"
   ]
  },
  {
   "cell_type": "code",
   "execution_count": 28,
   "metadata": {},
   "outputs": [],
   "source": [
    "cohort_person_dataframe = load_data(cohort_name=name_of_cohort, table=Person, max_results=100)\n"
   ]
  },
  {
   "cell_type": "code",
   "execution_count": 29,
   "metadata": {},
   "outputs": [],
   "source": [
    "persons_measurements_dataframe = blood_pressure_for_diabetics_dataframe.merge(cohort_person_dataframe)"
   ]
  },
  {
   "cell_type": "code",
   "execution_count": 30,
   "metadata": {},
   "outputs": [
    {
     "data": {
      "text/plain": [
       "(100, 34)"
      ]
     },
     "execution_count": 30,
     "metadata": {},
     "output_type": "execute_result"
    }
   ],
   "source": [
    "persons_measurements_dataframe.shape"
   ]
  },
  {
   "cell_type": "code",
   "execution_count": 14,
   "metadata": {},
   "outputs": [
    {
     "data": {
      "text/html": [
       "<div>\n",
       "<style>\n",
       "    .dataframe thead tr:only-child th {\n",
       "        text-align: right;\n",
       "    }\n",
       "\n",
       "    .dataframe thead th {\n",
       "        text-align: left;\n",
       "    }\n",
       "\n",
       "    .dataframe tbody tr th {\n",
       "        vertical-align: top;\n",
       "    }\n",
       "</style>\n",
       "<table border=\"1\" class=\"dataframe\">\n",
       "  <thead>\n",
       "    <tr style=\"text-align: right;\">\n",
       "      <th></th>\n",
       "      <th>person_id</th>\n",
       "      <th>measurement_concept_id</th>\n",
       "      <th>measurement_concept.concept_name</th>\n",
       "      <th>value_as_number</th>\n",
       "      <th>unit_concept_id</th>\n",
       "      <th>measurement_datetime</th>\n",
       "      <th>gender_concept_id</th>\n",
       "      <th>year_of_birth</th>\n",
       "      <th>month_of_birth</th>\n",
       "      <th>day_of_birth</th>\n",
       "      <th>...</th>\n",
       "      <th>location_id</th>\n",
       "      <th>provider_id</th>\n",
       "      <th>care_site_id</th>\n",
       "      <th>person_source_value</th>\n",
       "      <th>gender_source_value</th>\n",
       "      <th>gender_source_concept_id</th>\n",
       "      <th>race_source_value</th>\n",
       "      <th>race_source_concept_id</th>\n",
       "      <th>ethnicity_source_value</th>\n",
       "      <th>ethnicity_source_concept_id</th>\n",
       "    </tr>\n",
       "  </thead>\n",
       "  <tbody>\n",
       "    <tr>\n",
       "      <th>0</th>\n",
       "      <td>6</td>\n",
       "      <td>4154790</td>\n",
       "      <td>Diastolic blood pressure</td>\n",
       "      <td>139.0</td>\n",
       "      <td>8876</td>\n",
       "      <td>2005-04-01 12:11:09</td>\n",
       "      <td>8532</td>\n",
       "      <td>1959</td>\n",
       "      <td>6</td>\n",
       "      <td>3</td>\n",
       "      <td>...</td>\n",
       "      <td>0</td>\n",
       "      <td>0</td>\n",
       "      <td>0</td>\n",
       "      <td>329876</td>\n",
       "      <td>F</td>\n",
       "      <td>1001001</td>\n",
       "      <td>B</td>\n",
       "      <td>1000</td>\n",
       "      <td>NH</td>\n",
       "      <td>1101000</td>\n",
       "    </tr>\n",
       "    <tr>\n",
       "      <th>1</th>\n",
       "      <td>6</td>\n",
       "      <td>4152194</td>\n",
       "      <td>Systolic blood pressure</td>\n",
       "      <td>86.0</td>\n",
       "      <td>8876</td>\n",
       "      <td>2005-04-01 12:11:09</td>\n",
       "      <td>8532</td>\n",
       "      <td>1959</td>\n",
       "      <td>6</td>\n",
       "      <td>3</td>\n",
       "      <td>...</td>\n",
       "      <td>0</td>\n",
       "      <td>0</td>\n",
       "      <td>0</td>\n",
       "      <td>329876</td>\n",
       "      <td>F</td>\n",
       "      <td>1001001</td>\n",
       "      <td>B</td>\n",
       "      <td>1000</td>\n",
       "      <td>NH</td>\n",
       "      <td>1101000</td>\n",
       "    </tr>\n",
       "    <tr>\n",
       "      <th>2</th>\n",
       "      <td>6</td>\n",
       "      <td>4154790</td>\n",
       "      <td>Diastolic blood pressure</td>\n",
       "      <td>110.0</td>\n",
       "      <td>8876</td>\n",
       "      <td>2005-04-24 13:09:00</td>\n",
       "      <td>8532</td>\n",
       "      <td>1959</td>\n",
       "      <td>6</td>\n",
       "      <td>3</td>\n",
       "      <td>...</td>\n",
       "      <td>0</td>\n",
       "      <td>0</td>\n",
       "      <td>0</td>\n",
       "      <td>329876</td>\n",
       "      <td>F</td>\n",
       "      <td>1001001</td>\n",
       "      <td>B</td>\n",
       "      <td>1000</td>\n",
       "      <td>NH</td>\n",
       "      <td>1101000</td>\n",
       "    </tr>\n",
       "    <tr>\n",
       "      <th>3</th>\n",
       "      <td>6</td>\n",
       "      <td>4152194</td>\n",
       "      <td>Systolic blood pressure</td>\n",
       "      <td>75.0</td>\n",
       "      <td>8876</td>\n",
       "      <td>2005-04-24 13:09:00</td>\n",
       "      <td>8532</td>\n",
       "      <td>1959</td>\n",
       "      <td>6</td>\n",
       "      <td>3</td>\n",
       "      <td>...</td>\n",
       "      <td>0</td>\n",
       "      <td>0</td>\n",
       "      <td>0</td>\n",
       "      <td>329876</td>\n",
       "      <td>F</td>\n",
       "      <td>1001001</td>\n",
       "      <td>B</td>\n",
       "      <td>1000</td>\n",
       "      <td>NH</td>\n",
       "      <td>1101000</td>\n",
       "    </tr>\n",
       "    <tr>\n",
       "      <th>4</th>\n",
       "      <td>6</td>\n",
       "      <td>4154790</td>\n",
       "      <td>Diastolic blood pressure</td>\n",
       "      <td>100.0</td>\n",
       "      <td>8876</td>\n",
       "      <td>2005-05-22 09:23:00</td>\n",
       "      <td>8532</td>\n",
       "      <td>1959</td>\n",
       "      <td>6</td>\n",
       "      <td>3</td>\n",
       "      <td>...</td>\n",
       "      <td>0</td>\n",
       "      <td>0</td>\n",
       "      <td>0</td>\n",
       "      <td>329876</td>\n",
       "      <td>F</td>\n",
       "      <td>1001001</td>\n",
       "      <td>B</td>\n",
       "      <td>1000</td>\n",
       "      <td>NH</td>\n",
       "      <td>1101000</td>\n",
       "    </tr>\n",
       "  </tbody>\n",
       "</table>\n",
       "<p>5 rows × 23 columns</p>\n",
       "</div>"
      ],
      "text/plain": [
       "   person_id  measurement_concept_id measurement_concept.concept_name  \\\n",
       "0          6                 4154790         Diastolic blood pressure   \n",
       "1          6                 4152194          Systolic blood pressure   \n",
       "2          6                 4154790         Diastolic blood pressure   \n",
       "3          6                 4152194          Systolic blood pressure   \n",
       "4          6                 4154790         Diastolic blood pressure   \n",
       "\n",
       "   value_as_number  unit_concept_id measurement_datetime  gender_concept_id  \\\n",
       "0            139.0             8876  2005-04-01 12:11:09               8532   \n",
       "1             86.0             8876  2005-04-01 12:11:09               8532   \n",
       "2            110.0             8876  2005-04-24 13:09:00               8532   \n",
       "3             75.0             8876  2005-04-24 13:09:00               8532   \n",
       "4            100.0             8876  2005-05-22 09:23:00               8532   \n",
       "\n",
       "   year_of_birth  month_of_birth  day_of_birth             ...              \\\n",
       "0           1959               6             3             ...               \n",
       "1           1959               6             3             ...               \n",
       "2           1959               6             3             ...               \n",
       "3           1959               6             3             ...               \n",
       "4           1959               6             3             ...               \n",
       "\n",
       "  location_id  provider_id  care_site_id  person_source_value  \\\n",
       "0           0            0             0               329876   \n",
       "1           0            0             0               329876   \n",
       "2           0            0             0               329876   \n",
       "3           0            0             0               329876   \n",
       "4           0            0             0               329876   \n",
       "\n",
       "   gender_source_value  gender_source_concept_id race_source_value  \\\n",
       "0                    F                   1001001                 B   \n",
       "1                    F                   1001001                 B   \n",
       "2                    F                   1001001                 B   \n",
       "3                    F                   1001001                 B   \n",
       "4                    F                   1001001                 B   \n",
       "\n",
       "  race_source_concept_id  ethnicity_source_value ethnicity_source_concept_id  \n",
       "0                   1000                      NH                     1101000  \n",
       "1                   1000                      NH                     1101000  \n",
       "2                   1000                      NH                     1101000  \n",
       "3                   1000                      NH                     1101000  \n",
       "4                   1000                      NH                     1101000  \n",
       "\n",
       "[5 rows x 23 columns]"
      ]
     },
     "execution_count": 14,
     "metadata": {},
     "output_type": "execute_result"
    }
   ],
   "source": [
    "persons_measurements_dataframe.head(5)"
   ]
  },
  {
   "cell_type": "markdown",
   "metadata": {},
   "source": [
    "In this example, both systolic and diastolic blood pressure are returned with integer values. The units for these measurements are described in the unit_concept_id column as \"8876.\" Searching for the id \"8876\" withing [ODHSI's Athena tool](http://athena.ohdsi.org/) will yield the following results page: http://athena.ohdsi.org/search-terms/terms/8876. Here you can learn that a concept ID of 8876 refers to the mm[Hg] unit. "
   ]
  },
  {
   "cell_type": "code",
   "execution_count": null,
   "metadata": {},
   "outputs": [],
   "source": []
  }
 ],
 "metadata": {
  "kernelspec": {
   "display_name": "Python 3",
   "language": "python",
   "name": "python3"
  },
  "language_info": {
   "codemirror_mode": {
    "name": "ipython",
    "version": 3
   },
   "file_extension": ".py",
   "mimetype": "text/x-python",
   "name": "python",
   "nbconvert_exporter": "python",
   "pygments_lexer": "ipython3",
   "version": "3.4.2"
  },
  "toc": {
   "base_numbering": 1,
   "nav_menu": {},
   "number_sections": true,
   "sideBar": true,
   "skip_h1_title": false,
   "title_cell": "Table of Contents",
   "title_sidebar": "Contents",
   "toc_cell": false,
   "toc_position": {},
   "toc_section_display": true,
   "toc_window_display": false
  }
 },
 "nbformat": 4,
 "nbformat_minor": 2
}
