{
 "cells": [
  {
   "cell_type": "markdown",
   "metadata": {},
   "source": [
    "## Jupter Notebooks for Beginners\n",
    "### Objectives:\n",
    "* Describe why notebooks are used in biomedical research.\n",
    "* Understand the relationship between the notebook and the workspace.\n",
    "* Apply notebook basics: how to use a notebook, install packages, and import modules.\n",
    "* Learn about common libraries in data analysis and explore popular tutorial notebooks."
   ]
  },
  {
   "cell_type": "markdown",
   "metadata": {},
   "source": [
    "### Vocabulary:\n",
    "1. notebook - \"an open-source web application that allows you to create and share documents that contain live code, equations, visualizations and narrative text\" -[Jupyter.org](http://jupyter.org/)\n",
    "2. cell - notebooks are made of cells, which are rectangular boxes you execute code in. \n",
    "3. kernel - is the program that runs and introspects your code in the background. The type of kernel will indicate what [language](https://github.com/jupyter/jupyter/wiki/Jupyter-kernels) you can write in the notebook. AoU supports Python and R kernels. \n",
    "4. library - a collection of functions and methods that allows you to perform several operations without writing your own code. A library could contain several modules.\n",
    "5. modules - code that provides a piece of functionality. \n",
    "6. Markdown - is a lightweight markup language with plain text formatting syntax. It can be used to write text in a cell."
   ]
  },
  {
   "cell_type": "markdown",
   "metadata": {},
   "source": [
    "### Resources:\n",
    "- Article about the use of notebooks in research | [Interactive notebooks: Sharing the code](https://www.nature.com/news/interactive-notebooks-sharing-the-code-1.16261) | by Helen Shen, 5 Nov 2014\n",
    "- Article about the history of the notebook & it's importance in modern day research | [The Scientific Paper Is Obsolete](https://www.theatlantic.com/science/archive/2018/04/the-scientific-paper-is-obsolete/556676/) | by James Somers, 5 Apr 2018"
   ]
  },
  {
   "cell_type": "markdown",
   "metadata": {},
   "source": [
    "### Section 1: Notebooks in a Biomedical context"
   ]
  },
  {
   "cell_type": "markdown",
   "metadata": {},
   "source": [
    "#### Why are notebooks used in biomedical research?"
   ]
  },
  {
   "cell_type": "markdown",
   "metadata": {},
   "source": [
    "Try to answer this question in the cell below by: \n",
    "1. Clicking on the cell\n",
    "2. Change the dropdown box in the menubar above from \"Code\" to \"Markdown\".\n",
    "3. When you are done providing an answer click the play button in the menubar or use the short-cut (Shift-Enter).\n"
   ]
  },
  {
   "cell_type": "code",
   "execution_count": null,
   "metadata": {},
   "outputs": [],
   "source": [
    "#type answer here"
   ]
  },
  {
   "cell_type": "markdown",
   "metadata": {},
   "source": [
    "Good work - by typing in your answer and executing the cell, you just used a notebook! You can see how Markdown can be used in a cell to simply type narrative text. Now for the answer...\n",
    "##### Answer:\n",
    "Notebooks make it easy to record and reproduce data analysis steps. Because biomedical research involves data analysis to get insights, researchers are finding it to be a useful tool to record, share, and reproduce analyses. Within each cell of a notebook you can use code, like Python, R, or other languages, to execute commands to manipulate and explore your data. People have built libraries of code in a variety of languages that you can import and use to perform different operations. Once an operation that creates an output is executed in a cell, the output will display in a new cell directly underneath the original cell. This layout records each step you take and when shared, someone else can see how you have manipulated the data and execute the cells to reproduce your analysis. \n",
    "\n",
    "Researchers are publishing their notebooks alongside publications to lend extra detail as to how they got to their results and to make it easy for others to reproduce or replicate their analysis. There is only so much detail a scientific journal can capture given the physical space limitations; the code tells you much more. When others query your notebook, they can poke around and even build on your findings. You won't end up with questions you can't answer because you forgot what you did eight years ago, for example. They can easily access your methods and apply them to other populations. \n",
    "\n",
    "In summary, for accelerating the speed of scientific findings, it benefits everyone for you to record your research in this way. "
   ]
  },
  {
   "cell_type": "markdown",
   "metadata": {},
   "source": [
    "#### What is the relationship between the notebook and the workspace?"
   ]
  },
  {
   "cell_type": "markdown",
   "metadata": {},
   "source": [
    "The workspace is the homebase of your project where all the components to your analysis live: notebooks, data, and methods. You can create a cohort in the cohort builder and interactively query the data inside of a notebook or go right to the notebook and create one there. When you are finished, you can save your notebook to the workspace to access it again later. If you share your workspace, others can access your notebook too."
   ]
  },
  {
   "cell_type": "markdown",
   "metadata": {},
   "source": [
    "### Section 2: Notebook Basics"
   ]
  },
  {
   "cell_type": "markdown",
   "metadata": {},
   "source": [
    "#### 1. Take the preinstalled User Interface Tour (3 min or less)\n",
    "1. Go to Help -> User Interface Tour"
   ]
  },
  {
   "cell_type": "markdown",
   "metadata": {},
   "source": [
    "#### 2. How to execute a cell... plus when to know the cell is done executing!\n",
    "**Try these steps in the cell below.**\n",
    "1. Click on the cell\n",
    "2. The cell will default to \"Code\" mode. If you want to use Markdown, Heading, or Raw NBConvert in the cell, go to the dropdown in the menubar that says \"Code\" and change it. Type in some text and see how the kernel interacts in each mode. Click the box icon (stop) to stop the operation.\n",
    "3. When you are ready to execute the cell, click the play button in the menu-bar or use the short-cut (Shift-Enter). There are several options for executing cells underneath **Cell** in the menubar.\n",
    "4. You know the cell is done executing when **In [*]**  turns to **In [a number]**.\n",
    "\n",
    "\n"
   ]
  },
  {
   "cell_type": "code",
   "execution_count": null,
   "metadata": {},
   "outputs": [],
   "source": []
  },
  {
   "cell_type": "markdown",
   "metadata": {},
   "source": [
    "#### 3. How to add or remove cells\n",
    "\n",
    "To add a cell you have the following options:\n",
    "* click the + icon in the menubar\n",
    "* Insert -> Choose Cell Above or Below your current cell\n",
    "* press ESC A\n",
    "\n",
    "\n",
    "To remove a cell you have the following options:\n",
    "* click the scissors icon in the menubar\n",
    "* Edit -> Delete or Cut cells\n",
    "* press ESC X (for cut) ESC d d (for delete)\n",
    "\n",
    "**Try removing the cell under number 2. Try adding a cell under number 6.**"
   ]
  },
  {
   "cell_type": "markdown",
   "metadata": {},
   "source": [
    "#### 4. How to change the kernel (Python 2, Python 3, R)\n",
    "\n",
    "1. Click Kernel -> Change Kernel -> Choose the language/version you want"
   ]
  },
  {
   "cell_type": "markdown",
   "metadata": {},
   "source": [
    "#### 5. How to import a notebook\n",
    "\n",
    "1. File -> Open\n",
    "2. A new browser window will open up with a list of all the notebooks in your workspace. Click Upload. Navigate to where your notebook is saved. Cick Open."
   ]
  },
  {
   "cell_type": "markdown",
   "metadata": {},
   "source": [
    "#### 6. How to install a package ... Example of installing aou-workbench-client\n",
    "`pip` is a package management system used to install and manage software packages written in Python. We use it here to install the AoU Python client library.\n",
    "Try these steps below:\n",
    "1. If you have not created a cell (Step 3), create a cell below.\n",
    "2. Copy and paste this command in the cell: !pip install --user --upgrade 'https://github.com/all-of-us/pyclient/archive/pyclient-v1-11.zip#egg=aou_workbench_client&subdirectory=py'\n",
    "3. Execute the cell (Step 2)\n"
   ]
  },
  {
   "cell_type": "markdown",
   "metadata": {},
   "source": [
    "#### 7. How to import a module or library\n",
    "You import modules to get access to specific classes, objects, or functions. Some popular libraries for data analysis are categorized below in each cell (go to Help in the menubar to be directed to their sites). Execute the cell to import it. Notice `as` is used to define an alias, which can be used to call the library instead of typing out the full name in every cell afterwards. "
   ]
  },
  {
   "cell_type": "code",
   "execution_count": null,
   "metadata": {},
   "outputs": [],
   "source": [
    "# Scientific computing in python\n",
    "import NumPy as np"
   ]
  },
  {
   "cell_type": "code",
   "execution_count": null,
   "metadata": {},
   "outputs": [],
   "source": [
    "# Data visualizations\n",
    "import matplotlib as mpl"
   ]
  },
  {
   "cell_type": "code",
   "execution_count": null,
   "metadata": {},
   "outputs": [],
   "source": [
    "# Data analysis tools and data structures like the DataFrame\n",
    "import pandas as pd"
   ]
  },
  {
   "cell_type": "code",
   "execution_count": null,
   "metadata": {},
   "outputs": [],
   "source": [
    "# Statistical data visualization, site: https://seaborn.pydata.org/\n",
    "import seaborn as sb"
   ]
  },
  {
   "cell_type": "code",
   "execution_count": null,
   "metadata": {},
   "outputs": [],
   "source": [
    "# Exploring and analyzing genomic data, site: https://hail.is/index.html\n",
    "import hail as hl"
   ]
  },
  {
   "cell_type": "markdown",
   "metadata": {},
   "source": [
    "### Section 3: Example Tutorial Notebooks\n",
    "\n",
    "#### See how you can use notebooks to learn a new topic\n",
    "#### Learning Python\n",
    "* [Learning to code with Python](Learning to code with Python, part of an introduction to Python from the Waterloo Python users group.), part of an introduction to Python from the Waterloo Python users group.\n",
    "\n",
    "Not a notebook, but good: Code Academy's free [Python course](https://www.codecademy.com/learn/learn-python)\n",
    "\n",
    "#### Learning R\n",
    "* Links\n",
    "\n",
    "#### Learning anything\n",
    "* Check out this gallery of interesting Notebooks: https://github.com/jupyter/jupyter/wiki/A-gallery-of-interesting-Jupyter-Notebooks\n",
    "\n",
    "#### Reproducible Academic Publications\n",
    "* Here is a [list of academic publications](https://github.com/jupyter/jupyter/wiki/A-gallery-of-interesting-Jupyter-Notebooks#reproducible-academic-publications) with links to their notebooks.\n",
    "\n",
    "#### AoU example Notebooks\n",
    "* Link other AoU notebooks\n"
   ]
  },
  {
   "cell_type": "code",
   "execution_count": null,
   "metadata": {},
   "outputs": [],
   "source": []
  }
 ],
 "metadata": {
  "kernelspec": {
   "display_name": "Python 3",
   "language": "python",
   "name": "python3"
  },
  "language_info": {
   "codemirror_mode": {
    "name": "ipython",
    "version": 3
   },
   "file_extension": ".py",
   "mimetype": "text/x-python",
   "name": "python",
   "nbconvert_exporter": "python",
   "pygments_lexer": "ipython3",
   "version": "3.4.2"
  }
 },
 "nbformat": 4,
 "nbformat_minor": 2
}
